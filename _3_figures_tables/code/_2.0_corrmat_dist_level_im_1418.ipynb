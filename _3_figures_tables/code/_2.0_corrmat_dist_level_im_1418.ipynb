{
 "cells": [
  {
   "cell_type": "code",
   "execution_count": 1,
   "metadata": {},
   "outputs": [],
   "source": [
    "import numpy as np\n",
    "import pandas as pd\n",
    "import re\n",
    "from textab import TexTab\n",
    "import os"
   ]
  },
  {
   "cell_type": "code",
   "execution_count": 2,
   "metadata": {},
   "outputs": [],
   "source": [
    "current_folder = globals()['_dh'][0]\n",
    "rootdir = os.path.dirname(os.path.dirname(current_folder))\n",
    "wdir = os.path.join(rootdir, '_2_intermediate', 'data')\n",
    "outdir = os.path.join(rootdir, '_3_figures_tables', 'data')"
   ]
  },
  {
   "cell_type": "markdown",
   "metadata": {},
   "source": [
    "## 1980s (1990s)"
   ]
  },
  {
   "cell_type": "code",
   "execution_count": 3,
   "metadata": {},
   "outputs": [],
   "source": [
    "df = pd.read_csv(os.path.join(wdir,'_F_dist_religion_bch10.csv'))\n",
    "df = df[['iso', 'district', 'bch10', 'major_religion', 'immg_18', 'imdwmg_18']]\n",
    "# df = df[['iso', 'district', 'bch10', 'major_religion', 'immg_18', 'n_immg_18']]\n",
    "df = df[((df.bch10 == 1980) | \n",
    "         (df.bch10 == 1990)) &\n",
    "        ((df.major_religion == 'Christian') |\n",
    "         (df.major_religion == 'Muslim') |\n",
    "         (df.major_religion == 'Traditional'))].reset_index(drop=True)\n",
    "# df = df[df.n_immg_18 > 10].reset_index(drop=False)\n",
    "df.index = [df.iso, df.district, df.bch10, df.major_religion]\n",
    "df = df.drop(['iso', 'district', 'bch10', 'major_religion'], axis=1)\n",
    "df = df.unstack().reset_index(drop=False)\n",
    "df.columns = df.columns.droplevel()\n",
    "df.columns = ['iso', 'district', 'bd', 'u_c', 'u_m', 'u_t', 'd_c', 'd_m', 'd_t']\n",
    "df.index = [df.iso, df.district, df.bd]\n",
    "df = df.drop(['iso', 'district', 'bd'], axis=1)\n",
    "df = df.unstack().reset_index(drop=False)\n",
    "df.columns = df.columns.droplevel()\n",
    "df.columns = ['iso', 'district'] + ['{}_{}'.format(var, bd) \n",
    "                                    for var in ['u_c', 'u_m', 'u_t', 'd_c', 'd_m', 'd_t'] \n",
    "                                    for bd in [1980, 1990]]\n",
    "\n",
    "# liberia, mali, nigeria, togo we use 1990s\n",
    "\n",
    "df.loc[(df.iso == 'LBR') |\n",
    "       (df.iso == 'MLI') |\n",
    "       (df.iso == 'NGA') |\n",
    "       (df.iso == 'TGO'), 'u_c_1980'] = df.u_c_1990\n",
    "\n",
    "df.loc[(df.iso == 'LBR') |\n",
    "       (df.iso == 'MLI') |\n",
    "       (df.iso == 'NGA') |\n",
    "       (df.iso == 'TGO'), 'u_m_1980'] = df.u_m_1990\n",
    "\n",
    "df.loc[(df.iso == 'LBR') |\n",
    "       (df.iso == 'MLI') |\n",
    "       (df.iso == 'NGA') |\n",
    "       (df.iso == 'TGO'), 'u_t_1980'] = df.u_t_1990\n",
    "\n",
    "df.loc[(df.iso == 'LBR') |\n",
    "       (df.iso == 'MLI') |\n",
    "       (df.iso == 'NGA') |\n",
    "       (df.iso == 'TGO'), 'd_c_1980'] = df.d_c_1990\n",
    "\n",
    "df.loc[(df.iso == 'LBR') |\n",
    "       (df.iso == 'MLI') |\n",
    "       (df.iso == 'NGA') |\n",
    "       (df.iso == 'TGO'), 'd_m_1980'] = df.d_m_1990\n",
    "\n",
    "df.loc[(df.iso == 'LBR') |\n",
    "       (df.iso == 'MLI') |\n",
    "       (df.iso == 'NGA') |\n",
    "       (df.iso == 'TGO'), 'd_t_1980'] = df.d_t_1990\n",
    "df1980 = df.drop(['u_c_1990', 'u_m_1990', 'u_t_1990', 'd_c_1990', 'd_m_1990', 'd_t_1990'], axis=1)"
   ]
  },
  {
   "cell_type": "markdown",
   "metadata": {},
   "source": [
    "## All birth decades"
   ]
  },
  {
   "cell_type": "code",
   "execution_count": 4,
   "metadata": {},
   "outputs": [],
   "source": [
    "df = pd.read_csv(os.path.join(wdir,'_F_dist_religion_bch10.csv'))\n",
    "df = df[['iso', 'district', 'bch10', 'major_religion', 'immg_18', 'n_immg_18', 'imdwmg_18', 'n_imdwmg_18']]\n",
    "df = df[(~pd.isnull(df.immg_18)) | (~pd.isnull(df.imdwmg_18)) ]\n",
    "df = df[df.major_religion.isin(['Christian', 'Muslim', 'Traditional'])]\n",
    "df['xu'] = df.immg_18 * df.n_immg_18\n",
    "df['xd'] = df.imdwmg_18 * df.n_imdwmg_18\n",
    "del df['immg_18'], df['imdwmg_18'], df['bch10']\n",
    "df = df[['n_immg_18', 'n_imdwmg_18', 'xu', 'xd']].groupby([df.iso, df.district, df.major_religion]).sum().reset_index(drop=False)\n",
    "# df = df[df.n_immg_18 > 10]\n",
    "df['u'] = df.xu / df.n_immg_18\n",
    "df['d'] = df.xd / df.n_imdwmg_18\n",
    "del df['xu'], df['xd'], df['n_immg_18'], df['n_imdwmg_18']\n",
    "df.index = [df.iso, df.district, df.major_religion]\n",
    "del df['iso'], df['district'], df['major_religion']\n",
    "df = df.unstack().reset_index(drop=False)\n",
    "df.columns = df.columns.droplevel()\n",
    "df.columns = ['iso', 'district', 'u_c', 'u_m', 'u_t', 'd_c', 'd_m', 'd_t']"
   ]
  },
  {
   "cell_type": "code",
   "execution_count": 5,
   "metadata": {},
   "outputs": [],
   "source": [
    "corrmat_all = np.zeros((6,6))\n",
    "corrmat_1980 = np.zeros((6,6))"
   ]
  },
  {
   "cell_type": "code",
   "execution_count": 6,
   "metadata": {},
   "outputs": [],
   "source": [
    "for i, c1 in enumerate(df.columns[2:]):\n",
    "    for j, c2 in enumerate(df.columns[2:]):\n",
    "        if i >= j:\n",
    "            d1 = df[(~pd.isnull(df[c1])) & (~pd.isnull(df[c2]))][c1].values\n",
    "            d2 = df[(~pd.isnull(df[c1])) & (~pd.isnull(df[c2]))][c2].values\n",
    "            corrmat_all[i,j] = np.corrcoef(d1, d2)[0,1]\n",
    "for i, c1 in enumerate(df1980.columns[2:]):\n",
    "    for j, c2 in enumerate(df1980.columns[2:]):\n",
    "        if i >= j:\n",
    "            d1 = df1980[(~pd.isnull(df1980[c1])) & (~pd.isnull(df1980[c2]))][c1].values\n",
    "            d2 = df1980[(~pd.isnull(df1980[c1])) & (~pd.isnull(df1980[c2]))][c2].values\n",
    "            corrmat_1980[i,j] = np.corrcoef(d1, d2)[0,1]"
   ]
  },
  {
   "cell_type": "code",
   "execution_count": 7,
   "metadata": {},
   "outputs": [
    {
     "data": {
      "text/html": [
       "<div>\n",
       "<style scoped>\n",
       "    .dataframe tbody tr th:only-of-type {\n",
       "        vertical-align: middle;\n",
       "    }\n",
       "\n",
       "    .dataframe tbody tr th {\n",
       "        vertical-align: top;\n",
       "    }\n",
       "\n",
       "    .dataframe thead th {\n",
       "        text-align: right;\n",
       "    }\n",
       "</style>\n",
       "<table border=\"1\" class=\"dataframe\">\n",
       "  <thead>\n",
       "    <tr style=\"text-align: right;\">\n",
       "      <th></th>\n",
       "      <th>direction</th>\n",
       "      <th>index</th>\n",
       "      <th>uc</th>\n",
       "      <th>um</th>\n",
       "      <th>ut</th>\n",
       "      <th>dc</th>\n",
       "      <th>dm</th>\n",
       "      <th>dt</th>\n",
       "    </tr>\n",
       "  </thead>\n",
       "  <tbody>\n",
       "    <tr>\n",
       "      <th>0</th>\n",
       "      <td></td>\n",
       "      <td>Christian</td>\n",
       "      <td>1.000</td>\n",
       "      <td>0.000</td>\n",
       "      <td>0.000</td>\n",
       "      <td>0.000</td>\n",
       "      <td>0.000</td>\n",
       "      <td>0.0</td>\n",
       "    </tr>\n",
       "    <tr>\n",
       "      <th>1</th>\n",
       "      <td>upward</td>\n",
       "      <td>Muslim</td>\n",
       "      <td>0.732</td>\n",
       "      <td>1.000</td>\n",
       "      <td>0.000</td>\n",
       "      <td>0.000</td>\n",
       "      <td>0.000</td>\n",
       "      <td>0.0</td>\n",
       "    </tr>\n",
       "    <tr>\n",
       "      <th>2</th>\n",
       "      <td></td>\n",
       "      <td>Traditional</td>\n",
       "      <td>0.724</td>\n",
       "      <td>0.603</td>\n",
       "      <td>1.000</td>\n",
       "      <td>0.000</td>\n",
       "      <td>0.000</td>\n",
       "      <td>0.0</td>\n",
       "    </tr>\n",
       "    <tr>\n",
       "      <th>3</th>\n",
       "      <td></td>\n",
       "      <td>Christian</td>\n",
       "      <td>-0.760</td>\n",
       "      <td>-0.606</td>\n",
       "      <td>-0.579</td>\n",
       "      <td>1.000</td>\n",
       "      <td>0.000</td>\n",
       "      <td>0.0</td>\n",
       "    </tr>\n",
       "    <tr>\n",
       "      <th>4</th>\n",
       "      <td>downward</td>\n",
       "      <td>Muslim</td>\n",
       "      <td>-0.625</td>\n",
       "      <td>-0.633</td>\n",
       "      <td>-0.444</td>\n",
       "      <td>0.615</td>\n",
       "      <td>1.000</td>\n",
       "      <td>0.0</td>\n",
       "    </tr>\n",
       "    <tr>\n",
       "      <th>5</th>\n",
       "      <td></td>\n",
       "      <td>Traditional</td>\n",
       "      <td>-0.600</td>\n",
       "      <td>-0.431</td>\n",
       "      <td>-0.581</td>\n",
       "      <td>0.525</td>\n",
       "      <td>0.388</td>\n",
       "      <td>1.0</td>\n",
       "    </tr>\n",
       "  </tbody>\n",
       "</table>\n",
       "</div>"
      ],
      "text/plain": [
       "  direction        index     uc     um     ut     dc     dm   dt\n",
       "0              Christian  1.000  0.000  0.000  0.000  0.000  0.0\n",
       "1    upward       Muslim  0.732  1.000  0.000  0.000  0.000  0.0\n",
       "2            Traditional  0.724  0.603  1.000  0.000  0.000  0.0\n",
       "3              Christian -0.760 -0.606 -0.579  1.000  0.000  0.0\n",
       "4  downward       Muslim -0.625 -0.633 -0.444  0.615  1.000  0.0\n",
       "5            Traditional -0.600 -0.431 -0.581  0.525  0.388  1.0"
      ]
     },
     "execution_count": 7,
     "metadata": {},
     "output_type": "execute_result"
    }
   ],
   "source": [
    "dfall = pd.DataFrame(corrmat_all,\n",
    "                     columns=['uc', 'um', 'ut', 'dc', 'dm', 'dt'],\n",
    "                     index=['Christian', 'Muslim', 'Traditional', 'Christian', 'Muslim', 'Traditional']).reset_index(drop=False)\n",
    "dfall['direction'] = ['', 'upward', '', '', 'downward', '']\n",
    "dfall = dfall[['direction', 'index'] + list(dfall.columns)[1:-1]]\n",
    "for col in dfall.columns[2:]:\n",
    "    dfall[col] = np.round(dfall[col], 3)\n",
    "dfall"
   ]
  },
  {
   "cell_type": "code",
   "execution_count": 8,
   "metadata": {},
   "outputs": [
    {
     "data": {
      "text/html": [
       "<div>\n",
       "<style scoped>\n",
       "    .dataframe tbody tr th:only-of-type {\n",
       "        vertical-align: middle;\n",
       "    }\n",
       "\n",
       "    .dataframe tbody tr th {\n",
       "        vertical-align: top;\n",
       "    }\n",
       "\n",
       "    .dataframe thead th {\n",
       "        text-align: right;\n",
       "    }\n",
       "</style>\n",
       "<table border=\"1\" class=\"dataframe\">\n",
       "  <thead>\n",
       "    <tr style=\"text-align: right;\">\n",
       "      <th></th>\n",
       "      <th>direction</th>\n",
       "      <th>index</th>\n",
       "      <th>uc</th>\n",
       "      <th>um</th>\n",
       "      <th>ut</th>\n",
       "      <th>dc</th>\n",
       "      <th>dm</th>\n",
       "      <th>dt</th>\n",
       "    </tr>\n",
       "  </thead>\n",
       "  <tbody>\n",
       "    <tr>\n",
       "      <th>0</th>\n",
       "      <td></td>\n",
       "      <td>Christian</td>\n",
       "      <td>1.000</td>\n",
       "      <td>0.000</td>\n",
       "      <td>0.000</td>\n",
       "      <td>0.000</td>\n",
       "      <td>0.000</td>\n",
       "      <td>0.0</td>\n",
       "    </tr>\n",
       "    <tr>\n",
       "      <th>1</th>\n",
       "      <td>upward</td>\n",
       "      <td>Muslim</td>\n",
       "      <td>0.675</td>\n",
       "      <td>1.000</td>\n",
       "      <td>0.000</td>\n",
       "      <td>0.000</td>\n",
       "      <td>0.000</td>\n",
       "      <td>0.0</td>\n",
       "    </tr>\n",
       "    <tr>\n",
       "      <th>2</th>\n",
       "      <td></td>\n",
       "      <td>Traditional</td>\n",
       "      <td>0.627</td>\n",
       "      <td>0.468</td>\n",
       "      <td>1.000</td>\n",
       "      <td>0.000</td>\n",
       "      <td>0.000</td>\n",
       "      <td>0.0</td>\n",
       "    </tr>\n",
       "    <tr>\n",
       "      <th>3</th>\n",
       "      <td></td>\n",
       "      <td>Christian</td>\n",
       "      <td>-0.648</td>\n",
       "      <td>-0.509</td>\n",
       "      <td>-0.461</td>\n",
       "      <td>1.000</td>\n",
       "      <td>0.000</td>\n",
       "      <td>0.0</td>\n",
       "    </tr>\n",
       "    <tr>\n",
       "      <th>4</th>\n",
       "      <td>downward</td>\n",
       "      <td>Muslim</td>\n",
       "      <td>-0.558</td>\n",
       "      <td>-0.585</td>\n",
       "      <td>-0.389</td>\n",
       "      <td>0.543</td>\n",
       "      <td>1.000</td>\n",
       "      <td>0.0</td>\n",
       "    </tr>\n",
       "    <tr>\n",
       "      <th>5</th>\n",
       "      <td></td>\n",
       "      <td>Traditional</td>\n",
       "      <td>-0.450</td>\n",
       "      <td>-0.311</td>\n",
       "      <td>-0.437</td>\n",
       "      <td>0.396</td>\n",
       "      <td>0.292</td>\n",
       "      <td>1.0</td>\n",
       "    </tr>\n",
       "  </tbody>\n",
       "</table>\n",
       "</div>"
      ],
      "text/plain": [
       "  direction        index     uc     um     ut     dc     dm   dt\n",
       "0              Christian  1.000  0.000  0.000  0.000  0.000  0.0\n",
       "1    upward       Muslim  0.675  1.000  0.000  0.000  0.000  0.0\n",
       "2            Traditional  0.627  0.468  1.000  0.000  0.000  0.0\n",
       "3              Christian -0.648 -0.509 -0.461  1.000  0.000  0.0\n",
       "4  downward       Muslim -0.558 -0.585 -0.389  0.543  1.000  0.0\n",
       "5            Traditional -0.450 -0.311 -0.437  0.396  0.292  1.0"
      ]
     },
     "execution_count": 8,
     "metadata": {},
     "output_type": "execute_result"
    }
   ],
   "source": [
    "df1980 = pd.DataFrame(corrmat_1980,\n",
    "                     columns=['uc', 'um', 'ut', 'dc', 'dm', 'dt'],\n",
    "                     index=['Christian', 'Muslim', 'Traditional', 'Christian', 'Muslim', 'Traditional']).reset_index(drop=False)\n",
    "df1980['direction'] = ['', 'upward', '', '', 'downward', '']\n",
    "df1980 = df1980[['direction', 'index'] + list(df1980.columns)[1:-1]]\n",
    "for col in df1980.columns[2:]:\n",
    "    df1980[col] = np.round(df1980[col], 3)\n",
    "df1980"
   ]
  },
  {
   "cell_type": "markdown",
   "metadata": {},
   "source": [
    "## writing .tex tables"
   ]
  },
  {
   "cell_type": "markdown",
   "metadata": {},
   "source": [
    "### all birth decades"
   ]
  },
  {
   "cell_type": "code",
   "execution_count": 9,
   "metadata": {},
   "outputs": [],
   "source": [
    "tt = TexTab(dfall)"
   ]
  },
  {
   "cell_type": "code",
   "execution_count": 10,
   "metadata": {},
   "outputs": [],
   "source": [
    "cns = ['', '', 'Christian', 'Muslim', 'Traditional', 'Christian', 'Muslim', 'Traditional']\n",
    "lcols = ['direction', 'index']\n",
    "gaps = ['']\n",
    "cap = \"Correlation matrix, district-level IM, ages 14-18, all birth decades\"\n",
    "lab = \"tab:_corrmat_im_dist_majrel_1418_allbch\"\n",
    "lines = []\n",
    "notes = '''TABLES NOTES.\n",
    "'''"
   ]
  },
  {
   "cell_type": "code",
   "execution_count": 11,
   "metadata": {},
   "outputs": [],
   "source": [
    "tab = tt.create_tab_onepanel(cns=cns, gaps=gaps, lcols=lcols,\n",
    "                             cap=cap, lab=lab, lines=lines, notes=notes, clines=False)\n",
    "nl = '&&\\\\\\\\multicolumn{3}{c|}{upward}&\\\\\\\\multicolumn{3}{c|}{downward}\\\\\\\\\\\\\\n'\n",
    "tab = re.sub(r'&&\\(1\\).+\\n', r'%s' % nl, tab)\n",
    "tab = re.sub(r'llcccccc', r'|l|l|cccccc|', tab)\n",
    "tab = re.sub(r'\\\\columnwidth', r'0.8\\\\columnwidth', tab)\n",
    "tab = re.sub(r'&0.0', r'&', tab)\n",
    "tab = re.sub(r'Traditional(&Christian)', r'\\\\multicolumn{1}{c|}{Traditional}\\1', tab)\n",
    "tab = re.sub(r'(&&&\\\\\\\\\\n)(&Christian)', r'\\1\\\\cline{1-2}\\n\\2', tab)"
   ]
  },
  {
   "cell_type": "code",
   "execution_count": 12,
   "metadata": {},
   "outputs": [],
   "source": [
    "fh = open(outdir + \"/_2_corrmat_dist_im_majrel_1418_allbch.tex\", \"w\")\n",
    "fh.write(tab)\n",
    "fh.close()"
   ]
  },
  {
   "cell_type": "markdown",
   "metadata": {},
   "source": [
    "### 1980s"
   ]
  },
  {
   "cell_type": "code",
   "execution_count": 13,
   "metadata": {},
   "outputs": [],
   "source": [
    "tt = TexTab(df1980)"
   ]
  },
  {
   "cell_type": "code",
   "execution_count": 14,
   "metadata": {},
   "outputs": [],
   "source": [
    "cns = ['', '', 'Christian', 'Muslim', 'Traditional', 'Christian', 'Muslim', 'Traditional']\n",
    "lcols = ['direction', 'index']\n",
    "gaps = ['']\n",
    "cap = \"Correlation matrix, district-level IM, ages 14-18, 1980s\"\n",
    "lab = \"tab:_corrmat_im_dist_majrel_1418_1980bch\"\n",
    "lines = []\n",
    "notes = '''TABLES NOTES.\n",
    "'''"
   ]
  },
  {
   "cell_type": "code",
   "execution_count": 15,
   "metadata": {},
   "outputs": [],
   "source": [
    "tab = tt.create_tab_onepanel(cns=cns, gaps=gaps, lcols=lcols,\n",
    "                             cap=cap, lab=lab, lines=lines, notes=notes, clines=False)\n",
    "nl = '&&\\\\\\\\multicolumn{3}{c|}{upward}&\\\\\\\\multicolumn{3}{c|}{downward}\\\\\\\\\\\\\\n'\n",
    "tab = re.sub(r'&&\\(1\\).+\\n', r'%s' % nl, tab)\n",
    "tab = re.sub(r'llcccccc', r'|l|l|cccccc|', tab)\n",
    "tab = re.sub(r'\\\\columnwidth', r'0.8\\\\columnwidth', tab)\n",
    "tab = re.sub(r'&0.0', r'&', tab)\n",
    "tab = re.sub(r'Traditional(&Christian)', r'\\\\multicolumn{1}{c|}{Traditional}\\1', tab)\n",
    "tab = re.sub(r'(&&&\\\\\\\\\\n)(&Christian)', r'\\1\\\\cline{1-2}\\n\\2', tab)"
   ]
  },
  {
   "cell_type": "code",
   "execution_count": 16,
   "metadata": {},
   "outputs": [],
   "source": [
    "fh = open(outdir + \"/_2_corrmat_dist_im_majrel_1418_1980bch.tex\", \"w\")\n",
    "fh.write(tab)\n",
    "fh.close()"
   ]
  }
 ],
 "metadata": {
  "kernelspec": {
   "display_name": "Python 3",
   "language": "python",
   "name": "python3"
  },
  "language_info": {
   "codemirror_mode": {
    "name": "ipython",
    "version": 3
   },
   "file_extension": ".py",
   "mimetype": "text/x-python",
   "name": "python",
   "nbconvert_exporter": "python",
   "pygments_lexer": "ipython3",
   "version": "3.9.4"
  }
 },
 "nbformat": 4,
 "nbformat_minor": 4
}
