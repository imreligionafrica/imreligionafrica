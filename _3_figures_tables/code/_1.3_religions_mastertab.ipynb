{
 "cells": [
  {
   "cell_type": "code",
   "execution_count": 1,
   "metadata": {},
   "outputs": [],
   "source": [
    "import pandas as pd\n",
    "import numpy as np\n",
    "import country_converter as coco\n",
    "import os"
   ]
  },
  {
   "cell_type": "code",
   "execution_count": 2,
   "metadata": {},
   "outputs": [],
   "source": [
    "current_folder = globals()['_dh'][0]\n",
    "rootdir = os.path.dirname(os.path.dirname(current_folder))\n",
    "wdir = os.path.join(rootdir, '_2_intermediate', 'data')\n",
    "outdir = os.path.join(rootdir, '_3_figures_tables', 'data')"
   ]
  },
  {
   "cell_type": "code",
   "execution_count": 3,
   "metadata": {},
   "outputs": [],
   "source": [
    "df = pd.read_csv(os.path.join(wdir, 'religions__mastertab.csv'))\n",
    "df['country'] =  coco.convert(names=list(df['iso']), to='name_short')\n",
    "df = df[~pd.isnull(df.major_religion)].sort_values(['iso', 'shr', 'shrorg'], ascending=[True, False, False]).reset_index(drop=True).copy(deep=True)\n",
    "df = df[['country'] + list(df.columns)[1:-1]]\n",
    "df = df[['country',\n",
    "         'religiond_str',\n",
    "         'nrorg',\n",
    "         'shrorg',\n",
    "         'nrorge',\n",
    "         'shrorge',\n",
    "         'major_religion',\n",
    "         'nr',\n",
    "         'shr',\n",
    "         'nre',\n",
    "         'shre']]\n",
    "\n",
    "df.columns = ['country',\n",
    "              'detailed religion name, IPUMS',\n",
    "              'number of observations in religion', \n",
    "              'group share, religion', \n",
    "              'number of observations in religion with education of the old observed',\n",
    "              'group share, religion with education of the old observed',\n",
    "              'major religion name',\n",
    "              'number of observations in major religion', \n",
    "              'group share, major religion', \n",
    "              'number of observations in major religion with education of the old observed',\n",
    "              'group share, major religion with education of the old observed']              "
   ]
  },
  {
   "cell_type": "markdown",
   "metadata": {},
   "source": [
    "an annoying bit of cleanup. this is just due to mislabelling, the data are correct"
   ]
  },
  {
   "cell_type": "code",
   "execution_count": 4,
   "metadata": {},
   "outputs": [],
   "source": [
    "df.loc[(df.country == 'Benin') & (df['detailed religion name, IPUMS'] == 'Other, Rwanda'), 'detailed religion name, IPUMS'] = 'Other, Benin'\n",
    "df.loc[(df.country == 'Botswana') & (df['detailed religion name, IPUMS'] == 'Other, Rwanda'), 'detailed religion name, IPUMS'] = 'Other, Botswana'\n",
    "df.loc[(df.country == 'Egypt') & (df['detailed religion name, IPUMS'] == 'Other, Rwanda'), 'detailed religion name, IPUMS'] = 'Other, Egypt'\n",
    "df.loc[(df.country == 'Sierra Leone') & (df['detailed religion name, IPUMS'] == 'Other, Rwanda'), 'detailed religion name, IPUMS'] = 'Other, Sierra Leone'\n",
    "df.loc[(df.country == 'Uganda') & (df['detailed religion name, IPUMS'] == 'Other, Rwanda'), 'detailed religion name, IPUMS'] = 'Other, Uganda'\n",
    "df.loc[(df.country == 'South Africa') & (df['detailed religion name, IPUMS'] == 'Other, Rwanda'), 'detailed religion name, IPUMS'] = 'Other, South Africa'\n",
    "df.loc[(df.country == 'Zambia') & (df['detailed religion name, IPUMS'] == 'Other, Rwanda'), 'detailed religion name, IPUMS'] = 'Other, Zambia'"
   ]
  },
  {
   "cell_type": "markdown",
   "metadata": {},
   "source": [
    "# Writing the table"
   ]
  },
  {
   "cell_type": "markdown",
   "metadata": {},
   "source": [
    "## Column names"
   ]
  },
  {
   "cell_type": "code",
   "execution_count": 5,
   "metadata": {},
   "outputs": [],
   "source": [
    "chlen = 16\n",
    "incols = []\n",
    "for col in df.columns[1:]:\n",
    "    il = col.split(' ')\n",
    "    ol = []\n",
    "    thislen = 0\n",
    "    thisline = []\n",
    "    for word in il:\n",
    "        if len(word) + thislen <= chlen:\n",
    "            thisline.append(word)\n",
    "            thislen += len(word)\n",
    "        else:\n",
    "            ol.append(thisline)\n",
    "            thislen = len(word)\n",
    "            thisline = [word]\n",
    "    ol.append(thisline)\n",
    "    incols.append(ol)\n",
    "maxlen = max([len(subl) for subl in incols])\n",
    "for subl in incols:\n",
    "    while len(subl) < maxlen:\n",
    "        subl.append([])\n",
    "outcols = []\n",
    "for col in incols:\n",
    "    outlines = []\n",
    "    for line in col:\n",
    "        outlines.append(\" \".join(line))\n",
    "    outcols.append(outlines)"
   ]
  },
  {
   "cell_type": "markdown",
   "metadata": {},
   "source": [
    "## Header"
   ]
  },
  {
   "cell_type": "code",
   "execution_count": 6,
   "metadata": {},
   "outputs": [],
   "source": [
    "l1 = \"\\\\tiny\\n\"\n",
    "l2 = \"\\singlespacing\\n\"\n",
    "l3 = \"\\\\begin{longtable}{l*{\" + '{}'.format(df.shape[1]-1) + \"}l}\\n\"\n",
    "l4 = \"\\\\caption{Religious groups by country and their sizes}\\n\"\n",
    "l5 = \"\\\\label{app:tab:groups}\\\\\\\\\\n\"\n",
    "l6 = \"\\\\hline\\n\"\n",
    "l7 = ''.join(['({}) & '.format(i+1)  if i < df.shape[1]-2 else '({})'.format(i+1) for i in range(df.shape[1]-1)]) + \"\\\\\\\\\\n\"\n",
    "l8 = \"\\\\hline\\n\"\n",
    "l9l = []\n",
    "l9l.append([])\n",
    "l9l.append([])\n",
    "l9l.append([])\n",
    "l9l.append([])\n",
    "l9l.append([])\n",
    "l9l.append([])\n",
    "for idc, col in enumerate(outcols):\n",
    "    for idl, line in enumerate(col):\n",
    "        if idc == 0:\n",
    "            l9l[idl].append(line)\n",
    "        else:\n",
    "            l9l[idl].append(\"&\"+line)\n",
    "            \n",
    "l9 = ''\n",
    "for l9i in l9l:\n",
    "    l9+=\"\".join(l9i)+\"\\\\\\\\ \\n\"\n",
    "l9+=\"\\\\hline\\\\hline \\n\"\n",
    "\n",
    "l10 = \"\\\\endfirsthead\\n\"\n",
    "l11 = \"\\\\caption{Religious groups by country and their sizes, continued}\\\\\\\\\\n\"\n",
    "l12 = l6\n",
    "l13 = l7\n",
    "l14 = l8\n",
    "l15 = l9\n",
    "l16 = \"\\\\endhead\\n\""
   ]
  },
  {
   "cell_type": "code",
   "execution_count": 7,
   "metadata": {},
   "outputs": [],
   "source": [
    "header = l1+l2+l3+l4+l5+l6+l7+l8+l9+l10+l11+l12+l13+l14+l15+l16"
   ]
  },
  {
   "cell_type": "markdown",
   "metadata": {},
   "source": [
    "## Body"
   ]
  },
  {
   "cell_type": "code",
   "execution_count": 8,
   "metadata": {},
   "outputs": [],
   "source": [
    "body = '\\\\multicolumn{10}{l}{\\\\textbf{Benin}}\\\\\\\\\\n\\\\hline\\n'\n",
    "country = \"Benin\"\n",
    "rows = df.shape[0]\n",
    "cols = df.shape[1]\n",
    "for i in range(rows):\n",
    "    countryi = df.iloc[i,0]\n",
    "    \n",
    "    if countryi != country:\n",
    "        row = '\\\\hline\\n\\\\multicolumn{10}{l}{}\\\\\\\\\\n'\n",
    "        row += '\\\\multicolumn{10}{l}{\\\\textbf{' + countryi + '}}\\\\\\\\\\n\\\\hline\\n'\n",
    "        country = countryi\n",
    "\n",
    "    else:\n",
    "        row = ''\n",
    "    for j in range(1, cols):\n",
    "        if j == 1:\n",
    "            row+=\"{}\".format(df.iloc[i,j])\n",
    "        elif 'str' in str(type(df.iloc[i,j])) or 'float' in str(type(df.iloc[i,j])):\n",
    "            if 'float' in str(type(df.iloc[i,j])):\n",
    "                row+=f\"&{df.iloc[i,j]:.3f}\"\n",
    "            else:\n",
    "                row+=\"&{}\".format(df.iloc[i,j])\n",
    "        elif 'int' in str(type(df.iloc[i,j])):\n",
    "            row+=\"&{:,}\".format(df.iloc[i,j])\n",
    "\n",
    "    row += \"\\\\\\\\ \\n\"\n",
    "    body +=row\n",
    "body+=\"\\\\hline\\n\""
   ]
  },
  {
   "cell_type": "markdown",
   "metadata": {},
   "source": [
    "## Footer"
   ]
  },
  {
   "cell_type": "code",
   "execution_count": 9,
   "metadata": {},
   "outputs": [],
   "source": [
    "l1 = \"\\\\end{longtable}\\n\"\n",
    "l2 = \"\\\\vspace{-0.8cm}\\n\"\n",
    "l3 = \"\\\\begin{table}[H]\\n\"\n",
    "l4 = \"\\\\captionsetup{size=scriptsize, justification=justified, width=\\columnwidth}\\n\"\n",
    "l5 = '''\\\\caption*{\\\\textbf{DETAILED TABLE NOTES}}\\n'''\n",
    "l6 = \"\\\\end{table}\\n\"\n",
    "l7 = \"\\onehalfspacing\""
   ]
  },
  {
   "cell_type": "code",
   "execution_count": 10,
   "metadata": {},
   "outputs": [],
   "source": [
    "footer=l1+l2+l3+l4+l5+l6+l7"
   ]
  },
  {
   "cell_type": "markdown",
   "metadata": {},
   "source": [
    "## Final cleanup and writing"
   ]
  },
  {
   "cell_type": "code",
   "execution_count": 11,
   "metadata": {},
   "outputs": [],
   "source": [
    "textab = header+body+footer"
   ]
  },
  {
   "cell_type": "code",
   "execution_count": 12,
   "metadata": {},
   "outputs": [],
   "source": [
    "textab = textab.replace('Full Gospel Church of God in Southern Africa', 'Full Gospel Church of God in SA')\n",
    "textab = textab.replace('International Fellowship of Christian Churches', \"Int'l Fellowship of Chr. Churches\")\n",
    "textab = textab.replace('Christian, Protestant Pentecostal', \"Christian, Prot. Pentecostal\")"
   ]
  },
  {
   "cell_type": "code",
   "execution_count": 13,
   "metadata": {},
   "outputs": [],
   "source": [
    "fh = open(outdir + \"/_apptab_groups.tex\", \"w\")\n",
    "fh.write(textab)\n",
    "fh.close()"
   ]
  }
 ],
 "metadata": {
  "kernelspec": {
   "display_name": "Python 3",
   "language": "python",
   "name": "python3"
  },
  "language_info": {
   "codemirror_mode": {
    "name": "ipython",
    "version": 3
   },
   "file_extension": ".py",
   "mimetype": "text/x-python",
   "name": "python",
   "nbconvert_exporter": "python",
   "pygments_lexer": "ipython3",
   "version": "3.9.4"
  }
 },
 "nbformat": 4,
 "nbformat_minor": 4
}
