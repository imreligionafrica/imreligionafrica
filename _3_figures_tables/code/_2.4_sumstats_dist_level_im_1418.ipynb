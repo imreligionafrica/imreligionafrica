{
 "cells": [
  {
   "cell_type": "code",
   "execution_count": 1,
   "metadata": {},
   "outputs": [],
   "source": [
    "import numpy as np\n",
    "import pandas as pd\n",
    "import re\n",
    "from textab import TexTab\n",
    "import os"
   ]
  },
  {
   "cell_type": "code",
   "execution_count": 2,
   "metadata": {},
   "outputs": [],
   "source": [
    "current_folder = globals()['_dh'][0]\n",
    "rootdir = os.path.dirname(os.path.dirname(current_folder))\n",
    "wdir = os.path.join(rootdir, '_2_intermediate', 'data')\n",
    "outdir = os.path.join(rootdir, '_3_figures_tables', 'data')"
   ]
  },
  {
   "cell_type": "markdown",
   "metadata": {},
   "source": [
    "## 1980s (1990s)"
   ]
  },
  {
   "cell_type": "code",
   "execution_count": 3,
   "metadata": {},
   "outputs": [],
   "source": [
    "df = pd.read_csv(os.path.join(wdir,'_F_dist_religion_bch10.csv'))\n",
    "df = df[['iso', 'district', 'bch10', 'major_religion', 'immg_18', 'imdwmg_18']]\n",
    "# df = df[['iso', 'district', 'bch10', 'major_religion', 'immg_18', 'n_immg_18']]\n",
    "df = df[((df.bch10 == 1980) | \n",
    "         (df.bch10 == 1990)) &\n",
    "        ((df.major_religion == 'Christian') |\n",
    "         (df.major_religion == 'Muslim') |\n",
    "         (df.major_religion == 'Traditional'))].reset_index(drop=True)\n",
    "# df = df[df.n_immg_18 > 10].reset_index(drop=False)\n",
    "df.index = [df.iso, df.district, df.bch10, df.major_religion]\n",
    "df = df.drop(['iso', 'district', 'bch10', 'major_religion'], axis=1)\n",
    "df = df.unstack().reset_index(drop=False)\n",
    "df.columns = df.columns.droplevel()\n",
    "df.columns = ['iso', 'district', 'bd', 'u_c', 'u_m', 'u_t', 'd_c', 'd_m', 'd_t']\n",
    "df.index = [df.iso, df.district, df.bd]\n",
    "df = df.drop(['iso', 'district', 'bd'], axis=1)\n",
    "df = df.unstack().reset_index(drop=False)\n",
    "df.columns = df.columns.droplevel()\n",
    "df.columns = ['iso', 'district'] + ['{}_{}'.format(var, bd) \n",
    "                                    for var in ['u_c', 'u_m', 'u_t', 'd_c', 'd_m', 'd_t'] \n",
    "                                    for bd in [1980, 1990]]\n",
    "\n",
    "# liberia, mali, nigeria, togo we use 1990s\n",
    "\n",
    "df.loc[(df.iso == 'LBR') |\n",
    "       (df.iso == 'MLI') |\n",
    "       (df.iso == 'NGA') |\n",
    "       (df.iso == 'TGO'), 'u_c_1980'] = df.u_c_1990\n",
    "\n",
    "df.loc[(df.iso == 'LBR') |\n",
    "       (df.iso == 'MLI') |\n",
    "       (df.iso == 'NGA') |\n",
    "       (df.iso == 'TGO'), 'u_m_1980'] = df.u_m_1990\n",
    "\n",
    "df.loc[(df.iso == 'LBR') |\n",
    "       (df.iso == 'MLI') |\n",
    "       (df.iso == 'NGA') |\n",
    "       (df.iso == 'TGO'), 'u_t_1980'] = df.u_t_1990\n",
    "\n",
    "df.loc[(df.iso == 'LBR') |\n",
    "       (df.iso == 'MLI') |\n",
    "       (df.iso == 'NGA') |\n",
    "       (df.iso == 'TGO'), 'd_c_1980'] = df.d_c_1990\n",
    "\n",
    "df.loc[(df.iso == 'LBR') |\n",
    "       (df.iso == 'MLI') |\n",
    "       (df.iso == 'NGA') |\n",
    "       (df.iso == 'TGO'), 'd_m_1980'] = df.d_m_1990\n",
    "\n",
    "df.loc[(df.iso == 'LBR') |\n",
    "       (df.iso == 'MLI') |\n",
    "       (df.iso == 'NGA') |\n",
    "       (df.iso == 'TGO'), 'd_t_1980'] = df.d_t_1990\n",
    "\n",
    "df1980 = df.drop(['u_c_1990', 'u_m_1990', 'u_t_1990', 'd_c_1990', 'd_m_1990', 'd_t_1990'], axis=1)"
   ]
  },
  {
   "cell_type": "markdown",
   "metadata": {},
   "source": [
    "## All birth decades"
   ]
  },
  {
   "cell_type": "code",
   "execution_count": 4,
   "metadata": {},
   "outputs": [],
   "source": [
    "df = pd.read_csv(os.path.join(wdir,'_F_dist_religion_bch10.csv'))\n",
    "df = df[['iso', 'district', 'bch10', 'major_religion', 'immg_18', 'n_immg_18', 'imdwmg_18', 'n_imdwmg_18']]\n",
    "df = df[(~pd.isnull(df.immg_18)) | (~pd.isnull(df.imdwmg_18)) ]\n",
    "df = df[df.major_religion.isin(['Christian', 'Muslim', 'Traditional'])]\n",
    "df['xu'] = df.immg_18 * df.n_immg_18\n",
    "df['xd'] = df.imdwmg_18 * df.n_imdwmg_18\n",
    "del df['immg_18'], df['imdwmg_18'], df['bch10']\n",
    "df = df[['n_immg_18', 'n_imdwmg_18', 'xu', 'xd']].groupby([df.iso, df.district, df.major_religion]).sum().reset_index(drop=False)\n",
    "# df = df[df.n_immg_18 > 10]\n",
    "df['u'] = df.xu / df.n_immg_18\n",
    "df['d'] = df.xd / df.n_imdwmg_18\n",
    "del df['xu'], df['xd'], df['n_immg_18'], df['n_imdwmg_18']\n",
    "df.index = [df.iso, df.district, df.major_religion]\n",
    "del df['iso'], df['district'], df['major_religion']\n",
    "df = df.unstack().reset_index(drop=False)\n",
    "df.columns = df.columns.droplevel()\n",
    "df.columns = ['iso', 'district', 'u_c', 'u_m', 'u_t', 'd_c', 'd_m', 'd_t']"
   ]
  },
  {
   "cell_type": "markdown",
   "metadata": {},
   "source": [
    "## creating sumstats"
   ]
  },
  {
   "cell_type": "code",
   "execution_count": 5,
   "metadata": {},
   "outputs": [],
   "source": [
    "def percentile(n):\n",
    "    def percentile_(x):\n",
    "        return np.percentile(x, n)\n",
    "    percentile_.__name__ = 'percentile_%s' % n\n",
    "    return percentile_\n",
    "\n",
    "def sumstats(pandas_series, majrel, direction):\n",
    "\n",
    "    ss = [majrel, direction]\n",
    "    pandas_series = pandas_series.dropna()\n",
    "    ss.append(pandas_series.shape[0])\n",
    "    ss.append(np.round(pandas_series.mean(),3))\n",
    "    ss.append(pandas_series.min())\n",
    "    ss.append(np.round(np.percentile(pandas_series, 10),3))\n",
    "    ss.append(np.round(np.percentile(pandas_series, 50),3))\n",
    "    ss.append(np.round(np.percentile(pandas_series, 90),3))\n",
    "    ss.append(np.round(pandas_series.max(),3))\n",
    "    return ss\n",
    "    \n",
    "\n",
    "def make_sumstats_df(df):\n",
    "    \n",
    "    rows = []\n",
    "    rels = ['Christian', 'Muslim', 'Traditional'] * 2\n",
    "    dirs = ['up'] * 3 + ['down'] * 3\n",
    "    for ic, col in enumerate(df.columns[2:]):\n",
    "        majrel = rels[ic]\n",
    "        direction = dirs[ic]\n",
    "        \n",
    "        rows.append(sumstats(df[col], majrel, direction))\n",
    "        \n",
    "    df = pd.DataFrame(rows, columns = ['religion', 'direction', 'N', 'mean', 'min', 'p10', 'p50', 'p90', 'max'])\n",
    "    return df"
   ]
  },
  {
   "cell_type": "code",
   "execution_count": 6,
   "metadata": {},
   "outputs": [],
   "source": [
    "dfall = make_sumstats_df(df)\n",
    "df1980 = make_sumstats_df(df1980)"
   ]
  },
  {
   "cell_type": "markdown",
   "metadata": {},
   "source": [
    "## writing .tex tables"
   ]
  },
  {
   "cell_type": "markdown",
   "metadata": {},
   "source": [
    "### all birth decades"
   ]
  },
  {
   "cell_type": "code",
   "execution_count": 7,
   "metadata": {},
   "outputs": [],
   "source": [
    "tt = TexTab(dfall)"
   ]
  },
  {
   "cell_type": "code",
   "execution_count": 8,
   "metadata": {},
   "outputs": [],
   "source": [
    "cns = ['religion', 'direction', 'N', 'mean', 'min', 'p10', 'p50', 'p90', 'max']\n",
    "lcols = ['religion', 'direction']\n",
    "gaps = ['']\n",
    "cap = \"Summary statistics, district-level IM, ages 14-18, all birth decades\"\n",
    "lab = \"tab:_sumstats_im_dist_majrel_1418_allbch\"\n",
    "lines = []\n",
    "notes = '''TABLES NOTES.\n",
    "'''"
   ]
  },
  {
   "cell_type": "code",
   "execution_count": 9,
   "metadata": {},
   "outputs": [],
   "source": [
    "tab = tt.create_tab_onepanel(cns=cns, gaps=gaps, lcols=lcols,\n",
    "                             cap=cap, lab=lab, lines=lines, notes=notes, clines=False)\n",
    "tab = re.sub('\\n&&\\(1\\).+\\\\\\\\\\n\\\\\\\\hline', '', tab)\n",
    "tab = re.sub('\\\\\\\\columnwidth', '0.6\\\\\\\\columnwidth', tab)"
   ]
  },
  {
   "cell_type": "code",
   "execution_count": 10,
   "metadata": {},
   "outputs": [],
   "source": [
    "fh = open(outdir + \"/_2_sumstats_dist_im_majrel_1418_allbch.tex\", \"w\")\n",
    "fh.write(tab)\n",
    "fh.close()"
   ]
  },
  {
   "cell_type": "markdown",
   "metadata": {},
   "source": [
    "### 1980s"
   ]
  },
  {
   "cell_type": "code",
   "execution_count": 11,
   "metadata": {},
   "outputs": [],
   "source": [
    "tt = TexTab(df1980)"
   ]
  },
  {
   "cell_type": "code",
   "execution_count": 12,
   "metadata": {},
   "outputs": [],
   "source": [
    "cns = ['religion', 'direction', 'N', 'mean', 'min', 'p10', 'p50', 'p90', 'max']\n",
    "lcols = ['religion', 'direction']\n",
    "gaps = ['']\n",
    "cap = \"Summary statistics, district-level IM, ages 14-18, 1980s\"\n",
    "lab = \"tab:_sumstats_im_dist_majrel_1418_1980bch\"\n",
    "lines = []\n",
    "notes = '''TABLES NOTES.\n",
    "'''"
   ]
  },
  {
   "cell_type": "code",
   "execution_count": 13,
   "metadata": {},
   "outputs": [],
   "source": [
    "tab = tt.create_tab_onepanel(cns=cns, gaps=gaps, lcols=lcols,\n",
    "                             cap=cap, lab=lab, lines=lines, notes=notes, clines=False)\n",
    "tab = re.sub('\\n&&\\(1\\).+\\\\\\\\\\n\\\\\\\\hline', '', tab)\n",
    "tab = re.sub('\\\\\\\\columnwidth', '0.6\\\\\\\\columnwidth', tab)"
   ]
  },
  {
   "cell_type": "code",
   "execution_count": 14,
   "metadata": {},
   "outputs": [],
   "source": [
    "fh = open(outdir + \"/_2_sumstats_dist_im_majrel_1418_1980bch.tex\", \"w\")\n",
    "fh.write(tab)\n",
    "fh.close()"
   ]
  }
 ],
 "metadata": {
  "kernelspec": {
   "display_name": "Python 3",
   "language": "python",
   "name": "python3"
  },
  "language_info": {
   "codemirror_mode": {
    "name": "ipython",
    "version": 3
   },
   "file_extension": ".py",
   "mimetype": "text/x-python",
   "name": "python",
   "nbconvert_exporter": "python",
   "pygments_lexer": "ipython3",
   "version": "3.9.4"
  }
 },
 "nbformat": 4,
 "nbformat_minor": 4
}
