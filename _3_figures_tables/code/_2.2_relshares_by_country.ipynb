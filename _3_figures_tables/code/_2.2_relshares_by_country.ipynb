{
 "cells": [
  {
   "cell_type": "code",
   "execution_count": 1,
   "id": "5148a168-731b-413d-a273-d5379839dc09",
   "metadata": {},
   "outputs": [],
   "source": [
    "import pandas as pd\n",
    "import re\n",
    "import country_converter as coco\n",
    "import os"
   ]
  },
  {
   "cell_type": "code",
   "execution_count": 2,
   "id": "6c35390f",
   "metadata": {},
   "outputs": [],
   "source": [
    "current_folder = globals()['_dh'][0]\n",
    "rootdir = os.path.dirname(os.path.dirname(current_folder))\n",
    "wdir = os.path.join(rootdir, '_2_intermediate', 'data')\n",
    "outdir = os.path.join(rootdir, '_3_figures_tables', 'data')"
   ]
  },
  {
   "cell_type": "code",
   "execution_count": 3,
   "id": "2803d383-0b23-4f4c-83db-927c9eaa09f9",
   "metadata": {},
   "outputs": [],
   "source": [
    "df = pd.read_csv(os.path.join(wdir,'religions__mastertab.csv'))\n",
    "df = df[~pd.isnull(df.major_religion)].sort_values(['iso', 'nr'], ascending=[True, False]).reset_index(drop=True).copy(deep=True)\n",
    "df = (df[['iso',\n",
    "          'major_religion',\n",
    "          'shr']]\n",
    "      .drop_duplicates(subset=['iso', 'major_religion'])\n",
    "      .set_index(['iso', 'major_religion'])\n",
    "      .unstack()\n",
    "      .fillna(0)\n",
    "      .reset_index(drop=False)\n",
    "     )\n",
    "df.columns = ['iso', 'Christian', 'Muslim', 'No Religion', 'Other', 'Traditional']\n",
    "df['country'] =  coco.convert(names=list(df['iso']), to='name_short')\n",
    "df = df[['country', 'Christian', 'Muslim', 'Traditional', 'Other', 'No Religion']].copy()"
   ]
  },
  {
   "cell_type": "code",
   "execution_count": 4,
   "id": "03b7cf21-74e7-4416-a683-2c7b657e9868",
   "metadata": {},
   "outputs": [],
   "source": [
    "textab = df.to_latex(\n",
    "        caption = 'Major religion shares by country',\n",
    "        label = 'tab:religshares_by_country',\n",
    "        index = False,\n",
    "        float_format = '%.3f',\n",
    "        column_format = 'lccccc'\n",
    ")\n",
    "textab = textab.replace('toprule', 'hline').replace('midrule', 'hline').replace('bottomrule', 'hline')\n",
    "\n",
    "with open(outdir + '/religshares_by_country.tex', 'w') as fh:\n",
    "    fh.write(textab)"
   ]
  }
 ],
 "metadata": {
  "kernelspec": {
   "display_name": "Python 3",
   "language": "python",
   "name": "python3"
  },
  "language_info": {
   "codemirror_mode": {
    "name": "ipython",
    "version": 3
   },
   "file_extension": ".py",
   "mimetype": "text/x-python",
   "name": "python",
   "nbconvert_exporter": "python",
   "pygments_lexer": "ipython3",
   "version": "3.9.4"
  }
 },
 "nbformat": 4,
 "nbformat_minor": 5
}
