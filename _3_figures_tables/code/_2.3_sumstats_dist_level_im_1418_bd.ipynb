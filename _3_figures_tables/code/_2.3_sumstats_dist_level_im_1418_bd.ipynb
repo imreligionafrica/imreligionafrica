{
 "cells": [
  {
   "cell_type": "code",
   "execution_count": 1,
   "metadata": {},
   "outputs": [],
   "source": [
    "import numpy as np\n",
    "import pandas as pd\n",
    "import re\n",
    "from textab import TexTab\n",
    "import os"
   ]
  },
  {
   "cell_type": "code",
   "execution_count": 2,
   "metadata": {},
   "outputs": [],
   "source": [
    "current_folder = globals()['_dh'][0]\n",
    "rootdir = os.path.dirname(os.path.dirname(current_folder))\n",
    "wdir = os.path.join(rootdir, '_2_intermediate', 'data')\n",
    "outdir = os.path.join(rootdir, '_3_figures_tables', 'data')"
   ]
  },
  {
   "cell_type": "markdown",
   "metadata": {},
   "source": [
    "## BDs"
   ]
  },
  {
   "cell_type": "code",
   "execution_count": 3,
   "metadata": {},
   "outputs": [
    {
     "data": {
      "text/html": [
       "<div>\n",
       "<style scoped>\n",
       "    .dataframe tbody tr th:only-of-type {\n",
       "        vertical-align: middle;\n",
       "    }\n",
       "\n",
       "    .dataframe tbody tr th {\n",
       "        vertical-align: top;\n",
       "    }\n",
       "\n",
       "    .dataframe thead th {\n",
       "        text-align: right;\n",
       "    }\n",
       "</style>\n",
       "<table border=\"1\" class=\"dataframe\">\n",
       "  <thead>\n",
       "    <tr style=\"text-align: right;\">\n",
       "      <th></th>\n",
       "      <th>iso</th>\n",
       "      <th>district</th>\n",
       "      <th>u_c_1950</th>\n",
       "      <th>u_m_1950</th>\n",
       "      <th>u_t_1950</th>\n",
       "      <th>d_c_1950</th>\n",
       "      <th>d_m_1950</th>\n",
       "      <th>d_t_1950</th>\n",
       "    </tr>\n",
       "  </thead>\n",
       "  <tbody>\n",
       "    <tr>\n",
       "      <th>0</th>\n",
       "      <td>BEN</td>\n",
       "      <td>1.0</td>\n",
       "      <td>NaN</td>\n",
       "      <td>NaN</td>\n",
       "      <td>NaN</td>\n",
       "      <td>NaN</td>\n",
       "      <td>NaN</td>\n",
       "      <td>NaN</td>\n",
       "    </tr>\n",
       "    <tr>\n",
       "      <th>1</th>\n",
       "      <td>BEN</td>\n",
       "      <td>2.0</td>\n",
       "      <td>NaN</td>\n",
       "      <td>NaN</td>\n",
       "      <td>NaN</td>\n",
       "      <td>NaN</td>\n",
       "      <td>NaN</td>\n",
       "      <td>NaN</td>\n",
       "    </tr>\n",
       "    <tr>\n",
       "      <th>2</th>\n",
       "      <td>BEN</td>\n",
       "      <td>3.0</td>\n",
       "      <td>NaN</td>\n",
       "      <td>NaN</td>\n",
       "      <td>NaN</td>\n",
       "      <td>NaN</td>\n",
       "      <td>NaN</td>\n",
       "      <td>NaN</td>\n",
       "    </tr>\n",
       "    <tr>\n",
       "      <th>3</th>\n",
       "      <td>BEN</td>\n",
       "      <td>4.0</td>\n",
       "      <td>NaN</td>\n",
       "      <td>NaN</td>\n",
       "      <td>NaN</td>\n",
       "      <td>NaN</td>\n",
       "      <td>NaN</td>\n",
       "      <td>NaN</td>\n",
       "    </tr>\n",
       "    <tr>\n",
       "      <th>4</th>\n",
       "      <td>BEN</td>\n",
       "      <td>5.0</td>\n",
       "      <td>NaN</td>\n",
       "      <td>NaN</td>\n",
       "      <td>NaN</td>\n",
       "      <td>NaN</td>\n",
       "      <td>NaN</td>\n",
       "      <td>NaN</td>\n",
       "    </tr>\n",
       "    <tr>\n",
       "      <th>...</th>\n",
       "      <td>...</td>\n",
       "      <td>...</td>\n",
       "      <td>...</td>\n",
       "      <td>...</td>\n",
       "      <td>...</td>\n",
       "      <td>...</td>\n",
       "      <td>...</td>\n",
       "      <td>...</td>\n",
       "    </tr>\n",
       "    <tr>\n",
       "      <th>2292</th>\n",
       "      <td>ZMB</td>\n",
       "      <td>2753.0</td>\n",
       "      <td>NaN</td>\n",
       "      <td>NaN</td>\n",
       "      <td>NaN</td>\n",
       "      <td>NaN</td>\n",
       "      <td>NaN</td>\n",
       "      <td>NaN</td>\n",
       "    </tr>\n",
       "    <tr>\n",
       "      <th>2293</th>\n",
       "      <td>ZMB</td>\n",
       "      <td>2754.0</td>\n",
       "      <td>NaN</td>\n",
       "      <td>NaN</td>\n",
       "      <td>NaN</td>\n",
       "      <td>NaN</td>\n",
       "      <td>NaN</td>\n",
       "      <td>NaN</td>\n",
       "    </tr>\n",
       "    <tr>\n",
       "      <th>2294</th>\n",
       "      <td>ZMB</td>\n",
       "      <td>2755.0</td>\n",
       "      <td>NaN</td>\n",
       "      <td>NaN</td>\n",
       "      <td>NaN</td>\n",
       "      <td>NaN</td>\n",
       "      <td>NaN</td>\n",
       "      <td>NaN</td>\n",
       "    </tr>\n",
       "    <tr>\n",
       "      <th>2295</th>\n",
       "      <td>ZMB</td>\n",
       "      <td>2756.0</td>\n",
       "      <td>NaN</td>\n",
       "      <td>NaN</td>\n",
       "      <td>NaN</td>\n",
       "      <td>NaN</td>\n",
       "      <td>NaN</td>\n",
       "      <td>NaN</td>\n",
       "    </tr>\n",
       "    <tr>\n",
       "      <th>2296</th>\n",
       "      <td>ZMB</td>\n",
       "      <td>2757.0</td>\n",
       "      <td>NaN</td>\n",
       "      <td>NaN</td>\n",
       "      <td>NaN</td>\n",
       "      <td>NaN</td>\n",
       "      <td>NaN</td>\n",
       "      <td>NaN</td>\n",
       "    </tr>\n",
       "  </tbody>\n",
       "</table>\n",
       "<p>2297 rows × 8 columns</p>\n",
       "</div>"
      ],
      "text/plain": [
       "      iso  district  u_c_1950  u_m_1950  u_t_1950  d_c_1950  d_m_1950  \\\n",
       "0     BEN       1.0       NaN       NaN       NaN       NaN       NaN   \n",
       "1     BEN       2.0       NaN       NaN       NaN       NaN       NaN   \n",
       "2     BEN       3.0       NaN       NaN       NaN       NaN       NaN   \n",
       "3     BEN       4.0       NaN       NaN       NaN       NaN       NaN   \n",
       "4     BEN       5.0       NaN       NaN       NaN       NaN       NaN   \n",
       "...   ...       ...       ...       ...       ...       ...       ...   \n",
       "2292  ZMB    2753.0       NaN       NaN       NaN       NaN       NaN   \n",
       "2293  ZMB    2754.0       NaN       NaN       NaN       NaN       NaN   \n",
       "2294  ZMB    2755.0       NaN       NaN       NaN       NaN       NaN   \n",
       "2295  ZMB    2756.0       NaN       NaN       NaN       NaN       NaN   \n",
       "2296  ZMB    2757.0       NaN       NaN       NaN       NaN       NaN   \n",
       "\n",
       "      d_t_1950  \n",
       "0          NaN  \n",
       "1          NaN  \n",
       "2          NaN  \n",
       "3          NaN  \n",
       "4          NaN  \n",
       "...        ...  \n",
       "2292       NaN  \n",
       "2293       NaN  \n",
       "2294       NaN  \n",
       "2295       NaN  \n",
       "2296       NaN  \n",
       "\n",
       "[2297 rows x 8 columns]"
      ]
     },
     "execution_count": 3,
     "metadata": {},
     "output_type": "execute_result"
    }
   ],
   "source": [
    "df = pd.read_csv(os.path.join(wdir,'_F_dist_religion_bch10.csv'))\n",
    "df = df[['iso', 'district', 'bch10', 'major_religion', 'immg_18', 'imdwmg_18']]\n",
    "#df = df[['iso', 'district', 'bch10', 'major_religion', 'immg_18', 'n_immg_18']]\n",
    "df = df[((df.bch10 == 1950) | \n",
    "         (df.bch10 == 1960) |\n",
    "         (df.bch10 == 1970) | \n",
    "         (df.bch10 == 1980) |\n",
    "         (df.bch10 == 1990)) &\n",
    "         ((df.major_religion == 'Christian') |\n",
    "         (df.major_religion == 'Muslim') |\n",
    "         (df.major_religion == 'Traditional'))].reset_index(drop=True)\n",
    "#df = df[df.n_immg_18 >= 10].reset_index(drop=False)\n",
    "df.index = [df.iso, df.district, df.bch10, df.major_religion]\n",
    "df = df.drop(['iso', 'district', 'bch10', 'major_religion'], axis=1)\n",
    "#df = df.drop(['iso', 'district', 'bch10', 'major_religion','n_immg_18'], axis=1)\n",
    "\n",
    "df = df.unstack().reset_index(drop=False)\n",
    "df.columns = df.columns.droplevel()\n",
    "df.columns = ['iso', 'district', 'bd', 'u_c', 'u_m', 'u_t', 'd_c', 'd_m', 'd_t']\n",
    "\n",
    "df.index = [df.iso, df.district, df.bd]\n",
    "df = df.drop(['iso', 'district', 'bd'], axis=1)\n",
    "df = df.unstack().reset_index(drop=False)\n",
    "df.columns = df.columns.droplevel()\n",
    "\n",
    "df.columns = ['iso', 'district'] + ['{}_{}'.format(var, bd) \n",
    "                                    for var in ['u_c', 'u_m', 'u_t', 'd_c', 'd_m', 'd_t'] \n",
    "                                    for bd in [1950,1960,1970,1980,1990]]\n",
    "\n",
    "for d in [\"u\",\"d\"]:\n",
    "    for r in [\"c\",\"m\",\"t\"]:\n",
    "        for bd in [1950,1960,1970,1980]: \n",
    "            df.loc[pd.isnull(df[f'{d}_{r}_{bd}']), f'{d}_{r}_{bd}'] = df.loc[pd.isnull(df[f'{d}_{r}_{bd}']), f'{d}_{r}_{bd+10}']\n",
    "            \n",
    "df1950 = df[['iso','district','u_c_1950', 'u_m_1950','u_t_1950','d_c_1950', 'd_m_1950','d_t_1950']]\n",
    "df1960 = df[['iso','district','u_c_1960', 'u_m_1960','u_t_1960','d_c_1960', 'd_m_1960','d_t_1960']]\n",
    "df1970 = df[['iso','district','u_c_1970', 'u_m_1970','u_t_1970','d_c_1970', 'd_m_1970','d_t_1970']]\n",
    "df1980 = df[['iso','district','u_c_1980', 'u_m_1980','u_t_1980','d_c_1980', 'd_m_1980','d_t_1980']]\n",
    "df1990 = df[['iso','district','u_c_1990', 'u_m_1990','u_t_1990','d_c_1990', 'd_m_1990','d_t_1990']]\n",
    "df1950"
   ]
  },
  {
   "cell_type": "markdown",
   "metadata": {},
   "source": [
    "## All birth decades"
   ]
  },
  {
   "cell_type": "code",
   "execution_count": 4,
   "metadata": {},
   "outputs": [
    {
     "data": {
      "text/html": [
       "<div>\n",
       "<style scoped>\n",
       "    .dataframe tbody tr th:only-of-type {\n",
       "        vertical-align: middle;\n",
       "    }\n",
       "\n",
       "    .dataframe tbody tr th {\n",
       "        vertical-align: top;\n",
       "    }\n",
       "\n",
       "    .dataframe thead th {\n",
       "        text-align: right;\n",
       "    }\n",
       "</style>\n",
       "<table border=\"1\" class=\"dataframe\">\n",
       "  <thead>\n",
       "    <tr style=\"text-align: right;\">\n",
       "      <th></th>\n",
       "      <th>iso</th>\n",
       "      <th>district</th>\n",
       "      <th>u_c</th>\n",
       "      <th>u_m</th>\n",
       "      <th>u_t</th>\n",
       "      <th>d_c</th>\n",
       "      <th>d_m</th>\n",
       "      <th>d_t</th>\n",
       "    </tr>\n",
       "  </thead>\n",
       "  <tbody>\n",
       "    <tr>\n",
       "      <th>0</th>\n",
       "      <td>BEN</td>\n",
       "      <td>1.0</td>\n",
       "      <td>0.261324</td>\n",
       "      <td>0.166667</td>\n",
       "      <td>0.086799</td>\n",
       "      <td>0.277108</td>\n",
       "      <td>0.479339</td>\n",
       "      <td>0.500000</td>\n",
       "    </tr>\n",
       "    <tr>\n",
       "      <th>1</th>\n",
       "      <td>BEN</td>\n",
       "      <td>2.0</td>\n",
       "      <td>0.269962</td>\n",
       "      <td>0.130326</td>\n",
       "      <td>0.057971</td>\n",
       "      <td>0.423077</td>\n",
       "      <td>0.333333</td>\n",
       "      <td>0.500000</td>\n",
       "    </tr>\n",
       "    <tr>\n",
       "      <th>2</th>\n",
       "      <td>BEN</td>\n",
       "      <td>3.0</td>\n",
       "      <td>0.216630</td>\n",
       "      <td>0.216003</td>\n",
       "      <td>0.106383</td>\n",
       "      <td>0.187500</td>\n",
       "      <td>0.304000</td>\n",
       "      <td>0.500000</td>\n",
       "    </tr>\n",
       "    <tr>\n",
       "      <th>3</th>\n",
       "      <td>BEN</td>\n",
       "      <td>4.0</td>\n",
       "      <td>0.421053</td>\n",
       "      <td>0.102079</td>\n",
       "      <td>0.000000</td>\n",
       "      <td>0.200000</td>\n",
       "      <td>0.625000</td>\n",
       "      <td>NaN</td>\n",
       "    </tr>\n",
       "    <tr>\n",
       "      <th>4</th>\n",
       "      <td>BEN</td>\n",
       "      <td>5.0</td>\n",
       "      <td>0.677966</td>\n",
       "      <td>0.166914</td>\n",
       "      <td>0.083333</td>\n",
       "      <td>0.302326</td>\n",
       "      <td>0.429825</td>\n",
       "      <td>NaN</td>\n",
       "    </tr>\n",
       "    <tr>\n",
       "      <th>...</th>\n",
       "      <td>...</td>\n",
       "      <td>...</td>\n",
       "      <td>...</td>\n",
       "      <td>...</td>\n",
       "      <td>...</td>\n",
       "      <td>...</td>\n",
       "      <td>...</td>\n",
       "      <td>...</td>\n",
       "    </tr>\n",
       "    <tr>\n",
       "      <th>2281</th>\n",
       "      <td>ZMB</td>\n",
       "      <td>2753.0</td>\n",
       "      <td>0.449283</td>\n",
       "      <td>NaN</td>\n",
       "      <td>0.377358</td>\n",
       "      <td>0.279251</td>\n",
       "      <td>NaN</td>\n",
       "      <td>0.357143</td>\n",
       "    </tr>\n",
       "    <tr>\n",
       "      <th>2282</th>\n",
       "      <td>ZMB</td>\n",
       "      <td>2754.0</td>\n",
       "      <td>0.408039</td>\n",
       "      <td>NaN</td>\n",
       "      <td>0.339286</td>\n",
       "      <td>0.347126</td>\n",
       "      <td>NaN</td>\n",
       "      <td>0.388889</td>\n",
       "    </tr>\n",
       "    <tr>\n",
       "      <th>2283</th>\n",
       "      <td>ZMB</td>\n",
       "      <td>2755.0</td>\n",
       "      <td>0.505353</td>\n",
       "      <td>NaN</td>\n",
       "      <td>0.428571</td>\n",
       "      <td>0.223270</td>\n",
       "      <td>0.500000</td>\n",
       "      <td>0.131579</td>\n",
       "    </tr>\n",
       "    <tr>\n",
       "      <th>2284</th>\n",
       "      <td>ZMB</td>\n",
       "      <td>2756.0</td>\n",
       "      <td>0.374133</td>\n",
       "      <td>0.000000</td>\n",
       "      <td>0.490323</td>\n",
       "      <td>0.293103</td>\n",
       "      <td>0.000000</td>\n",
       "      <td>0.385417</td>\n",
       "    </tr>\n",
       "    <tr>\n",
       "      <th>2285</th>\n",
       "      <td>ZMB</td>\n",
       "      <td>2757.0</td>\n",
       "      <td>0.506953</td>\n",
       "      <td>NaN</td>\n",
       "      <td>0.375000</td>\n",
       "      <td>0.216625</td>\n",
       "      <td>0.000000</td>\n",
       "      <td>0.285714</td>\n",
       "    </tr>\n",
       "  </tbody>\n",
       "</table>\n",
       "<p>2286 rows × 8 columns</p>\n",
       "</div>"
      ],
      "text/plain": [
       "      iso  district       u_c       u_m       u_t       d_c       d_m  \\\n",
       "0     BEN       1.0  0.261324  0.166667  0.086799  0.277108  0.479339   \n",
       "1     BEN       2.0  0.269962  0.130326  0.057971  0.423077  0.333333   \n",
       "2     BEN       3.0  0.216630  0.216003  0.106383  0.187500  0.304000   \n",
       "3     BEN       4.0  0.421053  0.102079  0.000000  0.200000  0.625000   \n",
       "4     BEN       5.0  0.677966  0.166914  0.083333  0.302326  0.429825   \n",
       "...   ...       ...       ...       ...       ...       ...       ...   \n",
       "2281  ZMB    2753.0  0.449283       NaN  0.377358  0.279251       NaN   \n",
       "2282  ZMB    2754.0  0.408039       NaN  0.339286  0.347126       NaN   \n",
       "2283  ZMB    2755.0  0.505353       NaN  0.428571  0.223270  0.500000   \n",
       "2284  ZMB    2756.0  0.374133  0.000000  0.490323  0.293103  0.000000   \n",
       "2285  ZMB    2757.0  0.506953       NaN  0.375000  0.216625  0.000000   \n",
       "\n",
       "           d_t  \n",
       "0     0.500000  \n",
       "1     0.500000  \n",
       "2     0.500000  \n",
       "3          NaN  \n",
       "4          NaN  \n",
       "...        ...  \n",
       "2281  0.357143  \n",
       "2282  0.388889  \n",
       "2283  0.131579  \n",
       "2284  0.385417  \n",
       "2285  0.285714  \n",
       "\n",
       "[2286 rows x 8 columns]"
      ]
     },
     "execution_count": 4,
     "metadata": {},
     "output_type": "execute_result"
    }
   ],
   "source": [
    "df = pd.read_csv(os.path.join(wdir,'_F_dist_religion_bch10.csv'))\n",
    "df = df[['iso', 'district', 'bch10', 'major_religion', 'immg_18', 'n_immg_18', 'imdwmg_18', 'n_imdwmg_18']]\n",
    "df = df[(~pd.isnull(df.immg_18)) | (~pd.isnull(df.imdwmg_18)) ]\n",
    "df = df[df.major_religion.isin(['Christian', 'Muslim', 'Traditional'])]\n",
    "df['xu'] = df.immg_18 * df.n_immg_18\n",
    "df['xd'] = df.imdwmg_18 * df.n_imdwmg_18\n",
    "del df['immg_18'], df['imdwmg_18'], df['bch10']\n",
    "df = df[['n_immg_18', 'n_imdwmg_18', 'xu', 'xd']].groupby([df.iso, df.district, df.major_religion]).sum().reset_index(drop=False)\n",
    "#df = df[df.n_immg_18 >= 10]\n",
    "df['u'] = df.xu / df.n_immg_18\n",
    "df['d'] = df.xd / df.n_imdwmg_18\n",
    "del df['xu'], df['xd'], df['n_immg_18'], df['n_imdwmg_18']\n",
    "df.index = [df.iso, df.district, df.major_religion]\n",
    "del df['iso'], df['district'], df['major_religion']\n",
    "df = df.unstack().reset_index(drop=False)\n",
    "df.columns = df.columns.droplevel()\n",
    "df.columns = ['iso', 'district', 'u_c', 'u_m', 'u_t', 'd_c', 'd_m', 'd_t']\n",
    "df"
   ]
  },
  {
   "cell_type": "markdown",
   "metadata": {},
   "source": [
    "## creating sumstats"
   ]
  },
  {
   "cell_type": "code",
   "execution_count": 5,
   "metadata": {},
   "outputs": [],
   "source": [
    "def percentile(n):\n",
    "    def percentile_(x):\n",
    "        return np.percentile(x, n)\n",
    "    percentile_.__name__ = 'percentile_%s' % n\n",
    "    return percentile_\n",
    "\n",
    "def sumstats(pandas_series, majrel, direction):\n",
    "\n",
    "    ss = [majrel, direction]\n",
    "    pandas_series = pandas_series.dropna()\n",
    "    ss.append(pandas_series.shape[0])\n",
    "    ss.append(np.round(pandas_series.mean(),3))\n",
    "    ss.append(pandas_series.min())\n",
    "    ss.append(np.round(np.percentile(pandas_series, 10),3))\n",
    "    ss.append(np.round(np.percentile(pandas_series, 50),3))\n",
    "    ss.append(np.round(np.percentile(pandas_series, 90),3))\n",
    "    ss.append(np.round(pandas_series.max(),3))\n",
    "    return ss\n",
    "    \n",
    "\n",
    "def make_sumstats_df(df):\n",
    "    \n",
    "    rows = []\n",
    "    rels = ['Christian', 'Muslim', 'Traditional'] * 2\n",
    "    dirs = ['up'] * 3 + ['down'] * 3\n",
    "    for ic, col in enumerate(df.columns[2:]):\n",
    "        majrel = rels[ic]\n",
    "        direction = dirs[ic]\n",
    "        \n",
    "        rows.append(sumstats(df[col], majrel, direction))\n",
    "        \n",
    "    df = pd.DataFrame(rows, columns = ['religion', 'direction', 'N', 'mean', 'min', 'p10', 'p50', 'p90', 'max'])\n",
    "    return df"
   ]
  },
  {
   "cell_type": "code",
   "execution_count": 6,
   "metadata": {},
   "outputs": [],
   "source": [
    "dfall = make_sumstats_df(df)\n",
    "df1950 = make_sumstats_df(df1950)\n",
    "df1960 = make_sumstats_df(df1960)\n",
    "df1970 = make_sumstats_df(df1970)\n",
    "df1980 = make_sumstats_df(df1980)\n",
    "df1990 = make_sumstats_df(df1990)"
   ]
  },
  {
   "cell_type": "markdown",
   "metadata": {},
   "source": [
    "## writing .tex tables"
   ]
  },
  {
   "cell_type": "markdown",
   "metadata": {},
   "source": [
    "### all birth decades"
   ]
  },
  {
   "cell_type": "code",
   "execution_count": 7,
   "metadata": {},
   "outputs": [],
   "source": [
    "tt = TexTab(dfall)"
   ]
  },
  {
   "cell_type": "code",
   "execution_count": 8,
   "metadata": {},
   "outputs": [],
   "source": [
    "cns = ['religion', 'direction', 'N', 'mean', 'min', 'p10', 'p50', 'p90', 'max']\n",
    "lcols = ['religion', 'direction']\n",
    "gaps = ['']\n",
    "cap = \"Summary statistics, district-level IM, ages 14-18, all birth decades\"\n",
    "#cap = \"Summary statistics, district-level IM, ages 14-18, all birth decades, less than 10 districts\"\n",
    "lab = \"tab:_sumstats_im_dist_majrel_1418_allbch\"\n",
    "#lab = \"tab:_sumstats_im_dist_majrel_1418_allbch_lt10d\"\n",
    "lines = []\n",
    "notes = '''TABLES NOTES.\n",
    "'''"
   ]
  },
  {
   "cell_type": "code",
   "execution_count": 9,
   "metadata": {},
   "outputs": [],
   "source": [
    "tab = tt.create_tab_onepanel(cns=cns, gaps=gaps, lcols=lcols,\n",
    "                             cap=cap, lab=lab, lines=lines, notes=notes, clines=False)\n",
    "tab = re.sub('\\n&&\\(1\\).+\\\\\\\\\\n\\\\\\\\hline', '', tab)\n",
    "tab = re.sub('\\\\\\\\columnwidth', '0.6\\\\\\\\columnwidth', tab)"
   ]
  },
  {
   "cell_type": "code",
   "execution_count": 10,
   "metadata": {},
   "outputs": [],
   "source": [
    "fh = open(outdir + \"/_2_sumstats_dist_im_majrel_1418_allbch.tex\", \"w\")\n",
    "#fh = open(outdir + \"/_2_sumstats_dist_im_majrel_1418_allbch_districts.tex\", \"w\")\n",
    "fh.write(tab)\n",
    "fh.close()"
   ]
  },
  {
   "cell_type": "markdown",
   "metadata": {},
   "source": [
    "### 1950s"
   ]
  },
  {
   "cell_type": "code",
   "execution_count": 11,
   "metadata": {},
   "outputs": [],
   "source": [
    "tt = TexTab(df1950)"
   ]
  },
  {
   "cell_type": "code",
   "execution_count": 12,
   "metadata": {},
   "outputs": [],
   "source": [
    "cns = ['religion', 'direction', 'N', 'mean', 'min', 'p10', 'p50', 'p90', 'max']\n",
    "lcols = ['religion', 'direction']\n",
    "gaps = ['']\n",
    "cap = \"Summary statistics, district-level IM, ages 14-18, 1950s\"\n",
    "#cap = \"Summary statistics, district-level IM, ages 14-18, 1950s, less than 10 districts\"\n",
    "lab = \"tab:_sumstats_im_dist_majrel_1418_1950bch\"\n",
    "#lab = \"tab:_sumstats_im_dist_majrel_1418_1950bch_lt10d\"\n",
    "lines = []\n",
    "notes = '''TABLES NOTES.\n",
    "'''"
   ]
  },
  {
   "cell_type": "code",
   "execution_count": 13,
   "metadata": {},
   "outputs": [],
   "source": [
    "tab = tt.create_tab_onepanel(cns=cns, gaps=gaps, lcols=lcols,\n",
    "                             cap=cap, lab=lab, lines=lines, notes=notes, clines=False)\n",
    "tab = re.sub('\\n&&\\(1\\).+\\\\\\\\\\n\\\\\\\\hline', '', tab)\n",
    "tab = re.sub('\\\\\\\\columnwidth', '0.6\\\\\\\\columnwidth', tab)"
   ]
  },
  {
   "cell_type": "code",
   "execution_count": 14,
   "metadata": {},
   "outputs": [],
   "source": [
    "fh = open(outdir + \"/_2_sumstats_dist_im_majrel_1418_1950bch.tex\", \"w\")\n",
    "#fh = open(outdir + \"/_2_sumstats_dist_im_majrel_1418_1950bch_districts.tex\", \"w\")\n",
    "fh.write(tab)\n",
    "fh.close()"
   ]
  },
  {
   "cell_type": "markdown",
   "metadata": {},
   "source": [
    "### 1960s"
   ]
  },
  {
   "cell_type": "code",
   "execution_count": 15,
   "metadata": {},
   "outputs": [],
   "source": [
    "tt = TexTab(df1960)"
   ]
  },
  {
   "cell_type": "code",
   "execution_count": 16,
   "metadata": {},
   "outputs": [],
   "source": [
    "cns = ['religion', 'direction', 'N', 'mean', 'min', 'p10', 'p50', 'p90', 'max']\n",
    "lcols = ['religion', 'direction']\n",
    "gap = ['']\n",
    "cap = \"Summary statistics, district-level IM, ages 14-18, 1960s\"\n",
    "#cap = \"Summary statistics, district-level IM, ages 14-18, 1960s, less than 10 districts\"\n",
    "lab = \"tab:_sumstats_im_dist_majrel_1418_1960bch\"\n",
    "#lab = \"tab:_sumstats_im_dist_majrel_1418_1960bch_lt10d\"\n",
    "lines = []\n",
    "notes = '''TABLES NOTES.\n",
    "'''"
   ]
  },
  {
   "cell_type": "code",
   "execution_count": 17,
   "metadata": {},
   "outputs": [],
   "source": [
    "tab = tt.create_tab_onepanel(cns=cns, gaps=gaps, lcols=lcols,\n",
    "                             cap=cap, lab=lab, lines=lines, notes=notes, clines=False)\n",
    "tab = re.sub('\\n&&\\(1\\).+\\\\\\\\\\n\\\\\\\\hline', '', tab)\n",
    "tab = re.sub('\\\\\\\\columnwidth', '0.6\\\\\\\\columnwidth', tab)"
   ]
  },
  {
   "cell_type": "code",
   "execution_count": 18,
   "metadata": {},
   "outputs": [],
   "source": [
    "fh = open(outdir + \"/_2_sumstats_dist_im_majrel_1418_1960bch.tex\", \"w\")\n",
    "#fh = open(outdir + \"/_2_sumstats_dist_im_majrel_1418_1960bch_districts.tex\", \"w\")\n",
    "fh.write(tab)\n",
    "fh.close()"
   ]
  },
  {
   "cell_type": "markdown",
   "metadata": {},
   "source": [
    "### 1970s"
   ]
  },
  {
   "cell_type": "code",
   "execution_count": 19,
   "metadata": {},
   "outputs": [],
   "source": [
    "tt = TexTab(df1970)"
   ]
  },
  {
   "cell_type": "code",
   "execution_count": 20,
   "metadata": {},
   "outputs": [],
   "source": [
    "cns = ['religion', 'direction', 'N', 'mean', 'min', 'p10', 'p50', 'p90', 'max']\n",
    "lcols = ['religion', 'direction']\n",
    "gaps = ['']\n",
    "cap = \"Summary statistics, district-level IM, ages 14-18, 1970s\"\n",
    "#cap = \"Summary statistics, district-level IM, ages 14-18, 1970s, less than 10 districts\"\n",
    "lab = \"tab:_sumstats_im_dist_majrel_1418_1970bch\"\n",
    "#lab = \"tab:_sumstats_im_dist_majrel_1418_1970bch_lt10d\"\n",
    "lines = []\n",
    "notes = '''TABLES NOTES.\n",
    "'''"
   ]
  },
  {
   "cell_type": "code",
   "execution_count": 21,
   "metadata": {},
   "outputs": [],
   "source": [
    "tab = tt.create_tab_onepanel(cns=cns, gaps=gaps, lcols=lcols,\n",
    "                             cap=cap, lab=lab, lines=lines, notes=notes, clines=False)\n",
    "tab = re.sub('\\n&&\\(1\\).+\\\\\\\\\\n\\\\\\\\hline', '', tab)\n",
    "tab = re.sub('\\\\\\\\columnwidth', '0.6\\\\\\\\columnwidth', tab)"
   ]
  },
  {
   "cell_type": "code",
   "execution_count": 22,
   "metadata": {},
   "outputs": [],
   "source": [
    "fh = open(outdir + \"/_2_sumstats_dist_im_majrel_1418_1970bch.tex\", \"w\")\n",
    "#fh = open(outdir + \"/_2_sumstats_dist_im_majrel_1418_1970bch_districts.tex\", \"w\")\n",
    "fh.write(tab)\n",
    "fh.close()"
   ]
  },
  {
   "cell_type": "markdown",
   "metadata": {},
   "source": [
    "### 1980s"
   ]
  },
  {
   "cell_type": "code",
   "execution_count": 23,
   "metadata": {},
   "outputs": [],
   "source": [
    "tt = TexTab(df1980)"
   ]
  },
  {
   "cell_type": "code",
   "execution_count": 24,
   "metadata": {},
   "outputs": [],
   "source": [
    "cns = ['religion', 'direction', 'N', 'mean', 'min', 'p10', 'p50', 'p90', 'max']\n",
    "lcols = ['religion', 'direction']\n",
    "gaps = ['']\n",
    "cap = \"Summary statistics, district-level IM, ages 14-18, 1980s\"\n",
    "#cap = \"Summary statistics, district-level IM, ages 14-18, 1980s, less than 10 districts\"\n",
    "lab = \"tab:_sumstats_im_dist_majrel_1418_1980bch\"\n",
    "#lab = \"tab:_sumstats_im_dist_majrel_1418_1980bch_lt10d\"\n",
    "lines = []\n",
    "notes = '''TABLES NOTES.\n",
    "'''"
   ]
  },
  {
   "cell_type": "code",
   "execution_count": 25,
   "metadata": {},
   "outputs": [],
   "source": [
    "tab = tt.create_tab_onepanel(cns=cns, gaps=gaps, lcols=lcols,\n",
    "                             cap=cap, lab=lab, lines=lines, notes=notes, clines=False)\n",
    "tab = re.sub('\\n&&\\(1\\).+\\\\\\\\\\n\\\\\\\\hline', '', tab)\n",
    "tab = re.sub('\\\\\\\\columnwidth', '0.6\\\\\\\\columnwidth', tab)"
   ]
  },
  {
   "cell_type": "code",
   "execution_count": 26,
   "metadata": {},
   "outputs": [],
   "source": [
    "fh = open(outdir + \"/_2_sumstats_dist_im_majrel_1418_1980bch.tex\", \"w\")\n",
    "#fh = open(outdir + \"/_2_sumstats_dist_im_majrel_1418_1980bch_districts.tex\", \"w\")\n",
    "fh.write(tab)\n",
    "fh.close()"
   ]
  },
  {
   "cell_type": "markdown",
   "metadata": {},
   "source": [
    "### 1990s"
   ]
  },
  {
   "cell_type": "code",
   "execution_count": 27,
   "metadata": {},
   "outputs": [],
   "source": [
    "tt = TexTab(df1990)"
   ]
  },
  {
   "cell_type": "code",
   "execution_count": 28,
   "metadata": {},
   "outputs": [],
   "source": [
    "cns = ['religion', 'direction', 'N', 'mean', 'min', 'p10', 'p50', 'p90', 'max']\n",
    "lcols = ['religion', 'direction']\n",
    "gap = ['']\n",
    "cap = \"Summary statistics, district-level IM, ages 14-18, 1990s\"\n",
    "#cap = \"Summary statistics, district-level IM, ages 14-18, 1990s, less than 10 districts\"\n",
    "lab = \"tab:_sumstats_im_dist_majrel_1418_1990bch\"\n",
    "#lab = \"tab:_sumstats_im_dist_majrel_1418_1990bch_lt10d\"\n",
    "lines = []\n",
    "notes = '''TABLES NOTES.\n",
    "'''"
   ]
  },
  {
   "cell_type": "code",
   "execution_count": 29,
   "metadata": {},
   "outputs": [],
   "source": [
    "tab = tt.create_tab_onepanel(cns=cns, gaps=gaps, lcols=lcols,\n",
    "                             cap=cap, lab=lab, lines=lines, notes=notes, clines=False)\n",
    "tab = re.sub('\\n&&\\(1\\).+\\\\\\\\\\n\\\\\\\\hline', '', tab)\n",
    "tab = re.sub('\\\\\\\\columnwidth', '0.6\\\\\\\\columnwidth', tab)"
   ]
  },
  {
   "cell_type": "code",
   "execution_count": 30,
   "metadata": {},
   "outputs": [],
   "source": [
    "fh = open(outdir + \"/_2_sumstats_dist_im_majrel_1418_1990bch.tex\", \"w\")\n",
    "#fh = open(outdir + \"/_2_sumstats_dist_im_majrel_1418_1990bch_districts.tex\", \"w\")\n",
    "fh.write(tab)\n",
    "fh.close()"
   ]
  }
 ],
 "metadata": {
  "kernelspec": {
   "display_name": "Python 3",
   "language": "python",
   "name": "python3"
  },
  "language_info": {
   "codemirror_mode": {
    "name": "ipython",
    "version": 3
   },
   "file_extension": ".py",
   "mimetype": "text/x-python",
   "name": "python",
   "nbconvert_exporter": "python",
   "pygments_lexer": "ipython3",
   "version": "3.9.4"
  }
 },
 "nbformat": 4,
 "nbformat_minor": 4
}
