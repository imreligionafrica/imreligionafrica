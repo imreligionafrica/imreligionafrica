{
 "cells": [
  {
   "cell_type": "code",
   "execution_count": 1,
   "metadata": {},
   "outputs": [],
   "source": [
    "import pandas as pd\n",
    "import matplotlib.pyplot as plt\n",
    "import matplotlib as mpl\n",
    "plt.style.use('seaborn')\n",
    "mpl.rcParams['font.family'] = 'serif'\n",
    "from scipy import stats\n",
    "import numpy as np\n",
    "from textab import TexTab\n",
    "import re\n",
    "import os"
   ]
  },
  {
   "cell_type": "code",
   "execution_count": 2,
   "metadata": {},
   "outputs": [],
   "source": [
    "current_folder = globals()['_dh'][0]\n",
    "rootdir = os.path.dirname(os.path.dirname(current_folder))\n",
    "wdir = os.path.join(rootdir, '_2_intermediate', 'data')\n",
    "outdir = os.path.join(rootdir, '_3_figures_tables', 'data')"
   ]
  },
  {
   "cell_type": "code",
   "execution_count": 3,
   "metadata": {},
   "outputs": [],
   "source": [
    "def sumstats_df(df):\n",
    "    \n",
    "    ss = []\n",
    "    idx = []\n",
    "    for col in df.columns[1:]:\n",
    "        dat = df[~pd.isnull(df[col])][col]\n",
    "\n",
    "        ss.append([dat.count(), dat.min(), dat.median(), dat.mean(), dat.max(), dat.std()])\n",
    "        idx.append(col[3:] + ', ' + '14-'+ col[1:3])\n",
    "        \n",
    "        \n",
    "    df = pd.DataFrame(ss,\n",
    "                      columns = ['count', 'min', 'median', 'mean', 'max', 'std'],\n",
    "                      index=idx).reset_index(drop=False)   \n",
    "    df.columns = ['sample'] + list(df.columns[1:])\n",
    "    for col in df.columns[1:]:\n",
    "        df[col] = np.round(df[col], 2)\n",
    "    \n",
    "    return df\n",
    "    "
   ]
  },
  {
   "cell_type": "markdown",
   "metadata": {},
   "source": [
    "## Kernel densities of country-religion level IM"
   ]
  },
  {
   "cell_type": "code",
   "execution_count": 4,
   "metadata": {},
   "outputs": [],
   "source": [
    "df = pd.read_csv(os.path.join(wdir, '_cohab_cbyr.csv'))\n",
    "df = df.fillna(0)\n",
    "del df['bd'], df['year'], df['cohab_any_1418'], df['cohab_any_1425']\n",
    "df = df[~((df.major_religion == 'No Religion') | (df.major_religion == 'Other') | (df.major_religion == 0))]\n",
    "df = df.groupby([df.iso, df.major_religion]).sum()\n",
    "df['c18'] = df.cohab_old_1418 / df.all_1418\n",
    "df['c25'] = df.cohab_old_1425 / df.all_1425\n",
    "df = df[['c18', 'c25']]\n",
    "df = df.unstack()\n",
    "df.columns = [x[0] + x[1] for x in df.columns]\n",
    "df = df.reset_index(drop=False)\n",
    "\n",
    "ssc = sumstats_df(df)\n",
    "\n",
    "dc18 = stats.kde.gaussian_kde(df[~pd.isnull(df.c18Christian)].c18Christian)\n",
    "dm18 = stats.kde.gaussian_kde(df[~pd.isnull(df.c18Muslim)].c18Muslim)\n",
    "dt18 = stats.kde.gaussian_kde(df[~pd.isnull(df.c18Traditional)].c18Traditional)\n",
    "dc25 = stats.kde.gaussian_kde(df[~pd.isnull(df.c25Christian)].c25Christian)\n",
    "dm25 = stats.kde.gaussian_kde(df[~pd.isnull(df.c25Muslim)].c25Muslim)\n",
    "dt25 = stats.kde.gaussian_kde(df[~pd.isnull(df.c25Traditional)].c25Traditional)"
   ]
  },
  {
   "cell_type": "markdown",
   "metadata": {},
   "source": [
    "### 14-18"
   ]
  },
  {
   "cell_type": "code",
   "execution_count": 5,
   "metadata": {},
   "outputs": [],
   "source": [
    "x = np.arange(0., 1, .001)\n",
    "f, ax = plt.subplots(1,1, figsize=(10, 6))\n",
    "ax.plot(x, dc18(x), label='Christian')\n",
    "ax.plot(x, dm18(x), label='Muslim')\n",
    "ax.plot(x, dt18(x), label='Traditional')\n",
    "ax.legend(prop={'size': 15})\n",
    "ax.tick_params(axis='both', labelsize=15)\n",
    "ax.set_xlabel('cohabitation rate', size=15)\n",
    "ax.set_ylabel('density', size=15)\n",
    "# plt.show()\n",
    "f.savefig('{}/_7_kdens_cohabrates_country_majrel_1418.pdf'.format(outdir),\n",
    "                  bbox_inches='tight', pad_inches=0, dpi=100)\n",
    "plt.close(f)"
   ]
  },
  {
   "cell_type": "markdown",
   "metadata": {},
   "source": [
    "### 14-25"
   ]
  },
  {
   "cell_type": "code",
   "execution_count": 6,
   "metadata": {},
   "outputs": [],
   "source": [
    "x = np.arange(0., 1, .001)\n",
    "f, ax = plt.subplots(1,1, figsize=(10, 6))\n",
    "ax.plot(x, dc25(x), label='Christian')\n",
    "ax.plot(x, dm25(x), label='Muslim')\n",
    "ax.plot(x, dt25(x), label='Traditional')\n",
    "ax.legend(prop={'size': 15})\n",
    "ax.tick_params(axis='both', labelsize=15)\n",
    "ax.set_xlabel('cohabitation rate', size=15)\n",
    "ax.set_ylabel('density', size=15)\n",
    "# plt.show()\n",
    "f.savefig('{}/_7_kdens_cohabrates_country_majrel_1425.pdf'.format(outdir),\n",
    "                  bbox_inches='tight', pad_inches=0, dpi=100)\n",
    "plt.close(f)"
   ]
  },
  {
   "cell_type": "markdown",
   "metadata": {},
   "source": [
    "## Kernel densities of district-religion level IM"
   ]
  },
  {
   "cell_type": "code",
   "execution_count": 7,
   "metadata": {},
   "outputs": [],
   "source": [
    "df = pd.read_csv(os.path.join(wdir, '_cohab_dbyr.csv'))\n",
    "df = df.fillna(0)\n",
    "del df['bd'], df['year'], df['iso'], df['cohab_any_1418'], df['cohab_any_1425']\n",
    "df = df[~((df.major_religion == 'No Religion') | (df.major_religion == 'Other') | (df.major_religion == 0))]\n",
    "df = df.groupby([df.district, df.major_religion]).sum()\n",
    "df['c18'] = df.cohab_old_1418 / df.all_1418\n",
    "df['c25'] = df.cohab_old_1425 / df.all_1425\n",
    "df = df[['c18', 'c25']]\n",
    "df = df.unstack()\n",
    "df.columns = [x[0] + x[1] for x in df.columns]\n",
    "df = df.reset_index(drop=False)\n",
    "\n",
    "ssd = sumstats_df(df)\n",
    "\n",
    "dc18 = stats.kde.gaussian_kde(df[~pd.isnull(df.c18Christian)].c18Christian)\n",
    "dm18 = stats.kde.gaussian_kde(df[~pd.isnull(df.c18Muslim)].c18Muslim)\n",
    "dt18 = stats.kde.gaussian_kde(df[~pd.isnull(df.c18Traditional)].c18Traditional)\n",
    "dc25 = stats.kde.gaussian_kde(df[~pd.isnull(df.c25Christian)].c25Christian)\n",
    "dm25 = stats.kde.gaussian_kde(df[~pd.isnull(df.c25Muslim)].c25Muslim)\n",
    "dt25 = stats.kde.gaussian_kde(df[~pd.isnull(df.c25Traditional)].c25Traditional)"
   ]
  },
  {
   "cell_type": "markdown",
   "metadata": {},
   "source": [
    "## 14-18"
   ]
  },
  {
   "cell_type": "code",
   "execution_count": 8,
   "metadata": {},
   "outputs": [],
   "source": [
    "x = np.arange(0., 1, .001)\n",
    "f, ax = plt.subplots(1,1, figsize=(10, 6))\n",
    "ax.plot(x, dc18(x), label='Christian')\n",
    "ax.plot(x, dm18(x), label='Muslim')\n",
    "ax.plot(x, dt18(x), label='Traditional')\n",
    "ax.legend(prop={'size': 15})\n",
    "ax.tick_params(axis='both', labelsize=15)\n",
    "ax.set_xlabel('cohabitation rate', size=15)\n",
    "ax.set_ylabel('density', size=15)\n",
    "# plt.show()\n",
    "f.savefig('{}/_7_kdens_cohabrates_district_majrel_1418.pdf'.format(outdir),\n",
    "                  bbox_inches='tight', pad_inches=0, dpi=100)\n",
    "plt.close(f)"
   ]
  },
  {
   "cell_type": "markdown",
   "metadata": {},
   "source": [
    "### 14-25"
   ]
  },
  {
   "cell_type": "code",
   "execution_count": 9,
   "metadata": {},
   "outputs": [],
   "source": [
    "x = np.arange(0., 1, .001)\n",
    "f, ax = plt.subplots(1,1, figsize=(10, 6))\n",
    "ax.plot(x, dc25(x), label='Christian')\n",
    "ax.plot(x, dm25(x), label='Muslim')\n",
    "ax.plot(x, dt25(x), label='Traditional')\n",
    "ax.legend(prop={'size': 15})\n",
    "ax.tick_params(axis='both', labelsize=15)\n",
    "ax.set_xlabel('cohabitation rate', size=15)\n",
    "ax.set_ylabel('density', size=15)\n",
    "# plt.show()\n",
    "f.savefig('{}/_7_kdens_cohabrates_district_majrel_1425.pdf'.format(outdir),\n",
    "                  bbox_inches='tight', pad_inches=0, dpi=100)\n",
    "plt.close(f)"
   ]
  },
  {
   "cell_type": "markdown",
   "metadata": {},
   "source": [
    "## Making table with sumstats"
   ]
  },
  {
   "cell_type": "code",
   "execution_count": 10,
   "metadata": {},
   "outputs": [],
   "source": [
    "df = pd.concat([ssc, ssd.iloc[:,1:]], axis=1)\n",
    "df.columns = ['sample', 'count', 'min', 'median', 'mean', 'max', 'std1', 'count', 'min', 'median', 'mean', 'max', 'std']"
   ]
  },
  {
   "cell_type": "code",
   "execution_count": 11,
   "metadata": {},
   "outputs": [],
   "source": [
    "cns = ['sample', 'count', 'min', 'median', 'mean', 'max', 'std',  'count', 'min', 'median', 'mean', 'max', 'std']\n",
    "lcols = ['sample']\n",
    "gaps = ['sample', 'std1']\n",
    "cap = \"cohabitation summary statistics by country and district\"\n",
    "lab = \"tab:_cohab_kdens_sumstats\"\n",
    "lines = ['']\n",
    "notes = '''TABLE NOTES.\n",
    "'''"
   ]
  },
  {
   "cell_type": "code",
   "execution_count": 12,
   "metadata": {},
   "outputs": [],
   "source": [
    "tt = TexTab(df)\n",
    "tab = tt.create_tab_onepanel(cns=cns, gaps=gaps, lcols=lcols,\n",
    "                             cap=cap, lab=lab, lines=lines,\n",
    "                             notes=notes, clines=False)\n",
    "tab = re.sub(r'&&\\(1\\).+\\n', r'', tab)\n",
    "nl = '&&\\\\\\\\multicolumn{6}{c}{country-level}&&\\\\\\\\multicolumn{6}{c}{district-level}\\\\\\\\\\\\\\n'\n",
    "tab = re.sub(r'(\\\\hline\\n)(\\\\hline)', r'\\1%s\\2' % nl, tab)"
   ]
  },
  {
   "cell_type": "code",
   "execution_count": 13,
   "metadata": {},
   "outputs": [
    {
     "name": "stdout",
     "output_type": "stream",
     "text": [
      "\\begin{table}[ht!]\n",
      "\\singlespacing\n",
      "\\centering\n",
      "\\caption{cohabitation summary statistics by country and district}\n",
      "\\label{tab:_cohab_kdens_sumstats}\n",
      "\\resizebox{\\columnwidth}{!}{\n",
      "\\begin{tabular}{lcccccccccccccc}\n",
      "\\hline\n",
      "&&\\multicolumn{6}{c}{country-level}&&\\multicolumn{6}{c}{district-level}\\\\\n",
      "\\hline\n",
      "sample&\\;\\;\\;\\;\\;\\;\\;\\;\\;\\;\\;&count&min&median&mean&max&std&\\;\\;\\;\\;\\;\\;\\;\\;\\;\\;\\;&count&min&median&mean&max&std\\\\\n",
      "\\hline\n",
      "Christian, 14-18&&21&0.74&0.84&0.84&0.97&0.06&&2,222&0.0&0.84&0.83&1.0&0.12\\\\\n",
      "Muslim, 14-18&&21&0.71&0.85&0.85&0.98&0.07&&2,123&0.0&0.85&0.82&1.0&0.17\\\\\n",
      "Traditional, 14-18&&18&0.65&0.84&0.83&0.9&0.06&&1,442&0.0&0.85&0.8&1.0&0.2\\\\\n",
      "Christian, 14-25&&21&0.55&0.69&0.7&0.85&0.09&&2,265&0.0&0.7&0.68&1.0&0.16\\\\\n",
      "Muslim, 14-25&&21&0.49&0.71&0.7&0.88&0.11&&2,212&0.0&0.69&0.65&1.0&0.2\\\\\n",
      "Traditional, 14-25&&18&0.51&0.7&0.68&0.84&0.1&&1,573&0.0&0.67&0.63&1.0&0.24\\\\\n",
      "\\hline\n",
      "\\end{tabular}\n",
      "}\n",
      "\\captionsetup{size=scriptsize, justification=justified, width=\\columnwidth}\n",
      "\\caption*{TABLE NOTES.\n",
      "}\n",
      "\\end{table}\n"
     ]
    }
   ],
   "source": [
    "print(tab)"
   ]
  },
  {
   "cell_type": "code",
   "execution_count": 14,
   "metadata": {},
   "outputs": [],
   "source": [
    "fh = open(outdir + \"/_cohab_kdens_sumstats.tex\", \"w\")\n",
    "fh.write(tab)\n",
    "fh.close()"
   ]
  }
 ],
 "metadata": {
  "kernelspec": {
   "display_name": "Python 3",
   "language": "python",
   "name": "python3"
  },
  "language_info": {
   "codemirror_mode": {
    "name": "ipython",
    "version": 3
   },
   "file_extension": ".py",
   "mimetype": "text/x-python",
   "name": "python",
   "nbconvert_exporter": "python",
   "pygments_lexer": "ipython3",
   "version": "3.9.4"
  }
 },
 "nbformat": 4,
 "nbformat_minor": 4
}
