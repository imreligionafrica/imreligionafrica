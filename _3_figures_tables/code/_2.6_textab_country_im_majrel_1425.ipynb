{
 "cells": [
  {
   "cell_type": "code",
   "execution_count": 1,
   "metadata": {},
   "outputs": [],
   "source": [
    "import pandas as pd\n",
    "import numpy as np\n",
    "import re\n",
    "import country_converter as coco\n",
    "from textab import TexTab\n",
    "import os"
   ]
  },
  {
   "cell_type": "code",
   "execution_count": 2,
   "metadata": {},
   "outputs": [],
   "source": [
    "current_folder = globals()['_dh'][0]\n",
    "rootdir = os.path.dirname(os.path.dirname(current_folder))\n",
    "wdir = os.path.join(rootdir, '_2_intermediate', 'data')\n",
    "outdir = os.path.join(rootdir, '_3_figures_tables', 'data')"
   ]
  },
  {
   "cell_type": "markdown",
   "metadata": {},
   "source": [
    "### overall country-level"
   ]
  },
  {
   "cell_type": "code",
   "execution_count": 3,
   "metadata": {},
   "outputs": [],
   "source": [
    "df = pd.read_csv(os.path.join(wdir,'_E_ctry_religion_bch10.csv'))\n",
    "df = df[['iso', 'bch10', 'major_religion', 'immg_25', 'imdwmg_25', 'n_immg_25', 'n_imdwmg_25']] \n",
    "df = df[((df.bch10 == 1980) | \n",
    "         (df.bch10 == 1990)) ]\n",
    "df['xup'] = df.immg_25 * df.n_immg_25\n",
    "df['xdn'] = df.imdwmg_25 * df.n_imdwmg_25\n",
    "del df['immg_25'], df['imdwmg_25']\n",
    "df = df[['n_immg_25', 'n_imdwmg_25', 'xup', 'xdn']].groupby([df.iso, df.bch10]).sum()\n",
    "df['im_u'] = df.xup / df.n_immg_25\n",
    "df['im_d'] = df.xdn / df.n_imdwmg_25\n",
    "df = df[['im_u', 'im_d']].reset_index(drop=False)\n",
    "df.index = [df.iso, df.bch10]\n",
    "df = df.drop(['iso', 'bch10'], axis=1)\n",
    "df = df.unstack().reset_index(drop=False)\n",
    "df.columns = df.columns.droplevel()\n",
    "df.columns = ['iso'] + ['{}_{}'.format(var, bd) \n",
    "                        for var in ['up', 'dn'] \n",
    "                        for bd in [1980, 1990]]\n",
    "\n",
    "df.loc[(df.iso == 'LBR') |\n",
    "       (df.iso == 'MLI') |\n",
    "       (df.iso == 'NGA') |\n",
    "       (df.iso == 'TGO'), 'up_1980'] = df.up_1990\n",
    "\n",
    "df.loc[(df.iso == 'LBR') |\n",
    "       (df.iso == 'MLI') |\n",
    "       (df.iso == 'NGA') |\n",
    "       (df.iso == 'TGO'), 'dn_1980'] = df.dn_1990\n",
    "\n",
    "df = df.drop(['up_1990', 'dn_1990'], axis=1)\n",
    "df.columns = ['iso', 'ov_up', 'ov_dn']\n",
    "dfov = df.copy(deep=True)"
   ]
  },
  {
   "cell_type": "markdown",
   "metadata": {},
   "source": [
    "### country-religion-level"
   ]
  },
  {
   "cell_type": "code",
   "execution_count": 4,
   "metadata": {},
   "outputs": [],
   "source": [
    "df = pd.read_csv(os.path.join(wdir,'_E_ctry_religion_bch10.csv'))\n",
    "df = df[['iso', 'bch10', 'major_religion', 'immg_25', 'imdwmg_25']]\n",
    "df = df[((df.bch10 == 1980) | \n",
    "         (df.bch10 == 1990)) &\n",
    "        ((df.major_religion == 'Christian') |\n",
    "         (df.major_religion == 'Muslim') |\n",
    "         (df.major_religion == 'Traditional'))].reset_index(drop=True)\n",
    "df.index = [df.iso, df.bch10, df.major_religion]\n",
    "df = df.drop(['iso', 'bch10', 'major_religion'], axis=1)\n",
    "df = df.unstack().reset_index(drop=False)\n",
    "df.columns = df.columns.droplevel()\n",
    "df.columns = ['iso', 'bd', 'u_c', 'u_m', 'u_t', 'd_c', 'd_m', 'd_t']\n",
    "df.index = [df.iso, df.bd]\n",
    "df = df.drop(['iso', 'bd'], axis=1)\n",
    "df = df.unstack().reset_index(drop=False)\n",
    "df.columns = df.columns.droplevel()\n",
    "df.columns = ['iso'] + ['{}_{}'.format(var, bd) \n",
    "                        for var in ['u_c', 'u_m', 'u_t', 'd_c', 'd_m', 'd_t'] \n",
    "                        for bd in [1980, 1990]]\n",
    "\n",
    "# liberia, mali, nigeria, togo we use 1990s\n",
    "\n",
    "df.loc[(df.iso == 'LBR') |\n",
    "       (df.iso == 'MLI') |\n",
    "       (df.iso == 'NGA') |\n",
    "       (df.iso == 'TGO'), 'u_c_1980'] = df.u_c_1990\n",
    "\n",
    "df.loc[(df.iso == 'LBR') |\n",
    "       (df.iso == 'MLI') |\n",
    "       (df.iso == 'NGA') |\n",
    "       (df.iso == 'TGO'), 'u_m_1980'] = df.u_m_1990\n",
    "\n",
    "df.loc[(df.iso == 'LBR') |\n",
    "       (df.iso == 'MLI') |\n",
    "       (df.iso == 'NGA') |\n",
    "       (df.iso == 'TGO'), 'u_t_1980'] = df.u_t_1990\n",
    "\n",
    "df.loc[(df.iso == 'LBR') |\n",
    "       (df.iso == 'MLI') |\n",
    "       (df.iso == 'NGA') |\n",
    "       (df.iso == 'TGO'), 'd_c_1980'] = df.d_c_1990\n",
    "\n",
    "df.loc[(df.iso == 'LBR') |\n",
    "       (df.iso == 'MLI') |\n",
    "       (df.iso == 'NGA') |\n",
    "       (df.iso == 'TGO'), 'd_m_1980'] = df.d_m_1990\n",
    "\n",
    "df.loc[(df.iso == 'LBR') |\n",
    "       (df.iso == 'MLI') |\n",
    "       (df.iso == 'NGA') |\n",
    "       (df.iso == 'TGO'), 'd_t_1980'] = df.d_t_1990\n",
    "\n",
    "dfc = df.drop(['u_c_1990', 'u_m_1990', 'u_t_1990', 'd_c_1990', 'd_m_1990', 'd_t_1990'], axis=1)"
   ]
  },
  {
   "cell_type": "markdown",
   "metadata": {},
   "source": [
    "### putting together and outputting table"
   ]
  },
  {
   "cell_type": "code",
   "execution_count": 5,
   "metadata": {},
   "outputs": [],
   "source": [
    "def add_colorbars(x1, x2):\n",
    "    \n",
    "    if pd.isnull(x1) or pd.isnull(x2):\n",
    "        return ''\n",
    "    elif x1 > x2:\n",
    "        width=x1-x2\n",
    "        return '\\colorbox{white}{\\parbox{%sem}{\\hfill}}\\colorbox{Green}{\\parbox{%sem}{\\hfill}}' % (5*width, 5*width)\n",
    "    else:\n",
    "        width=x2-x1\n",
    "        return '\\colorbox{Red}{\\parbox{%sem}{\\hfill}}\\colorbox{white}{\\parbox{%sem}{\\hfill}}' % (5*width, 5*width)"
   ]
  },
  {
   "cell_type": "code",
   "execution_count": 6,
   "metadata": {},
   "outputs": [],
   "source": [
    "df = pd.merge(dfov, dfc, on=['iso'], how='outer')\n",
    "df['country'] =  coco.convert(names=list(df['iso']), to='name_short')\n",
    "del df['iso']"
   ]
  },
  {
   "cell_type": "code",
   "execution_count": 7,
   "metadata": {},
   "outputs": [],
   "source": [
    "df['diff_up'] = df.apply(lambda x: add_colorbars(x['u_c_1980'], x['u_m_1980']), axis=1)\n",
    "df['diff_dn'] = df.apply(lambda x: add_colorbars(x['d_c_1980'], x['d_m_1980']), axis=1)"
   ]
  },
  {
   "cell_type": "code",
   "execution_count": 8,
   "metadata": {},
   "outputs": [],
   "source": [
    "df = df[['country', \n",
    "         'ov_up', 'u_c_1980', 'u_m_1980', 'u_t_1980', 'diff_up', \n",
    "         'ov_dn', 'd_c_1980', 'd_m_1980', 'd_t_1980', 'diff_dn']].copy()\n",
    "df['aux'] = df.u_c_1980 - df.u_m_1980\n",
    "df = df.sort_values(by='aux', ascending=False).reset_index(drop=True).copy(deep=True)\n",
    "del df['aux']"
   ]
  },
  {
   "cell_type": "code",
   "execution_count": 9,
   "metadata": {},
   "outputs": [],
   "source": [
    "for col in df.columns[1:]:\n",
    "    if 'diff' not in col:\n",
    "        df[col] = np.round(df[col], 3)\n",
    "for col in df.columns:\n",
    "    df[col] = df[col].astype('str')\n",
    "df = df.replace('nan', '')"
   ]
  },
  {
   "cell_type": "code",
   "execution_count": 10,
   "metadata": {},
   "outputs": [],
   "source": [
    "tt = TexTab(df)"
   ]
  },
  {
   "cell_type": "code",
   "execution_count": 11,
   "metadata": {},
   "outputs": [],
   "source": [
    "cns = ['', '(1)', '(2)', '(3)', '(4)', '(5)', '(6)', '(7)', '(8)', '(9)', '(10)']\n",
    "lcols = ['country']\n",
    "gaps = ['country', 'diff_up']\n",
    "cap = \"Country-group-level estimates of IM, ages 14-25\"\n",
    "lab = \"tab:_im_ctry_majrel_1425\"\n",
    "lines = []\n",
    "notes = '''This table reports upward and downward IM measures for the 1980s cohort (the cohort with the \n",
    "broadest coverage) for individuals aged 14-25 by country and major religious group. Because of the timing of censues, \n",
    "we have to use the 1990s cohort for Liberia, Mali, Nigeria, and Togo as for those countries we \n",
    "don't have 14-25 year olds born in the 1980s. Columns (1) - (4) show the estimates for country-cohort-level upward IM,\n",
    "columns (6) - (9) those for downward IM. Columns (1) and (6) give the country-level estimates across all groups,\n",
    "columns (2) - (4) and (7) - (9) give estimates by group. Columns (5) and (10) show differences\n",
    "between Christians and Muslims. Red bars indicate a negative difference, green bars a positive\n",
    "difference.\n",
    "'''"
   ]
  },
  {
   "cell_type": "code",
   "execution_count": 12,
   "metadata": {},
   "outputs": [],
   "source": [
    "tab = tt.create_tab_onepanel(cns=cns, gaps=gaps, lcols=lcols,\n",
    "                             cap=cap, lab=lab, lines=lines, notes=notes, clines=False)"
   ]
  },
  {
   "cell_type": "code",
   "execution_count": 13,
   "metadata": {},
   "outputs": [],
   "source": [
    "nl = '\\\\\\\\multicolumn{1}{l}{}&&\\\\\\\\multicolumn{5}{c}{upward IM}&&\\\\\\\\multicolumn{5}{c}{downward IM}'\n",
    "tab = re.sub(r'&&&&&&&&&&&', nl, tab)\n",
    "nl = 'country&&overall&Christian&Muslim&Traditional&$\\\\\\\\Delta(c-m)$&&overall&Christian&Muslim&Traditional&$\\\\\\\\Delta(c-m)$\\\\\\\\\\\\\\n'\n",
    "tab = re.sub(r'(\\\\hline\\nNigeria)', r'%s\\1' % nl, tab)\n",
    "tab = re.sub(r'\\(5\\)&\\(6\\)', '(5)&&(6)', tab)\n",
    "tab = re.sub(r'lccccccccccc', r'lcccccccccccc', tab)"
   ]
  },
  {
   "cell_type": "code",
   "execution_count": 14,
   "metadata": {},
   "outputs": [],
   "source": [
    "fh = open(outdir + \"/_2_ctry_im_majrel_1425.tex\", \"w\")\n",
    "fh.write(tab)\n",
    "fh.close()"
   ]
  }
 ],
 "metadata": {
  "kernelspec": {
   "display_name": "Python 3",
   "language": "python",
   "name": "python3"
  },
  "language_info": {
   "codemirror_mode": {
    "name": "ipython",
    "version": 3
   },
   "file_extension": ".py",
   "mimetype": "text/x-python",
   "name": "python",
   "nbconvert_exporter": "python",
   "pygments_lexer": "ipython3",
   "version": "3.9.4"
  }
 },
 "nbformat": 4,
 "nbformat_minor": 4
}
