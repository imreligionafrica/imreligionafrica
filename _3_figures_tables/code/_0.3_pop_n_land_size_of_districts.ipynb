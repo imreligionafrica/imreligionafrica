{
 "cells": [
  {
   "cell_type": "code",
   "execution_count": null,
   "id": "189b985f",
   "metadata": {},
   "outputs": [],
   "source": [
    "import os, geopandas, pandas\n",
    "import country_converter as coco\n",
    "from pyproj import CRS"
   ]
  },
  {
   "cell_type": "code",
   "execution_count": null,
   "id": "257be596",
   "metadata": {},
   "outputs": [],
   "source": [
    "current_folder = globals()['_dh'][0]\n",
    "rootdir = os.path.dirname(os.path.dirname(current_folder))\n",
    "indir_inter = os.path.join(rootdir, '_2_intermediate', 'data')\n",
    "indir_prepro = os.path.join(rootdir, '_1_preprocessing', 'data', 'raw', 'gis')\n",
    "outdir = os.path.join(rootdir, '_3_figures_tables', 'data')"
   ]
  },
  {
   "cell_type": "code",
   "execution_count": null,
   "id": "30f06584",
   "metadata": {},
   "outputs": [],
   "source": [
    "wgs84_crs = CRS.from_string('EPSG:4326') # WGS 1984\n",
    "wcea_crs = CRS.from_string('esri:54034') # World cylindical equal area projection"
   ]
  },
  {
   "cell_type": "code",
   "execution_count": null,
   "id": "c733436f",
   "metadata": {},
   "outputs": [],
   "source": [
    "admin_gdf = geopandas.read_file(os.path.join(indir_prepro, 'districts_for_plotting', 'districts_for_plotting.shp'))[['iso', 'district', 'geometry']]\n",
    "df=pandas.read_csv(os.path.join(indir_inter,'pop_n_land_size_of_districts.csv'))"
   ]
  },
  {
   "cell_type": "code",
   "execution_count": null,
   "id": "7c96beb3",
   "metadata": {},
   "outputs": [],
   "source": [
    "df"
   ]
  },
  {
   "cell_type": "code",
   "execution_count": null,
   "id": "3dbba2f7",
   "metadata": {},
   "outputs": [],
   "source": [
    "admin_gdf"
   ]
  },
  {
   "cell_type": "code",
   "execution_count": null,
   "id": "e9fa101d",
   "metadata": {},
   "outputs": [],
   "source": [
    "admin_gdf = admin_gdf.rename(columns={'iso': 'country'})"
   ]
  },
  {
   "cell_type": "code",
   "execution_count": null,
   "id": "169ba149",
   "metadata": {},
   "outputs": [],
   "source": [
    "admin_gdf['country'] = coco.convert(names = admin_gdf['country'], to = 'name')"
   ]
  },
  {
   "cell_type": "code",
   "execution_count": null,
   "id": "4d1b05de",
   "metadata": {},
   "outputs": [],
   "source": [
    "admin_gdf = admin_gdf.to_crs(crs=wcea_crs)"
   ]
  },
  {
   "cell_type": "code",
   "execution_count": null,
   "id": "70f33e6a",
   "metadata": {},
   "outputs": [],
   "source": [
    "admin_gdf[\"area\"] = admin_gdf['geometry'].area/ 10**6\n",
    "admin_gdf"
   ]
  },
  {
   "cell_type": "code",
   "execution_count": null,
   "id": "71a59034",
   "metadata": {
    "scrolled": true
   },
   "outputs": [],
   "source": [
    "ids = admin_gdf['country'].unique()\n",
    "df_ids = pandas.DataFrame(ids)\n",
    "dfs1=[]\n",
    "dfs2=[]\n",
    "dfs3=[]\n",
    "for id in ids:\n",
    "    #print(id)\n",
    "    df1=admin_gdf.loc[admin_gdf['country']==id, 'area'].mean()\n",
    "    df2=admin_gdf.loc[admin_gdf['country']==id, 'area'].median()\n",
    "    df3=admin_gdf.loc[admin_gdf['country']==id, 'area'].std()\n",
    "    #print(df1)\n",
    "    dfs1.append(df1)\n",
    "    dfs2.append(df2)\n",
    "    dfs3.append(df3)"
   ]
  },
  {
   "cell_type": "code",
   "execution_count": null,
   "id": "de680c22",
   "metadata": {},
   "outputs": [],
   "source": [
    "df_ma = pandas.DataFrame(dfs1)\n",
    "df_meda = pandas.DataFrame(dfs2)\n",
    "df_sda = pandas.DataFrame(dfs3)"
   ]
  },
  {
   "cell_type": "code",
   "execution_count": null,
   "id": "4cb00dd4",
   "metadata": {},
   "outputs": [],
   "source": [
    "df_master=pandas.concat([df_ids,df_ma,df_meda,df_sda], axis=1, ignore_index=True)\n",
    "df_master.columns=['country','mean_area','median_area','std_are']\n",
    "df_master"
   ]
  },
  {
   "cell_type": "code",
   "execution_count": null,
   "id": "61db9bac",
   "metadata": {},
   "outputs": [],
   "source": [
    "master=pandas.merge(admin_gdf,df_master, how='left', left_on='country', right_on='country')\n",
    "master"
   ]
  },
  {
   "cell_type": "code",
   "execution_count": null,
   "id": "659d5fd2",
   "metadata": {},
   "outputs": [],
   "source": [
    "master=pandas.merge(master,df, how='left', left_on='country', right_on='country')\n",
    "master"
   ]
  },
  {
   "cell_type": "code",
   "execution_count": null,
   "id": "c4a434f9",
   "metadata": {},
   "outputs": [],
   "source": [
    "master1=master.drop_duplicates(subset=['country'])\n",
    "master2=master1.drop('geometry',axis=1)\n",
    "master2"
   ]
  }
 ],
 "metadata": {
  "kernelspec": {
   "display_name": "geo",
   "language": "python",
   "name": "python3"
  },
  "language_info": {
   "codemirror_mode": {
    "name": "ipython",
    "version": 3
   },
   "file_extension": ".py",
   "mimetype": "text/x-python",
   "name": "python",
   "nbconvert_exporter": "python",
   "pygments_lexer": "ipython3",
   "version": "3.11.2"
  },
  "vscode": {
   "interpreter": {
    "hash": "4dc5d84d173dc1171a3b7987f7238db85e775472178a8ee1f3827b7e8efb7280"
   }
  }
 },
 "nbformat": 4,
 "nbformat_minor": 5
}
