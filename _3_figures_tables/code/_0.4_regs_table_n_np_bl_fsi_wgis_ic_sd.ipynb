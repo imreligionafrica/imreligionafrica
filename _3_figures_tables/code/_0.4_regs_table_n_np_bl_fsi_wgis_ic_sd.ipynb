{
 "cells": [
  {
   "cell_type": "code",
   "execution_count": 1,
   "id": "ab341ef4-80ec-4b78-a5d2-ec46c5412190",
   "metadata": {},
   "outputs": [],
   "source": [
    "import os\n",
    "import pandas as pd\n",
    "import statsmodels.api as sm\n",
    "from stargazer.stargazer import Stargazer"
   ]
  },
  {
   "cell_type": "code",
   "execution_count": 2,
   "id": "6becf3d5-cdc0-4c66-a6b0-2a5d58a6acc6",
   "metadata": {},
   "outputs": [],
   "source": [
    "current_folder = globals()['_dh'][0]\n",
    "rootdir = os.path.dirname(os.path.dirname(current_folder))\n",
    "wdir = os.path.join(rootdir, '_2_intermediate', 'data')"
   ]
  },
  {
   "cell_type": "code",
   "execution_count": 3,
   "id": "a03ce9bc-b306-4977-8419-3977c2737d4c",
   "metadata": {},
   "outputs": [],
   "source": [
    "def sm_tom(colname):\n",
    "    df_est = df[[colname, 'nature_sample_identifier']].dropna()\n",
    "    return sm.OLS(endog=df_est[colname], \n",
    "                  exog=sm.add_constant(df_est[['nature_sample_identifier']])\n",
    "                 ).fit()\n",
    "\n",
    "def reg_table(colnames):\n",
    "    stgz = Stargazer([sm_tom(colname) for colname in colnames])\n",
    "    stgz.custom_columns(colnames, [1] * len(colnames))\n",
    "    return stgz"
   ]
  },
  {
   "cell_type": "code",
   "execution_count": 4,
   "id": "e00efe53-6436-49ea-a6af-6520dbe73bbd",
   "metadata": {},
   "outputs": [],
   "source": [
    "df = pd.read_csv(os.path.join(wdir, 'table_n_np_bl_fsi_wgis_ic_sd.csv'))"
   ]
  },
  {
   "cell_type": "markdown",
   "id": "54e478c9-ca39-4c95-8c48-0bfe504bd6f8",
   "metadata": {},
   "source": [
    "# Table B.6: Test of Means: Real GDP per capita"
   ]
  },
  {
   "cell_type": "code",
   "execution_count": 5,
   "id": "3c5fb22f-991b-4d93-b39a-c47e2c1cfe01",
   "metadata": {},
   "outputs": [
    {
     "data": {
      "text/html": [
       "<table style=\"text-align:center\"><tr><td colspan=\"8\" style=\"border-bottom: 1px solid black\"></td></tr><tr><td style=\"text-align:left\"></td><tr><td></td><td colspan=\"1\">rgdppc_2000</td><td colspan=\"1\">rgdppc_1995</td><td colspan=\"1\">rgdppc_1950_m</td><td colspan=\"1\">rgdppc_1975_m</td><td colspan=\"1\">rgdppc_2000_m</td><td colspan=\"1\">rgdppc_1950_2000_m</td><td colspan=\"1\">ln_maddison_pcgdp2000</td></tr><tr><td style=\"text-align:left\"></td><td>(1)</td><td>(2)</td><td>(3)</td><td>(4)</td><td>(5)</td><td>(6)</td><td>(7)</td></tr><tr><td colspan=\"8\" style=\"border-bottom: 1px solid black\"></td></tr><tr><td style=\"text-align:left\">const</td><td>2987.933<sup>***</sup></td><td>2792.588<sup>***</sup></td><td>912.007<sup>***</sup></td><td>1771.402<sup>***</sup></td><td>1786.246<sup>***</sup></td><td>1493.594<sup>***</sup></td><td>7.119<sup>***</sup></td></tr><tr><td style=\"text-align:left\"></td><td>(613.515)</td><td>(491.765)</td><td>(118.934)</td><td>(301.493)</td><td>(382.548)</td><td>(216.232)</td><td>(0.152)</td></tr><tr><td style=\"text-align:left\">nature_sample_identifier</td><td>-577.544<sup></sup></td><td>-335.297<sup></sup></td><td>-9.870<sup></sup></td><td>-430.680<sup></sup></td><td>51.787<sup></sup></td><td>-167.034<sup></sup></td><td>-0.042<sup></sup></td></tr><tr><td style=\"text-align:left\"></td><td>(920.273)</td><td>(743.479)</td><td>(182.323)</td><td>(462.180)</td><td>(586.436)</td><td>(331.477)</td><td>(0.234)</td></tr><td colspan=\"8\" style=\"border-bottom: 1px solid black\"></td></tr><tr><td style=\"text-align: left\">Observations</td><td>45</td><td>48</td><td>47</td><td>47</td><td>47</td><td>47</td><td>50</td></tr><tr><td style=\"text-align: left\">R<sup>2</sup></td><td>0.009</td><td>0.004</td><td>0.000</td><td>0.019</td><td>0.000</td><td>0.006</td><td>0.001</td></tr><tr><td style=\"text-align: left\">Adjusted R<sup>2</sup></td><td>-0.014</td><td>-0.017</td><td>-0.022</td><td>-0.003</td><td>-0.022</td><td>-0.016</td><td>-0.020</td></tr><tr><td style=\"text-align: left\">Residual Std. Error</td><td>3067.577 (df=43)</td><td>2555.286 (df=46)</td><td>618.000 (df=45)</td><td>1566.604 (df=45)</td><td>1987.780 (df=45)</td><td>1123.573 (df=45)</td><td>0.817 (df=48)</td></tr><tr><td style=\"text-align: left\">F Statistic</td><td>0.394<sup></sup> (df=1; 43)</td><td>0.203<sup></sup> (df=1; 46)</td><td>0.003<sup></sup> (df=1; 45)</td><td>0.868<sup></sup> (df=1; 45)</td><td>0.008<sup></sup> (df=1; 45)</td><td>0.254<sup></sup> (df=1; 45)</td><td>0.032<sup></sup> (df=1; 48)</td></tr><tr><td colspan=\"8\" style=\"border-bottom: 1px solid black\"></td></tr><tr><td style=\"text-align: left\">Note:</td>\n",
       " <td colspan=\"7\" style=\"text-align: right\">\n",
       "  <sup>*</sup>p&lt;0.1;\n",
       "  <sup>**</sup>p&lt;0.05;\n",
       "  <sup>***</sup>p&lt;0.01\n",
       " </td></tr></table>"
      ],
      "text/plain": [
       "<stargazer.stargazer.Stargazer at 0x7f7bf7223ad0>"
      ]
     },
     "execution_count": 5,
     "metadata": {},
     "output_type": "execute_result"
    }
   ],
   "source": [
    "reg_table(['rgdppc_2000', 'rgdppc_1995', 'rgdppc_1950_m', 'rgdppc_1975_m', 'rgdppc_2000_m', 'rgdppc_1950_2000_m', 'ln_maddison_pcgdp2000'])"
   ]
  },
  {
   "cell_type": "markdown",
   "id": "2f517ce3-12cb-40ec-80d2-5e191716c2d9",
   "metadata": {},
   "source": [
    "# Table B.7: Test of Means: Completed Primary Schooling "
   ]
  },
  {
   "cell_type": "code",
   "execution_count": 6,
   "id": "0621fabd-5874-4f4f-852a-2f2f643cb140",
   "metadata": {},
   "outputs": [
    {
     "data": {
      "text/html": [
       "<table style=\"text-align:center\"><tr><td colspan=\"6\" style=\"border-bottom: 1px solid black\"></td></tr><tr><td style=\"text-align:left\"></td><tr><td></td><td colspan=\"1\">mean_lpc_1950s</td><td colspan=\"1\">mean_lpc_1960s</td><td colspan=\"1\">mean_lpc_1970s</td><td colspan=\"1\">mean_lpc_1980s</td><td colspan=\"1\">mean_lpc_1990s</td></tr><tr><td style=\"text-align:left\"></td><td>(1)</td><td>(2)</td><td>(3)</td><td>(4)</td><td>(5)</td></tr><tr><td colspan=\"6\" style=\"border-bottom: 1px solid black\"></td></tr><tr><td style=\"text-align:left\">const</td><td>4.154<sup>***</sup></td><td>6.129<sup>***</sup></td><td>9.744<sup>***</sup></td><td>13.582<sup>***</sup></td><td>18.112<sup>***</sup></td></tr><tr><td style=\"text-align:left\"></td><td>(0.961)</td><td>(0.958)</td><td>(1.071)</td><td>(1.348)</td><td>(1.777)</td></tr><tr><td style=\"text-align:left\">nature_sample_identifier</td><td>1.411<sup></sup></td><td>0.944<sup></sup></td><td>-1.205<sup></sup></td><td>-2.129<sup></sup></td><td>-4.193<sup></sup></td></tr><tr><td style=\"text-align:left\"></td><td>(1.399)</td><td>(1.394)</td><td>(1.558)</td><td>(1.962)</td><td>(2.585)</td></tr><td colspan=\"6\" style=\"border-bottom: 1px solid black\"></td></tr><tr><td style=\"text-align: left\">Observations</td><td>36</td><td>36</td><td>36</td><td>36</td><td>36</td></tr><tr><td style=\"text-align: left\">R<sup>2</sup></td><td>0.029</td><td>0.013</td><td>0.017</td><td>0.033</td><td>0.072</td></tr><tr><td style=\"text-align: left\">Adjusted R<sup>2</sup></td><td>0.000</td><td>-0.016</td><td>-0.012</td><td>0.005</td><td>0.045</td></tr><tr><td style=\"text-align: left\">Residual Std. Error</td><td>4.190 (df=34)</td><td>4.176 (df=34)</td><td>4.668 (df=34)</td><td>5.878 (df=34)</td><td>7.744 (df=34)</td></tr><tr><td style=\"text-align: left\">F Statistic</td><td>1.017<sup></sup> (df=1; 34)</td><td>0.459<sup></sup> (df=1; 34)</td><td>0.598<sup></sup> (df=1; 34)</td><td>1.177<sup></sup> (df=1; 34)</td><td>2.631<sup></sup> (df=1; 34)</td></tr><tr><td colspan=\"6\" style=\"border-bottom: 1px solid black\"></td></tr><tr><td style=\"text-align: left\">Note:</td>\n",
       " <td colspan=\"5\" style=\"text-align: right\">\n",
       "  <sup>*</sup>p&lt;0.1;\n",
       "  <sup>**</sup>p&lt;0.05;\n",
       "  <sup>***</sup>p&lt;0.01\n",
       " </td></tr></table>"
      ],
      "text/plain": [
       "<stargazer.stargazer.Stargazer at 0x7f7bf7252ad0>"
      ]
     },
     "execution_count": 6,
     "metadata": {},
     "output_type": "execute_result"
    }
   ],
   "source": [
    "reg_table(['mean_lpc_1950s', 'mean_lpc_1960s', 'mean_lpc_1970s', 'mean_lpc_1980s', 'mean_lpc_1990s'])"
   ]
  },
  {
   "cell_type": "markdown",
   "id": "6438fbf3-6d3e-4e4b-96b7-ea92c8b33b7a",
   "metadata": {},
   "source": [
    "# Table B.8: Test of Means: Institutional Quality"
   ]
  },
  {
   "cell_type": "code",
   "execution_count": 7,
   "id": "ebefd125-2074-4bc6-8a46-cbdee29a78ba",
   "metadata": {},
   "outputs": [
    {
     "data": {
      "text/html": [
       "<table style=\"text-align:center\"><tr><td colspan=\"7\" style=\"border-bottom: 1px solid black\"></td></tr><tr><td style=\"text-align:left\"></td><tr><td></td><td colspan=\"1\">control_of_corruption</td><td colspan=\"1\">government_effectiveness</td><td colspan=\"1\">pol_stab_n_abs_of_viol</td><td colspan=\"1\">regulatory_quality</td><td colspan=\"1\">rule_of_law</td><td colspan=\"1\">voice_n_accountability</td></tr><tr><td style=\"text-align:left\"></td><td>(1)</td><td>(2)</td><td>(3)</td><td>(4)</td><td>(5)</td><td>(6)</td></tr><tr><td colspan=\"7\" style=\"border-bottom: 1px solid black\"></td></tr><tr><td style=\"text-align:left\">const</td><td>-0.772<sup>***</sup></td><td>-0.857<sup>***</sup></td><td>-0.736<sup>***</sup></td><td>-0.836<sup>***</sup></td><td>-0.882<sup>***</sup></td><td>-0.830<sup>***</sup></td></tr><tr><td style=\"text-align:left\"></td><td>(0.106)</td><td>(0.107)</td><td>(0.175)</td><td>(0.112)</td><td>(0.123)</td><td>(0.121)</td></tr><tr><td style=\"text-align:left\">nature_sample_identifier</td><td>0.226<sup></sup></td><td>0.203<sup></sup></td><td>0.363<sup></sup></td><td>0.278<sup></sup></td><td>0.330<sup>*</sup></td><td>0.444<sup>**</sup></td></tr><tr><td style=\"text-align:left\"></td><td>(0.165)</td><td>(0.167)</td><td>(0.272)</td><td>(0.174)</td><td>(0.192)</td><td>(0.188)</td></tr><td colspan=\"7\" style=\"border-bottom: 1px solid black\"></td></tr><tr><td style=\"text-align: left\">Observations</td><td>46</td><td>46</td><td>46</td><td>46</td><td>46</td><td>46</td></tr><tr><td style=\"text-align: left\">R<sup>2</sup></td><td>0.041</td><td>0.032</td><td>0.039</td><td>0.055</td><td>0.063</td><td>0.112</td></tr><tr><td style=\"text-align: left\">Adjusted R<sup>2</sup></td><td>0.019</td><td>0.010</td><td>0.017</td><td>0.033</td><td>0.042</td><td>0.092</td></tr><tr><td style=\"text-align: left\">Residual Std. Error</td><td>0.551 (df=44)</td><td>0.557 (df=44)</td><td>0.909 (df=44)</td><td>0.581 (df=44)</td><td>0.641 (df=44)</td><td>0.629 (df=44)</td></tr><tr><td style=\"text-align: left\">F Statistic</td><td>1.873<sup></sup> (df=1; 44)</td><td>1.475<sup></sup> (df=1; 44)</td><td>1.778<sup></sup> (df=1; 44)</td><td>2.545<sup></sup> (df=1; 44)</td><td>2.963<sup>*</sup> (df=1; 44)</td><td>5.557<sup>**</sup> (df=1; 44)</td></tr><tr><td colspan=\"7\" style=\"border-bottom: 1px solid black\"></td></tr><tr><td style=\"text-align: left\">Note:</td>\n",
       " <td colspan=\"6\" style=\"text-align: right\">\n",
       "  <sup>*</sup>p&lt;0.1;\n",
       "  <sup>**</sup>p&lt;0.05;\n",
       "  <sup>***</sup>p&lt;0.01\n",
       " </td></tr></table>"
      ],
      "text/plain": [
       "<stargazer.stargazer.Stargazer at 0x7f7bf726f0d0>"
      ]
     },
     "execution_count": 7,
     "metadata": {},
     "output_type": "execute_result"
    }
   ],
   "source": [
    "reg_table(['control_of_corruption', 'government_effectiveness', 'pol_stab_n_abs_of_viol', 'regulatory_quality', 'rule_of_law', 'voice_n_accountability'])"
   ]
  },
  {
   "cell_type": "markdown",
   "id": "477e0fff-8c70-4de0-a220-c1779e27effb",
   "metadata": {},
   "source": [
    "# Table B.9: Test of Means: State Capacity"
   ]
  },
  {
   "cell_type": "code",
   "execution_count": 8,
   "id": "d6bc7acb-3f0c-42d6-8c56-f1cb0b526726",
   "metadata": {},
   "outputs": [
    {
     "data": {
      "text/html": [
       "<table style=\"text-align:center\"><tr><td colspan=\"7\" style=\"border-bottom: 1px solid black\"></td></tr><tr><td style=\"text-align:left\"></td><tr><td></td><td colspan=\"1\">mean_fsi</td><td colspan=\"1\">years_of_conflict</td><td colspan=\"1\">mincometaxrevenuegdp</td><td colspan=\"1\">mtaxrevenue</td><td colspan=\"1\">mgadp</td><td colspan=\"1\">state_dev</td></tr><tr><td style=\"text-align:left\"></td><td>(1)</td><td>(2)</td><td>(3)</td><td>(4)</td><td>(5)</td><td>(6)</td></tr><tr><td colspan=\"7\" style=\"border-bottom: 1px solid black\"></td></tr><tr><td style=\"text-align:left\">const</td><td>90.977<sup>***</sup></td><td>2.913<sup>***</sup></td><td>0.149<sup>***</sup></td><td>0.372<sup>***</sup></td><td>0.501<sup>***</sup></td><td>0.577<sup>***</sup></td></tr><tr><td style=\"text-align:left\"></td><td>(2.913)</td><td>(0.402)</td><td>(0.026)</td><td>(0.029)</td><td>(0.027)</td><td>(0.063)</td></tr><tr><td style=\"text-align:left\">nature_sample_identifier</td><td>-2.543<sup></sup></td><td>-0.038<sup></sup></td><td>0.005<sup></sup></td><td>-0.059<sup></sup></td><td>-0.015<sup></sup></td><td>0.008<sup></sup></td></tr><tr><td style=\"text-align:left\"></td><td>(4.370)</td><td>(0.628)</td><td>(0.038)</td><td>(0.041)</td><td>(0.038)</td><td>(0.099)</td></tr><td colspan=\"7\" style=\"border-bottom: 1px solid black\"></td></tr><tr><td style=\"text-align: left\">Observations</td><td>36</td><td>39</td><td>42</td><td>42</td><td>35</td><td>47</td></tr><tr><td style=\"text-align: left\">R<sup>2</sup></td><td>0.010</td><td>0.000</td><td>0.000</td><td>0.048</td><td>0.005</td><td>0.000</td></tr><tr><td style=\"text-align: left\">Adjusted R<sup>2</sup></td><td>-0.019</td><td>-0.027</td><td>-0.025</td><td>0.024</td><td>-0.026</td><td>-0.022</td></tr><tr><td style=\"text-align: left\">Residual Std. Error</td><td>13.028 (df=34)</td><td>1.928 (df=37)</td><td>0.123 (df=40)</td><td>0.134 (df=40)</td><td>0.113 (df=33)</td><td>0.333 (df=45)</td></tr><tr><td style=\"text-align: left\">F Statistic</td><td>0.339<sup></sup> (df=1; 34)</td><td>0.004<sup></sup> (df=1; 37)</td><td>0.018<sup></sup> (df=1; 40)</td><td>2.018<sup></sup> (df=1; 40)</td><td>0.149<sup></sup> (df=1; 33)</td><td>0.006<sup></sup> (df=1; 45)</td></tr><tr><td colspan=\"7\" style=\"border-bottom: 1px solid black\"></td></tr><tr><td style=\"text-align: left\">Note:</td>\n",
       " <td colspan=\"6\" style=\"text-align: right\">\n",
       "  <sup>*</sup>p&lt;0.1;\n",
       "  <sup>**</sup>p&lt;0.05;\n",
       "  <sup>***</sup>p&lt;0.01\n",
       " </td></tr></table>"
      ],
      "text/plain": [
       "<stargazer.stargazer.Stargazer at 0x7f7bf7289e50>"
      ]
     },
     "execution_count": 8,
     "metadata": {},
     "output_type": "execute_result"
    }
   ],
   "source": [
    "reg_table(['mean_fsi', 'years_of_conflict', 'mincometaxrevenuegdp', 'mtaxrevenue', 'mgadp', 'state_dev'])"
   ]
  }
 ],
 "metadata": {
  "kernelspec": {
   "display_name": "Python 3",
   "language": "python",
   "name": "python3"
  },
  "language_info": {
   "codemirror_mode": {
    "name": "ipython",
    "version": 3
   },
   "file_extension": ".py",
   "mimetype": "text/x-python",
   "name": "python",
   "nbconvert_exporter": "python",
   "pygments_lexer": "ipython3",
   "version": "3.9.4"
  }
 },
 "nbformat": 4,
 "nbformat_minor": 5
}
