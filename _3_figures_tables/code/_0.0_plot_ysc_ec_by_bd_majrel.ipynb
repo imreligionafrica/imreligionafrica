{
 "cells": [
  {
   "cell_type": "code",
   "execution_count": 1,
   "metadata": {},
   "outputs": [],
   "source": [
    "import numpy as np\n",
    "import pandas as pd\n",
    "import matplotlib.pyplot as plt\n",
    "import matplotlib as mpl\n",
    "plt.style.use('seaborn')\n",
    "mpl.rcParams['font.family'] = 'serif'\n",
    "%matplotlib inline\n",
    "import os"
   ]
  },
  {
   "cell_type": "code",
   "execution_count": 2,
   "metadata": {},
   "outputs": [],
   "source": [
    "current_folder = globals()['_dh'][0]\n",
    "rootdir = os.path.dirname(os.path.dirname(current_folder))\n",
    "wdir = os.path.join(rootdir, '_2_intermediate', 'data')\n",
    "outdir = os.path.join(rootdir, '_3_figures_tables', 'data')"
   ]
  },
  {
   "cell_type": "code",
   "execution_count": 3,
   "metadata": {},
   "outputs": [],
   "source": [
    "mr = pd.read_csv(os.path.join(wdir, '_mean_ysc_ec_by_bd_major_religion.csv'))"
   ]
  },
  {
   "cell_type": "code",
   "execution_count": 4,
   "metadata": {},
   "outputs": [],
   "source": [
    "for iso in ['CMR', 'ETH', 'MLI', 'NGA', 'SEN', 'UGA']:\n",
    "    df = mr[(mr.iso == iso) & (mr.bd >= 1920) & (mr.bd <= 1990)]\n",
    "    if iso == \"SEN\":\n",
    "        df = df[df.major_religion != 'No Religion']\n",
    "    elif iso == \"NGA\":\n",
    "        df = df[df.major_religion != 'Other']\n",
    "    f, ax = plt.subplots(1,1, figsize=(10, 4))\n",
    "    for majrel in ['Christian', 'Muslim', 'Traditional', 'Other', 'No Religion']:\n",
    "        if majrel in set(df.major_religion):\n",
    "            ax.plot(df[df.major_religion == majrel].bd, df[df.major_religion == majrel].lit14, label=majrel)\n",
    "    ax.legend(fontsize=13)\n",
    "    ax.tick_params(axis='both', which='major', labelsize=15)\n",
    "    ax.set_xlabel('birth decade',size=15)\n",
    "    ax.set_ylabel('share completed primary',size=15)\n",
    "    f.savefig('{}/_0_lit14_majrel_{}.pdf'.format(outdir, iso),\n",
    "                    bbox_inches='tight', dpi=100)\n",
    "    plt.close(f)"
   ]
  }
 ],
 "metadata": {
  "kernelspec": {
   "display_name": "Python 3",
   "language": "python",
   "name": "python3"
  },
  "language_info": {
   "codemirror_mode": {
    "name": "ipython",
    "version": 3
   },
   "file_extension": ".py",
   "mimetype": "text/x-python",
   "name": "python",
   "nbconvert_exporter": "python",
   "pygments_lexer": "ipython3",
   "version": "3.9.4"
  }
 },
 "nbformat": 4,
 "nbformat_minor": 4
}
