{
 "cells": [
  {
   "cell_type": "code",
   "execution_count": 1,
   "metadata": {},
   "outputs": [],
   "source": [
    "import numpy as np\n",
    "import pandas as pd\n",
    "import matplotlib.pyplot as plt\n",
    "import matplotlib as mpl\n",
    "# from scipy.stats import norm, t\n",
    "plt.style.use('seaborn')\n",
    "mpl.rcParams['font.family'] = 'serif'\n",
    "import seaborn as sns\n",
    "# from CoefPlot import CoefPlot\n",
    "import os"
   ]
  },
  {
   "cell_type": "code",
   "execution_count": 2,
   "metadata": {},
   "outputs": [],
   "source": [
    "current_folder = globals()['_dh'][0]\n",
    "rootdir = os.path.dirname(os.path.dirname(current_folder))\n",
    "wdir = os.path.join(rootdir, '_2_intermediate', 'data')\n",
    "outdir = os.path.join(rootdir, '_3_figures_tables', 'data')"
   ]
  },
  {
   "cell_type": "code",
   "execution_count": 3,
   "metadata": {},
   "outputs": [],
   "source": [
    "nolitold = pd.read_csv(os.path.join(wdir, '_indlevel_gapregs_results_ethsample_noethfe_noshrlitold.csv'))\n",
    "litold = pd.read_csv(os.path.join(wdir, '_indlevel_gapregs_results_ethsample_noethfe.csv'))"
   ]
  },
  {
   "cell_type": "code",
   "execution_count": 4,
   "metadata": {},
   "outputs": [],
   "source": [
    "drop_nolitolt = ['-',\n",
    "                 '+ district-urban FEs']\n",
    "drop_litold = ['-',\n",
    "               'country-birth-decade FE + child age FEs',\n",
    "               '+ religion-district-specific share of literate old',\n",
    "               '+ hh sz + I(mg hh) + #hh mbrs same gen, prev. gen, prev. gen w/o mom/pop + fam struct dummies + rel head dummies + pg aab dummies']"
   ]
  },
  {
   "cell_type": "code",
   "execution_count": 5,
   "metadata": {},
   "outputs": [],
   "source": [
    "nolitold = nolitold[(~nolitold.controls.isin(drop_nolitolt)) & \n",
    "                    (~nolitold.controls.str.contains('above median')) ].reset_index(drop=True)\n",
    "litold = litold[~litold.controls.isin(drop_litold)].reset_index(drop=True)\n",
    "litold = litold[~((litold.controls.str.contains('C v T')) & (litold.religion=='muslim'))]\n",
    "litold = litold[~((litold.controls.str.contains('C v M')) & (litold.religion=='traditional'))]\n",
    "litold.loc[litold.controls.str.contains('above median'), 'controls'] = 'in above median closest parental education distribution districts: C v X'\n",
    "litold.loc[litold.controls.str.contains('occupation'), 'controls'] = '+ religion-district-specific share of literate old'"
   ]
  },
  {
   "cell_type": "code",
   "execution_count": 6,
   "metadata": {},
   "outputs": [
    {
     "data": {
      "text/plain": [
       "country-birth-decade FE + child age FEs                                                                                              12\n",
       "+ hh sz + I(mg hh) + #hh mbrs same gen, prev. gen, prev. gen w/o mom/pop + fam struct dummies + rel head dummies + pg aab dummies    12\n",
       "+ urban + prev. gen. industry + prev. gen. occupation                                                                                12\n",
       "Name: controls, dtype: int64"
      ]
     },
     "execution_count": 6,
     "metadata": {},
     "output_type": "execute_result"
    }
   ],
   "source": [
    "nolitold.controls.value_counts()"
   ]
  },
  {
   "cell_type": "code",
   "execution_count": 7,
   "metadata": {},
   "outputs": [
    {
     "data": {
      "text/plain": [
       "+ religion-district-specific share of literate old                          12\n",
       "+ district-urban FEs                                                        12\n",
       "in above median closest parental education distribution districts: C v X    12\n",
       "Name: controls, dtype: int64"
      ]
     },
     "execution_count": 7,
     "metadata": {},
     "output_type": "execute_result"
    }
   ],
   "source": [
    "litold.controls.value_counts()"
   ]
  },
  {
   "cell_type": "code",
   "execution_count": 8,
   "metadata": {},
   "outputs": [],
   "source": [
    "dfall = pd.concat([nolitold, litold], axis=0, ignore_index=True)"
   ]
  },
  {
   "cell_type": "code",
   "execution_count": 9,
   "metadata": {},
   "outputs": [],
   "source": [
    "def specification_order(x):\n",
    "    \n",
    "    spord = {}\n",
    "    spord['country-birth-decade FE + child age FEs'] = 1\n",
    "    spord['+ hh sz + I(mg hh) + #hh mbrs same gen, prev. gen, prev. gen w/o mom/pop + fam struct dummies + rel head dummies + pg aab dummies'] = 2\n",
    "    spord['+ urban + prev. gen. industry + prev. gen. occupation'] = 3\n",
    "    spord['+ religion-district-specific share of literate old'] = 4\n",
    "    spord['+ district-urban FEs'] = 5\n",
    "    spord['in above median closest parental education distribution districts: C v X'] = 6\n",
    "    \n",
    "    return spord[x]"
   ]
  },
  {
   "cell_type": "code",
   "execution_count": 10,
   "metadata": {},
   "outputs": [],
   "source": [
    "dfall.columns = ['samp', 'direction', 'controls', 'religion', 'b', 'se', 'N']\n",
    "dfall['order'] = dfall.controls.apply(lambda x: specification_order(x))\n",
    "dfall.loc[dfall.controls == '+ religion-district-specific share of literate old', 'controls'] = '+ religion-district-specific shr literate old'\n",
    "dfall.loc[dfall.controls == '+ hh sz + I(mg hh) + #hh mbrs same gen, prev. gen, prev. gen w/o mom/pop + fam struct dummies + rel head dummies + pg aab dummies', 'controls'] = '+ household/family characteristics'\n",
    "dfall.loc[dfall.controls == '+ urban + prev. gen. industry + prev. gen. occupation', 'controls'] = '+ occupational specialization + urban/rural'\n",
    "dfall.loc[dfall.controls == 'in above median closest parental education distribution districts: C v M', 'controls'] = 'in > 50% C v X similar old edu. districts'"
   ]
  },
  {
   "cell_type": "code",
   "execution_count": 11,
   "metadata": {},
   "outputs": [
    {
     "data": {
      "text/html": [
       "<div>\n",
       "<style scoped>\n",
       "    .dataframe tbody tr th:only-of-type {\n",
       "        vertical-align: middle;\n",
       "    }\n",
       "\n",
       "    .dataframe tbody tr th {\n",
       "        vertical-align: top;\n",
       "    }\n",
       "\n",
       "    .dataframe thead th {\n",
       "        text-align: right;\n",
       "    }\n",
       "</style>\n",
       "<table border=\"1\" class=\"dataframe\">\n",
       "  <thead>\n",
       "    <tr style=\"text-align: right;\">\n",
       "      <th></th>\n",
       "      <th>samp</th>\n",
       "      <th>direction</th>\n",
       "      <th>controls</th>\n",
       "      <th>religion</th>\n",
       "      <th>b</th>\n",
       "      <th>se</th>\n",
       "      <th>N</th>\n",
       "      <th>order</th>\n",
       "    </tr>\n",
       "  </thead>\n",
       "  <tbody>\n",
       "    <tr>\n",
       "      <th>0</th>\n",
       "      <td>all</td>\n",
       "      <td>down</td>\n",
       "      <td>country-birth-decade FE + child age FEs</td>\n",
       "      <td>muslim</td>\n",
       "      <td>0.040963</td>\n",
       "      <td>0.018844</td>\n",
       "      <td>1189912</td>\n",
       "      <td>1</td>\n",
       "    </tr>\n",
       "    <tr>\n",
       "      <th>1</th>\n",
       "      <td>all</td>\n",
       "      <td>down</td>\n",
       "      <td>+ household/family characteristics</td>\n",
       "      <td>muslim</td>\n",
       "      <td>0.034286</td>\n",
       "      <td>0.015528</td>\n",
       "      <td>1189912</td>\n",
       "      <td>2</td>\n",
       "    </tr>\n",
       "    <tr>\n",
       "      <th>2</th>\n",
       "      <td>all</td>\n",
       "      <td>down</td>\n",
       "      <td>+ occupational specialization + urban/rural</td>\n",
       "      <td>muslim</td>\n",
       "      <td>0.042037</td>\n",
       "      <td>0.013927</td>\n",
       "      <td>1189912</td>\n",
       "      <td>3</td>\n",
       "    </tr>\n",
       "    <tr>\n",
       "      <th>3</th>\n",
       "      <td>all</td>\n",
       "      <td>up</td>\n",
       "      <td>country-birth-decade FE + child age FEs</td>\n",
       "      <td>muslim</td>\n",
       "      <td>-0.081623</td>\n",
       "      <td>0.009545</td>\n",
       "      <td>2727443</td>\n",
       "      <td>1</td>\n",
       "    </tr>\n",
       "    <tr>\n",
       "      <th>4</th>\n",
       "      <td>all</td>\n",
       "      <td>up</td>\n",
       "      <td>+ household/family characteristics</td>\n",
       "      <td>muslim</td>\n",
       "      <td>-0.076644</td>\n",
       "      <td>0.008906</td>\n",
       "      <td>2727443</td>\n",
       "      <td>2</td>\n",
       "    </tr>\n",
       "    <tr>\n",
       "      <th>...</th>\n",
       "      <td>...</td>\n",
       "      <td>...</td>\n",
       "      <td>...</td>\n",
       "      <td>...</td>\n",
       "      <td>...</td>\n",
       "      <td>...</td>\n",
       "      <td>...</td>\n",
       "      <td>...</td>\n",
       "    </tr>\n",
       "    <tr>\n",
       "      <th>67</th>\n",
       "      <td>girls</td>\n",
       "      <td>down</td>\n",
       "      <td>+ district-urban FEs</td>\n",
       "      <td>traditional</td>\n",
       "      <td>0.021898</td>\n",
       "      <td>0.013900</td>\n",
       "      <td>612685</td>\n",
       "      <td>5</td>\n",
       "    </tr>\n",
       "    <tr>\n",
       "      <th>68</th>\n",
       "      <td>girls</td>\n",
       "      <td>down</td>\n",
       "      <td>in above median closest parental education dis...</td>\n",
       "      <td>traditional</td>\n",
       "      <td>0.007677</td>\n",
       "      <td>0.012317</td>\n",
       "      <td>221937</td>\n",
       "      <td>6</td>\n",
       "    </tr>\n",
       "    <tr>\n",
       "      <th>69</th>\n",
       "      <td>girls</td>\n",
       "      <td>up</td>\n",
       "      <td>+ religion-district-specific shr literate old</td>\n",
       "      <td>traditional</td>\n",
       "      <td>-0.063177</td>\n",
       "      <td>0.017936</td>\n",
       "      <td>1284555</td>\n",
       "      <td>4</td>\n",
       "    </tr>\n",
       "    <tr>\n",
       "      <th>70</th>\n",
       "      <td>girls</td>\n",
       "      <td>up</td>\n",
       "      <td>+ district-urban FEs</td>\n",
       "      <td>traditional</td>\n",
       "      <td>-0.047746</td>\n",
       "      <td>0.019850</td>\n",
       "      <td>1284555</td>\n",
       "      <td>5</td>\n",
       "    </tr>\n",
       "    <tr>\n",
       "      <th>71</th>\n",
       "      <td>girls</td>\n",
       "      <td>up</td>\n",
       "      <td>in above median closest parental education dis...</td>\n",
       "      <td>traditional</td>\n",
       "      <td>-0.034636</td>\n",
       "      <td>0.022906</td>\n",
       "      <td>410028</td>\n",
       "      <td>6</td>\n",
       "    </tr>\n",
       "  </tbody>\n",
       "</table>\n",
       "<p>72 rows × 8 columns</p>\n",
       "</div>"
      ],
      "text/plain": [
       "     samp direction                                           controls  \\\n",
       "0     all      down            country-birth-decade FE + child age FEs   \n",
       "1     all      down                 + household/family characteristics   \n",
       "2     all      down        + occupational specialization + urban/rural   \n",
       "3     all        up            country-birth-decade FE + child age FEs   \n",
       "4     all        up                 + household/family characteristics   \n",
       "..    ...       ...                                                ...   \n",
       "67  girls      down                               + district-urban FEs   \n",
       "68  girls      down  in above median closest parental education dis...   \n",
       "69  girls        up      + religion-district-specific shr literate old   \n",
       "70  girls        up                               + district-urban FEs   \n",
       "71  girls        up  in above median closest parental education dis...   \n",
       "\n",
       "       religion         b        se        N  order  \n",
       "0        muslim  0.040963  0.018844  1189912      1  \n",
       "1        muslim  0.034286  0.015528  1189912      2  \n",
       "2        muslim  0.042037  0.013927  1189912      3  \n",
       "3        muslim -0.081623  0.009545  2727443      1  \n",
       "4        muslim -0.076644  0.008906  2727443      2  \n",
       "..          ...       ...       ...      ...    ...  \n",
       "67  traditional  0.021898  0.013900   612685      5  \n",
       "68  traditional  0.007677  0.012317   221937      6  \n",
       "69  traditional -0.063177  0.017936  1284555      4  \n",
       "70  traditional -0.047746  0.019850  1284555      5  \n",
       "71  traditional -0.034636  0.022906   410028      6  \n",
       "\n",
       "[72 rows x 8 columns]"
      ]
     },
     "execution_count": 11,
     "metadata": {},
     "output_type": "execute_result"
    }
   ],
   "source": [
    "dfall"
   ]
  },
  {
   "cell_type": "code",
   "execution_count": 12,
   "metadata": {},
   "outputs": [],
   "source": [
    "def bar_plot(df, leg_loc):\n",
    "    \n",
    "    \n",
    "    labels = ['country-birth-decade FE\\n + child age FEs',\n",
    "              '+ household/family\\n characteristics',\n",
    "              '+ occupational specialization\\n + urban/rural',\n",
    "              '+ religion-district-specific\\nshr literate old',\n",
    "              '+ district-urban FEs',\n",
    "              'in > 50% C v X similar\\nold edu. districts'][::-1]\n",
    "    coef_m = df[df.religion == 'muslim']['b'][::-1]\n",
    "    coef_t = df[df.religion == 'traditional']['b'][::-1]\n",
    "    \n",
    "    width = 0.35\n",
    "    x = np.arange(len(labels))\n",
    "    f, ax = plt.subplots(figsize=(10, 6))\n",
    "    rects1 = ax.barh(x + width/2, coef_m, width, label='Muslim')\n",
    "    rects2 = ax.barh(x - width/2, coef_t, width, label='Traditional')\n",
    "    ax.set_yticks(x)\n",
    "    ax.set_yticklabels(labels)\n",
    "    ax.legend(loc=leg_loc, prop={'size': 15})\n",
    "    ax.tick_params(axis='both', labelsize=15)\n",
    "    \n",
    "    return f\n",
    "    "
   ]
  },
  {
   "cell_type": "markdown",
   "metadata": {},
   "source": [
    "# 1) Overall"
   ]
  },
  {
   "cell_type": "markdown",
   "metadata": {},
   "source": [
    "## 1.1) Up"
   ]
  },
  {
   "cell_type": "code",
   "execution_count": 13,
   "metadata": {},
   "outputs": [],
   "source": [
    "df = dfall[(dfall.direction == 'up') & (dfall['samp'] == 'all') & (dfall['controls'] != '-')]\n",
    "f = bar_plot(df, 'lower left')\n",
    "f.savefig('{}/_4a_indlevel_gaps_overall_up_combined_without_with_shrlitold_control_ethsample_noethfe.pdf'.format(outdir), bbox_inches='tight', dpi=100)\n",
    "plt.close(f)"
   ]
  },
  {
   "cell_type": "markdown",
   "metadata": {},
   "source": [
    "## 1.2) Down"
   ]
  },
  {
   "cell_type": "code",
   "execution_count": 14,
   "metadata": {},
   "outputs": [],
   "source": [
    "df = dfall[(dfall.direction == 'down') & (dfall['samp'] == 'all') & (dfall['controls'] != '-')]\n",
    "f = bar_plot(df, 'lower right')\n",
    "f.savefig('{}/_4b_indlevel_gaps_overall_dn_combined_without_with_shrlitold_control_ethsample_noethfe.pdf'.format(outdir), bbox_inches='tight', dpi=100)\n",
    "plt.close(f)"
   ]
  },
  {
   "cell_type": "markdown",
   "metadata": {},
   "source": [
    "# 2) By gender"
   ]
  },
  {
   "cell_type": "markdown",
   "metadata": {},
   "source": [
    "## 2.1) Up"
   ]
  },
  {
   "cell_type": "code",
   "execution_count": 15,
   "metadata": {},
   "outputs": [],
   "source": [
    "df = dfall[(dfall.direction == 'up') & (dfall['samp'] == 'boys') & (dfall['controls'] != '-')]\n",
    "f = bar_plot(df, 'lower left')\n",
    "f.savefig('{}/_4c_indlevel_gaps_boys_up_combined_without_with_shrlitold_control_ethsample_noethfe.pdf'.format(outdir), bbox_inches='tight', dpi=100)\n",
    "plt.close(f)\n",
    "\n",
    "df = dfall[(dfall.direction == 'up') & (dfall['samp'] == 'girls') & (dfall['controls'] != '-')]\n",
    "f = bar_plot(df, 'lower left')\n",
    "f.savefig('{}/_4c_indlevel_gaps_girls_up_combined_without_with_shrlitold_control_ethsample_noethfe.pdf'.format(outdir), bbox_inches='tight', dpi=100)\n",
    "plt.close(f)"
   ]
  },
  {
   "cell_type": "markdown",
   "metadata": {},
   "source": [
    "## 2.2) Down"
   ]
  },
  {
   "cell_type": "code",
   "execution_count": 16,
   "metadata": {},
   "outputs": [],
   "source": [
    "df = dfall[(dfall.direction == 'down') & (dfall['samp'] == 'boys') & (dfall['controls'] != '-')]\n",
    "f = bar_plot(df, 'lower right')\n",
    "f.savefig('{}/_4d_indlevel_gaps_boys_dn_combined_without_with_shrlitold_control_ethsample_noethfe.pdf'.format(outdir), bbox_inches='tight', dpi=100)\n",
    "plt.close(f)\n",
    "\n",
    "df = dfall[(dfall.direction == 'down') & (dfall['samp'] == 'girls') & (dfall['controls'] != '-')]\n",
    "f = bar_plot(df, 'lower right')\n",
    "f.savefig('{}/_4d_indlevel_gaps_girls_dn_combined_without_with_shrlitold_control_ethsample_noethfe.pdf'.format(outdir), bbox_inches='tight', dpi=100)\n",
    "plt.close(f)"
   ]
  }
 ],
 "metadata": {
  "kernelspec": {
   "display_name": "Python 3",
   "language": "python",
   "name": "python3"
  },
  "language_info": {
   "codemirror_mode": {
    "name": "ipython",
    "version": 3
   },
   "file_extension": ".py",
   "mimetype": "text/x-python",
   "name": "python",
   "nbconvert_exporter": "python",
   "pygments_lexer": "ipython3",
   "version": "3.9.4"
  }
 },
 "nbformat": 4,
 "nbformat_minor": 4
}
