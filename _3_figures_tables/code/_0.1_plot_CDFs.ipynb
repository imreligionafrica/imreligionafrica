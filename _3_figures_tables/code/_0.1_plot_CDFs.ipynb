{
 "cells": [
  {
   "cell_type": "code",
   "execution_count": 1,
   "metadata": {},
   "outputs": [],
   "source": [
    "import numpy as np\n",
    "import pandas as pd\n",
    "import country_converter as coco\n",
    "import matplotlib.pyplot as plt\n",
    "import matplotlib as mpl\n",
    "plt.style.use('seaborn')\n",
    "mpl.rcParams['font.family'] = 'serif'\n",
    "import os"
   ]
  },
  {
   "cell_type": "code",
   "execution_count": 2,
   "metadata": {},
   "outputs": [],
   "source": [
    "def create_step_arrays(x, y):\n",
    "    return np.concatenate([np.array([0]),np.repeat(x, 2)[1:]]), \\\n",
    "           np.concatenate([np.array([0]),np.repeat(y, 2)[:-1]])"
   ]
  },
  {
   "cell_type": "code",
   "execution_count": 3,
   "metadata": {},
   "outputs": [],
   "source": [
    "current_folder = globals()['_dh'][0]\n",
    "rootdir = os.path.dirname(os.path.dirname(current_folder))\n",
    "wdir = os.path.join(rootdir, '_2_intermediate', 'data')\n",
    "outdir = os.path.join(rootdir, '_3_figures_tables', 'data')"
   ]
  },
  {
   "cell_type": "code",
   "execution_count": 4,
   "metadata": {},
   "outputs": [],
   "source": [
    "df = pd.read_csv(os.path.join(wdir,'_data_for_CDFs.csv'))"
   ]
  },
  {
   "cell_type": "code",
   "execution_count": 5,
   "metadata": {},
   "outputs": [],
   "source": [
    "def plot_cdf(df, majrel, weighted, showfig):\n",
    "    \n",
    "    df = df[df.major_religion == majrel].reset_index(drop=True)\n",
    "    df = df.sort_values(['bd', 'ysc']).reset_index(drop=True)\n",
    "    if weighted:\n",
    "        df['nysc'] = df.nwt\n",
    "    else:\n",
    "        df['nysc'] = df.n\n",
    "    df['cusu'] = df[['bd', 'nysc']].groupby(['bd']).transform('cumsum')\n",
    "    df['maxbch'] = df[['bd', 'cusu']].groupby(['bd']).transform('max')\n",
    "    df['shr'] = df['cusu'] / df['maxbch']\n",
    "    \n",
    "    f, ax = plt.subplots(1,1, figsize=(10, 6))\n",
    "    for bch in [1950, 1960, 1970, 1980]:\n",
    "        x, y = create_step_arrays(df[df.bd==bch].ysc, df[df.bd==bch].shr)\n",
    "        ax.plot(x, y, label=bch)\n",
    "\n",
    "        ax.set_xticks(np.arange(19))\n",
    "        ax.set_ylabel('cumulative share', size=15)\n",
    "        ax.set_xlabel('years of schooling', size=15)\n",
    "        ax.tick_params(axis='both', which='major', labelsize=15)\n",
    "    \n",
    "    plt.legend(prop={'size': 15})\n",
    "    if showfig:\n",
    "        plt.show()\n",
    "    else:\n",
    "        if weighted:\n",
    "            f.savefig('{}/_app_CDF_ysc_{}_weighted.pdf'.format(outdir, majrel), bbox_inches='tight')\n",
    "            plt.close(f)\n",
    "        else:\n",
    "            f.savefig('{}/_app_CDF_ysc_{}_unweighted.pdf'.format(outdir, majrel), bbox_inches='tight')\n",
    "            plt.close(f)           "
   ]
  },
  {
   "cell_type": "code",
   "execution_count": 6,
   "metadata": {},
   "outputs": [],
   "source": [
    "plot_cdf(df, 'Christian', weighted=True, showfig=False)\n",
    "plot_cdf(df, 'Christian', weighted=False, showfig=False)\n",
    "plot_cdf(df, 'Muslim', weighted=True, showfig=False)\n",
    "plot_cdf(df, 'Muslim', weighted=False, showfig=False)\n",
    "plot_cdf(df, 'Traditional', weighted=True, showfig=False)\n",
    "plot_cdf(df, 'Traditional', weighted=False, showfig=False)"
   ]
  }
 ],
 "metadata": {
  "kernelspec": {
   "display_name": "Python 3",
   "language": "python",
   "name": "python3"
  },
  "language_info": {
   "codemirror_mode": {
    "name": "ipython",
    "version": 3
   },
   "file_extension": ".py",
   "mimetype": "text/x-python",
   "name": "python",
   "nbconvert_exporter": "python",
   "pygments_lexer": "ipython3",
   "version": "3.9.4"
  }
 },
 "nbformat": 4,
 "nbformat_minor": 4
}
