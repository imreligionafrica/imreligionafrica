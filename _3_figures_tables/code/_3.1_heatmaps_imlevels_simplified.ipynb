{
 "cells": [
  {
   "cell_type": "code",
   "execution_count": 1,
   "metadata": {},
   "outputs": [],
   "source": [
    "import pandas as pd\n",
    "import numpy as np\n",
    "import geopandas as gpd\n",
    "import matplotlib.pyplot as plt\n",
    "import matplotlib as mpl\n",
    "import re\n",
    "mpl.rcParams['font.family'] = 'serif'\n",
    "import os"
   ]
  },
  {
   "cell_type": "code",
   "execution_count": 2,
   "metadata": {},
   "outputs": [],
   "source": [
    "current_folder = globals()['_dh'][0]\n",
    "rootdir = os.path.dirname(os.path.dirname(current_folder))\n",
    "indir_inter = os.path.join(rootdir, '_2_intermediate', 'data')\n",
    "indir_prepro = os.path.join(rootdir, '_1_preprocessing', 'data', 'raw', 'gis')\n",
    "outdir = os.path.join(rootdir, '_3_figures_tables', 'data')"
   ]
  },
  {
   "cell_type": "code",
   "execution_count": 3,
   "metadata": {},
   "outputs": [],
   "source": [
    "data = pd.read_csv(os.path.join(indir_inter, '_F_dist_religion_bch10.csv'))[['iso',\n",
    "                                                         'bch10',\n",
    "                                                         'major_religion',\n",
    "                                                         'district',\n",
    "                                                         'immg_18',\n",
    "                                                         'n_immg_18']]\n",
    "data = data[data.major_religion.isin(['Christian', 'Muslim', 'Traditional'])].reset_index(drop=True)\n",
    "data = data[~((pd.isnull(data.immg_18)) & (pd.isnull(data.n_immg_18)))]\n",
    "\n",
    "#####################################################################################\n",
    "\n",
    "data['x'] = data.immg_18 * data.n_immg_18\n",
    "del data['bch10']\n",
    "data = data.groupby([data.iso, data.district, data.major_religion]).sum()\n",
    "# del data['district']\n",
    "data = data.reset_index(drop=False)\n",
    "data['immg_18'] = data['x'] / data['n_immg_18']\n",
    "del data['x'], data['n_immg_18']\n",
    "\n",
    "data.index = [data.iso, data.district, data.major_religion]\n",
    "del data['iso'], data['district'], data['major_religion']\n",
    "data = data.unstack().reset_index(drop=False)\n",
    "data.columns = [x[0] + x[1] for x in data.columns]\n",
    "\n",
    "data = data[~((pd.isnull(data.immg_18Christian)) &\n",
    "              (pd.isnull(data.immg_18Muslim)) &\n",
    "              (pd.isnull(data.immg_18Traditional)))]\n",
    "\n",
    "data.columns = ['iso', 'district', 'im18c', 'im18m', 'im18t']"
   ]
  },
  {
   "cell_type": "code",
   "execution_count": 4,
   "metadata": {},
   "outputs": [],
   "source": [
    "ISO = sorted(list(set(data.iso)))"
   ]
  },
  {
   "cell_type": "code",
   "execution_count": 5,
   "metadata": {},
   "outputs": [],
   "source": [
    "countries = gpd.read_file(os.path.join(indir_prepro, 'africa_countries', 'africa_countries.shp'))\n",
    "afrregions = gpd.read_file(os.path.join(indir_prepro, 'districts_for_plotting', 'districts_for_plotting.shp'))[['iso', 'district', 'geometry']]\n",
    "afrregions = afrregions[afrregions.iso.isin(ISO)].reset_index(drop=True).copy()\n",
    "afrregions = pd.merge(afrregions, data, on=['iso', 'district'], how='left')\n",
    "africa = afrregions[afrregions.geometry!=None].copy(deep=True)"
   ]
  },
  {
   "cell_type": "code",
   "execution_count": 6,
   "metadata": {},
   "outputs": [],
   "source": [
    "countries['iso'] = countries.iso3\n",
    "for c in africa.columns:\n",
    "    if c not in countries.columns:\n",
    "        countries[c] = np.nan\n",
    "countries = countries[[c for c in africa.columns]]\n",
    "countries = countries[~countries.iso.isin(list(set(africa.iso)) + ['ESP', 'PRT', 'FRA', 'YEM', 'SHN', 'ATF', 'REU'])]"
   ]
  },
  {
   "cell_type": "code",
   "execution_count": 7,
   "metadata": {},
   "outputs": [],
   "source": [
    "africa = pd.concat([africa, countries], axis=0, ignore_index=True)"
   ]
  },
  {
   "cell_type": "code",
   "execution_count": 8,
   "metadata": {},
   "outputs": [],
   "source": [
    "missing_kwds = dict(color='white', label='no Data')\n",
    "\n",
    "titles = ['upward IM', 'upward IM', 'upward IM']\n",
    "for idvar, variable in enumerate(['im18c', 'im18m', 'im18t']):\n",
    "    title = titles[idvar]\n",
    "\n",
    "    f, ax = plt.subplots(1,1, figsize=(10, 10))\n",
    "    africa.plot(ax=ax, \n",
    "            column=variable,\n",
    "            scheme='user_defined',\n",
    "            classification_kwds={'bins':[0.1, 0.2, 0.3, 0.4, 0.5, 0.6, 0.7, 0.8, 0.9, 1]},\n",
    "            cmap = 'YlOrRd',\n",
    "            edgecolor='k',\n",
    "            linewidth=0.1,\n",
    "            legend=True, \n",
    "            missing_kwds=missing_kwds)\n",
    "\n",
    "    leg = ax.get_legend()\n",
    "    leg.set_bbox_to_anchor((0.15, 0.3, 0.2, 0.2))\n",
    "    for txt in leg.texts:\n",
    "        txti = re.sub('\\.([0-9])0', r'.\\1',  txt.get_text().replace(', ', ' - '))\n",
    "        txt.set_text(txti)\n",
    "    leg.set_title(title, prop={'size': 12, 'weight': 'bold'})\n",
    "    \n",
    "    f.savefig(outdir + f'/_4_heatmap_{variable}.pdf', bbox_inches='tight')\n",
    "    plt.close(f)"
   ]
  }
 ],
 "metadata": {
  "kernelspec": {
   "display_name": "Python 3",
   "language": "python",
   "name": "python3"
  },
  "language_info": {
   "codemirror_mode": {
    "name": "ipython",
    "version": 3
   },
   "file_extension": ".py",
   "mimetype": "text/x-python",
   "name": "python",
   "nbconvert_exporter": "python",
   "pygments_lexer": "ipython3",
   "version": "3.9.4"
  }
 },
 "nbformat": 4,
 "nbformat_minor": 4
}
