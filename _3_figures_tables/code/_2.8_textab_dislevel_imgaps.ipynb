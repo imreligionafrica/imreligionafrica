{
 "cells": [
  {
   "cell_type": "code",
   "execution_count": 1,
   "metadata": {},
   "outputs": [],
   "source": [
    "import pandas as pd\n",
    "import numpy as np\n",
    "import re\n",
    "import country_converter as coco\n",
    "from textab import TexTab\n",
    "import os"
   ]
  },
  {
   "cell_type": "code",
   "execution_count": 2,
   "metadata": {},
   "outputs": [],
   "source": [
    "current_folder = globals()['_dh'][0]\n",
    "rootdir = os.path.dirname(os.path.dirname(current_folder))\n",
    "wdir = os.path.join(rootdir, '_2_intermediate', 'data')\n",
    "outdir = os.path.join(rootdir, '_3_figures_tables', 'data')"
   ]
  },
  {
   "cell_type": "code",
   "execution_count": 3,
   "metadata": {},
   "outputs": [],
   "source": [
    "data = pd.read_csv(os.path.join(wdir,'_F_dist_religion_bch10.csv'))[['iso',\n",
    "                                                         'bch10',\n",
    "                                                         'major_religion',\n",
    "                                                         'district',\n",
    "                                                         'immg_18', \n",
    "                                                         'imdwmg_18']]\n",
    "data = data[data.major_religion.isin(['Christian', 'Muslim'])].reset_index(drop=True)\n",
    "dataup = data[~pd.isnull(data.immg_18)].drop('imdwmg_18', axis=1)\n",
    "datadn = data[~pd.isnull(data.imdwmg_18)].drop('immg_18', axis=1)\n",
    "\n",
    "\n",
    "#####################################################################################\n",
    "\n",
    "dataup = dataup[dataup.bch10.isin([1980, 1990])].reset_index(drop=True)\n",
    "dataup = dataup[~((dataup.iso.isin(['LBR','MLI','NGA','TGO'])) & \n",
    "                  (dataup.bch10==1980))].reset_index(drop=True)\n",
    "dataup = dataup[~((~(dataup.iso.isin(['LBR','MLI','NGA','TGO']))) & \n",
    "                    (dataup.bch10==1990))].reset_index(drop=True)\n",
    "\n",
    "datadn = datadn[datadn.bch10.isin([1980, 1990])].reset_index(drop=True)\n",
    "datadn = datadn[~((datadn.iso.isin(['LBR','MLI','NGA','TGO'])) & \n",
    "                  (datadn.bch10==1980))].reset_index(drop=True)\n",
    "datadn = datadn[~((~(datadn.iso.isin(['LBR','MLI','NGA','TGO']))) & \n",
    "                    (datadn.bch10==1990))].reset_index(drop=True)\n",
    "\n",
    "\n",
    "dataup = dataup.drop('bch10', axis=1).set_index(['iso', 'district', 'major_religion'], drop=True).unstack().reset_index(drop=False)\n",
    "datadn = datadn.drop('bch10', axis=1).set_index(['iso', 'district', 'major_religion'], drop=True).unstack().reset_index(drop=False)\n",
    "dataup.columns = ['iso', 'district', 'c', 'm']\n",
    "datadn.columns = ['iso', 'district', 'c', 'm']\n",
    "dataup['gap'] = dataup.c - dataup.m\n",
    "datadn['gap'] = datadn.c - datadn.m\n",
    "dataup = dataup[['iso', 'gap']].dropna().reset_index(drop=True)\n",
    "datadn = datadn[['iso', 'gap']].dropna().reset_index(drop=True)\n",
    "dataup['posupgap'] = dataup.gap > 0\n",
    "datadn['negdngap'] = datadn.gap < 0\n",
    "\n",
    "dataup['country'] =  coco.convert(names=list(dataup['iso']), to='name_short')\n",
    "datadn['country'] =  coco.convert(names=list(datadn['iso']), to='name_short')\n",
    "\n",
    "dataup = dataup.groupby('country').agg({'gap': ['count', 'median', 'min', 'max', 'mean', 'std'], 'posupgap': ['mean']})\n",
    "datadn = datadn.groupby('country').agg({'gap': ['count', 'median', 'min', 'max', 'mean', 'std'], 'negdngap': ['mean']})\n",
    "dataup.columns = [c for c in dataup.columns.droplevel(0)[:-1]] + ['shr_c_higher_up']\n",
    "datadn.columns = [c for c in datadn.columns.droplevel(0)[:-1]] + ['shr_c_lower_dn']\n",
    "dataup = dataup.sort_values('median', ascending=False).reset_index(drop=False)\n",
    "datadn = datadn.sort_values('median', ascending=True).reset_index(drop=False)"
   ]
  },
  {
   "cell_type": "markdown",
   "metadata": {},
   "source": [
    "# Creating tex tables"
   ]
  },
  {
   "cell_type": "markdown",
   "metadata": {},
   "source": [
    "## upward"
   ]
  },
  {
   "cell_type": "code",
   "execution_count": 4,
   "metadata": {},
   "outputs": [],
   "source": [
    "tt = TexTab(dataup)"
   ]
  },
  {
   "cell_type": "code",
   "execution_count": 5,
   "metadata": {},
   "outputs": [],
   "source": [
    "cns = ['', '(1)', '(2)', '(3)', '(4)', '(5)', '(6)', '(7)']\n",
    "lcols = ['country']\n",
    "gaps = []\n",
    "cap = \"Country-level summary statistics for district-level Christian-Muslim IM gaps\"\n",
    "lab = \"tab:_im_ctry_majrel_dist_im_cmgap_sumstats\"\n",
    "lines = []\n",
    "notes = '''BLAH.\n",
    "'''"
   ]
  },
  {
   "cell_type": "code",
   "execution_count": 6,
   "metadata": {},
   "outputs": [],
   "source": [
    "tab = tt.create_tab_onepanel(cns=cns, gaps=gaps, lcols=lcols,\n",
    "                             cap=cap, lab=lab, lines=lines, notes=notes, clines=False)\n",
    "nl = '&(1)&(2)&(3)&(4)&(5)&(6)&(7)\\\\\\\\\\\\\\ncountry&$N_{\\\\\\\\text{districts}}$&median&min&max&mean&std&share$(\\\\\\\\text{IM$_{\\\\\\\\text{c}}^{\\\\\\\\text{up}}$}>\\\\\\\\text{IM$_{\\\\\\\\text{m}}^{\\\\\\\\text{up}}$})$\\\\\\\\\\\\\\n\\\\\\\\hline\\nCameroon'\n",
    "tabu = re.sub('&\\(1.+?Cameroon', nl, tab, flags=re.DOTALL) "
   ]
  },
  {
   "cell_type": "code",
   "execution_count": 7,
   "metadata": {},
   "outputs": [
    {
     "name": "stdout",
     "output_type": "stream",
     "text": [
      "\\begin{table}[ht!]\n",
      "\\singlespacing\n",
      "\\centering\n",
      "\\caption{Country-level summary statistics for district-level Christian-Muslim IM gaps}\n",
      "\\label{tab:_im_ctry_majrel_dist_im_cmgap_sumstats}\n",
      "\\resizebox{\\columnwidth}{!}{\n",
      "\\begin{tabular}{lccccccc}\n",
      "\\hline\n",
      "&(1)&(2)&(3)&(4)&(5)&(6)&(7)\\\\\n",
      "country&$N_{\\text{districts}}$&median&min&max&mean&std&share$(\\text{IM$_{\\text{c}}^{\\text{up}}$}>\\text{IM$_{\\text{m}}^{\\text{up}}$})$\\\\\n",
      "\\hline\n",
      "Cameroon&165&0.184&-0.415&0.924&0.181&0.255&0.764\\\\\n",
      "Senegal&26&0.173&-0.145&0.511&0.188&0.162&0.923\\\\\n",
      "Burkina Faso&46&0.125&-0.032&0.454&0.14&0.091&0.935\\\\\n",
      "Togo&37&0.09&-0.318&0.471&0.087&0.142&0.757\\\\\n",
      "Botswana&8&0.085&-0.399&0.864&0.238&0.54&0.5\\\\\n",
      "Ghana&110&0.083&-0.228&0.428&0.069&0.122&0.736\\\\\n",
      "Guinea&26&0.079&-0.253&0.836&0.156&0.274&0.808\\\\\n",
      "Nigeria&21&0.075&-0.546&0.538&0.074&0.278&0.619\\\\\n",
      "Benin&75&0.067&-0.653&0.935&0.072&0.216&0.72\\\\\n",
      "Zambia&27&0.061&-0.623&0.622&0.064&0.338&0.556\\\\\n",
      "Sierra Leone&97&0.058&-0.2&0.909&0.122&0.197&0.794\\\\\n",
      "Mali&164&0.055&-0.409&0.961&0.12&0.307&0.555\\\\\n",
      "Malawi&146&0.055&-0.711&0.319&0.026&0.142&0.685\\\\\n",
      "Egypt&222&0.053&-0.775&0.409&0.053&0.145&0.766\\\\\n",
      "Ethiopia&84&0.032&-0.399&0.681&0.062&0.209&0.619\\\\\n",
      "Liberia&39&0.007&-0.469&0.348&0.009&0.162&0.564\\\\\n",
      "Mozambique&203&0.0&-0.961&1.0&-0.036&0.344&0.483\\\\\n",
      "Uganda&131&-0.051&-0.656&0.5&-0.079&0.173&0.313\\\\\n",
      "Rwanda&29&-0.062&-0.336&0.226&-0.046&0.135&0.345\\\\\n",
      "Mauritius&37&-0.083&-0.3&0.061&-0.085&0.083&0.027\\\\\n",
      "South Africa&80&-0.143&-0.514&0.832&-0.022&0.34&0.338\\\\\n",
      "\\hline\n",
      "\\end{tabular}\n",
      "}\n",
      "\\captionsetup{size=scriptsize, justification=justified, width=\\columnwidth}\n",
      "\\caption*{BLAH.\n",
      "}\n",
      "\\end{table}\n"
     ]
    }
   ],
   "source": [
    "print(tabu)"
   ]
  },
  {
   "cell_type": "markdown",
   "metadata": {},
   "source": [
    "## downward"
   ]
  },
  {
   "cell_type": "code",
   "execution_count": 8,
   "metadata": {},
   "outputs": [],
   "source": [
    "tt = TexTab(datadn)"
   ]
  },
  {
   "cell_type": "code",
   "execution_count": 9,
   "metadata": {},
   "outputs": [],
   "source": [
    "cns = ['', '(1)', '(2)', '(3)', '(4)', '(5)', '(6)', '(7)']\n",
    "lcols = ['country']\n",
    "gaps = []\n",
    "cap = \"Country-level summary statistics for district-level Christian-Muslim IM gaps\"\n",
    "lab = \"tab:_im_ctry_majrel_dist_im_cmgap_sumstats\"\n",
    "lines = []\n",
    "notes = '''This table reports IM-gaps for the 1980s cohort (the cohort with the \n",
    "broadest coverage) for individuals aged 14-18 by country and major religious group. This table\n",
    "omits the ``Traditional'' category and focuses only on Christians and Muslims. Panel A shows\n",
    "estimates for upward IM, panel B for downward IM. Because of the timing of censues, \n",
    "we have to use the 1990s cohort for Liberia, Mali, Nigeria, and Togo as for those countries we \n",
    "don't have 14-18 year olds born in the 1980s. Column (1) shows the number of districts for which\n",
    "we have data for both Christian and Muslim IM in the required age group. Columns (2) - (6)\n",
    "show statistics of the gap across districts in the country: median, min, max, mean and \n",
    "standard deviation. Column (7) shows the share of districts for which Christians have a \n",
    "higher upward mobility than Muslims (Panel A) or a lower downward mobility than Muslims \n",
    "(Panel B).\n",
    "'''"
   ]
  },
  {
   "cell_type": "code",
   "execution_count": 10,
   "metadata": {},
   "outputs": [],
   "source": [
    "tab = tt.create_tab_onepanel(cns=cns, gaps=gaps, lcols=lcols,\n",
    "                             cap=cap, lab=lab, lines=lines, notes=notes, clines=False)\n",
    "nl = '&(1)&(2)&(3)&(4)&(5)&(6)&(7)\\\\\\\\\\\\\\ncountry&$N_{\\\\\\\\text{districts}}$&median&min&max&mean&std&share$(\\\\\\\\text{IM$_{\\\\\\\\text{c}}^{\\\\\\\\text{down}}$}<\\\\\\\\text{IM$_{\\\\\\\\text{m}}^{\\\\\\\\text{down}}$})$\\\\\\\\\\\\\\n\\\\\\\\hline\\nMalawi'\n",
    "tabd = re.sub('&\\(1.+?Malawi', nl, tab, flags=re.DOTALL) "
   ]
  },
  {
   "cell_type": "markdown",
   "metadata": {},
   "source": [
    "## Making two panels"
   ]
  },
  {
   "cell_type": "code",
   "execution_count": 11,
   "metadata": {},
   "outputs": [],
   "source": [
    "nl = '\\\\\\\\multicolumn{8}{c}{\\\\\\\\textbf{Panel A: Upward}}\\\\\\\\\\\\\\n'\n",
    "tabu = re.sub(r'(\\\\hline\\n&\\(1)', r'%s\\1' % nl, tabu, flags=re.DOTALL)\n",
    "tabu = re.sub(r'\\\\end{tabular}.+', r'', tabu, flags=re.DOTALL)"
   ]
  },
  {
   "cell_type": "code",
   "execution_count": 12,
   "metadata": {},
   "outputs": [],
   "source": [
    "nl = '\\\\\\\\multicolumn{8}{c}{}\\\\\\\\\\\\\\n\\\\\\\\multicolumn{8}{c}{\\\\\\\\textbf{Panel B: Downward}}\\\\\\\\\\\\\\n'\n",
    "tabd = re.sub(r'.+?(\\\\hline\\n&\\(1)', r'%s\\1' % nl, tabd, flags=re.DOTALL)"
   ]
  },
  {
   "cell_type": "code",
   "execution_count": 13,
   "metadata": {},
   "outputs": [
    {
     "name": "stdout",
     "output_type": "stream",
     "text": [
      "\\begin{table}[ht!]\n",
      "\\singlespacing\n",
      "\\centering\n",
      "\\caption{Country-level summary statistics for district-level Christian-Muslim IM gaps}\n",
      "\\label{tab:_im_ctry_majrel_dist_im_cmgap_sumstats}\n",
      "\\resizebox{\\columnwidth}{!}{\n",
      "\\begin{tabular}{lccccccc}\n",
      "\\multicolumn{8}{c}{\\textbf{Panel A: Upward}}\\\\\n",
      "\\hline\n",
      "&(1)&(2)&(3)&(4)&(5)&(6)&(7)\\\\\n",
      "country&$N_{\\text{districts}}$&median&min&max&mean&std&share$(\\text{IM$_{\\text{c}}^{\\text{up}}$}>\\text{IM$_{\\text{m}}^{\\text{up}}$})$\\\\\n",
      "\\hline\n",
      "Cameroon&165&0.184&-0.415&0.924&0.181&0.255&0.764\\\\\n",
      "Senegal&26&0.173&-0.145&0.511&0.188&0.162&0.923\\\\\n",
      "Burkina Faso&46&0.125&-0.032&0.454&0.14&0.091&0.935\\\\\n",
      "Togo&37&0.09&-0.318&0.471&0.087&0.142&0.757\\\\\n",
      "Botswana&8&0.085&-0.399&0.864&0.238&0.54&0.5\\\\\n",
      "Ghana&110&0.083&-0.228&0.428&0.069&0.122&0.736\\\\\n",
      "Guinea&26&0.079&-0.253&0.836&0.156&0.274&0.808\\\\\n",
      "Nigeria&21&0.075&-0.546&0.538&0.074&0.278&0.619\\\\\n",
      "Benin&75&0.067&-0.653&0.935&0.072&0.216&0.72\\\\\n",
      "Zambia&27&0.061&-0.623&0.622&0.064&0.338&0.556\\\\\n",
      "Sierra Leone&97&0.058&-0.2&0.909&0.122&0.197&0.794\\\\\n",
      "Mali&164&0.055&-0.409&0.961&0.12&0.307&0.555\\\\\n",
      "Malawi&146&0.055&-0.711&0.319&0.026&0.142&0.685\\\\\n",
      "Egypt&222&0.053&-0.775&0.409&0.053&0.145&0.766\\\\\n",
      "Ethiopia&84&0.032&-0.399&0.681&0.062&0.209&0.619\\\\\n",
      "Liberia&39&0.007&-0.469&0.348&0.009&0.162&0.564\\\\\n",
      "Mozambique&203&0.0&-0.961&1.0&-0.036&0.344&0.483\\\\\n",
      "Uganda&131&-0.051&-0.656&0.5&-0.079&0.173&0.313\\\\\n",
      "Rwanda&29&-0.062&-0.336&0.226&-0.046&0.135&0.345\\\\\n",
      "Mauritius&37&-0.083&-0.3&0.061&-0.085&0.083&0.027\\\\\n",
      "South Africa&80&-0.143&-0.514&0.832&-0.022&0.34&0.338\\\\\n",
      "\\hline\n",
      "\\multicolumn{8}{c}{}\\\\\n",
      "\\multicolumn{8}{c}{\\textbf{Panel B: Downward}}\\\\\n",
      "\\hline\n",
      "&(1)&(2)&(3)&(4)&(5)&(6)&(7)\\\\\n",
      "country&$N_{\\text{districts}}$&median&min&max&mean&std&share$(\\text{IM$_{\\text{c}}^{\\text{down}}$}<\\text{IM$_{\\text{m}}^{\\text{down}}$})$\\\\\n",
      "\\hline\n",
      "Malawi&95&-0.182&-0.643&0.765&-0.141&0.323&0.705\\\\\n",
      "Sierra Leone&88&-0.173&-0.8&0.69&-0.2&0.283&0.773\\\\\n",
      "Ethiopia&63&-0.165&-0.833&0.526&-0.16&0.255&0.73\\\\\n",
      "Senegal&25&-0.13&-0.592&0.389&-0.128&0.211&0.8\\\\\n",
      "Ghana&110&-0.102&-0.859&0.237&-0.1&0.163&0.755\\\\\n",
      "Burkina Faso&43&-0.095&-0.6&0.286&-0.121&0.188&0.837\\\\\n",
      "Mali&72&-0.092&-1.0&1.0&-0.061&0.435&0.597\\\\\n",
      "Liberia&30&-0.081&-0.48&0.67&-0.088&0.254&0.633\\\\\n",
      "Cameroon&152&-0.052&-0.981&0.75&-0.14&0.294&0.625\\\\\n",
      "Togo&32&-0.052&-0.386&0.333&-0.024&0.159&0.594\\\\\n",
      "Rwanda&24&-0.031&-0.413&0.664&-0.011&0.248&0.583\\\\\n",
      "Nigeria&23&-0.028&-0.444&0.759&-0.015&0.218&0.565\\\\\n",
      "Egypt&222&-0.016&-0.164&0.445&-0.009&0.067&0.667\\\\\n",
      "Mozambique&67&-0.005&-1.0&1.0&-0.158&0.442&0.507\\\\\n",
      "Guinea&30&-0.003&-0.541&0.675&0.019&0.304&0.5\\\\\n",
      "Uganda&124&-0.001&-0.481&0.489&0.014&0.169&0.5\\\\\n",
      "Benin&58&0.008&-0.9&0.454&-0.027&0.269&0.483\\\\\n",
      "Mauritius&37&0.01&-0.077&0.298&0.021&0.06&0.216\\\\\n",
      "Botswana&9&0.064&-0.284&0.134&0.044&0.127&0.111\\\\\n",
      "South Africa&99&0.086&-0.932&0.228&0.056&0.15&0.162\\\\\n",
      "Zambia&25&0.103&-0.751&0.498&0.001&0.368&0.4\\\\\n",
      "\\hline\n",
      "\\end{tabular}\n",
      "}\n",
      "\\captionsetup{size=scriptsize, justification=justified, width=\\columnwidth}\n",
      "\\caption*{This table reports IM-gaps for the 1980s cohort (the cohort with the \n",
      "broadest coverage) for individuals aged 14-18 by country and major religious group. This table\n",
      "omits the ``Traditional'' category and focuses only on Christians and Muslims. Panel A shows\n",
      "estimates for upward IM, panel B for downward IM. Because of the timing of censues, \n",
      "we have to use the 1990s cohort for Liberia, Mali, Nigeria, and Togo as for those countries we \n",
      "don't have 14-18 year olds born in the 1980s. Column (1) shows the number of districts for which\n",
      "we have data for both Christian and Muslim IM in the required age group. Columns (2) - (6)\n",
      "show statistics of the gap across districts in the country: median, min, max, mean and \n",
      "standard deviation. Column (7) shows the share of districts for which Christians have a \n",
      "higher upward mobility than Muslims (Panel A) or a lower downward mobility than Muslims \n",
      "(Panel B).\n",
      "}\n",
      "\\end{table}\n"
     ]
    }
   ],
   "source": [
    "tab = tabu+tabd\n",
    "print(tab)"
   ]
  },
  {
   "cell_type": "code",
   "execution_count": 14,
   "metadata": {},
   "outputs": [],
   "source": [
    "fh = open(outdir + \"/_2_ctry_dist_im_cmgaps_sumstats.tex\", \"w\")\n",
    "fh.write(tab)\n",
    "fh.close()"
   ]
  }
 ],
 "metadata": {
  "kernelspec": {
   "display_name": "Python 3",
   "language": "python",
   "name": "python3"
  },
  "language_info": {
   "codemirror_mode": {
    "name": "ipython",
    "version": 3
   },
   "file_extension": ".py",
   "mimetype": "text/x-python",
   "name": "python",
   "nbconvert_exporter": "python",
   "pygments_lexer": "ipython3",
   "version": "3.9.4"
  }
 },
 "nbformat": 4,
 "nbformat_minor": 4
}
