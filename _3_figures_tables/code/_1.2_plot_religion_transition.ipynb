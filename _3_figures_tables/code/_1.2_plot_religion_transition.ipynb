{
 "cells": [
  {
   "cell_type": "code",
   "execution_count": 1,
   "id": "792b0553-1e00-486c-a9b6-e61c90096000",
   "metadata": {},
   "outputs": [],
   "source": [
    "import pandas as pd\n",
    "import matplotlib.pyplot as plt\n",
    "from matplotlib import colors\n",
    "import numpy as np\n",
    "import os"
   ]
  },
  {
   "cell_type": "code",
   "execution_count": 2,
   "id": "ec4f494c-07cd-45fa-95ea-b6399c4a9cf2",
   "metadata": {},
   "outputs": [],
   "source": [
    "def define_x_countries_have_data(df, pop, timevar, mint, maxt, suff):\n",
    "    \n",
    "    religs = ['Christian', 'Muslim', 'Traditional']\n",
    "\n",
    "    if timevar == 'bd':\n",
    "        x = (df[['iso', 'bd', 'year', 'major_religion0', 'major_religion', f'w{suff}']]\n",
    "             .groupby(['iso', 'bd', 'year', 'major_religion0', 'major_religion'])\n",
    "             .sum()\n",
    "             .reset_index(drop=False))\n",
    "        x['tot'] = x.groupby(['iso', 'bd', 'year', 'major_religion0'])[f'w{suff}'].transform('sum')\n",
    "        x['shr'] = x[f'w{suff}'] / x.tot\n",
    "        x.drop(['year', f'w{suff}', 'tot'], axis=1, inplace=True)\n",
    "        x = x.groupby(['iso', 'bd', 'major_religion0', 'major_religion']).mean().reset_index(drop=False)\n",
    "        y = x[(x.bd>=mint) & (x.bd<=maxt)].reset_index(drop=True).copy()\n",
    "    else:\n",
    "        x = (df[['iso', 'bd', 'year', 'age', 'major_religion0', 'major_religion', f'w{suff}']]\n",
    "             .groupby(['iso', 'bd', 'year', 'age', 'major_religion0', 'major_religion'])\n",
    "             .sum()\n",
    "             .reset_index(drop=False))\n",
    "        x['tot'] = x.groupby(['iso', 'bd', 'year', 'age', 'major_religion0'])[f'w{suff}'].transform('sum')\n",
    "        x['shr'] = x[f'w{suff}'] / x.tot\n",
    "        x.drop(['year', f'w{suff}', 'tot'], axis=1, inplace=True)\n",
    "        x = x[x.bd==1980].reset_index(drop=True)\n",
    "        x.drop('bd', axis=1, inplace=True)\n",
    "        x = x.groupby(['iso', 'age', 'major_religion0', 'major_religion']).mean().reset_index(drop=False)\n",
    "        y = x[(x.age>=mint) & (x.age<=maxt)].reset_index(drop=True).copy()        \n",
    "\n",
    "    countries_have_data = {}\n",
    "    for relig_i in religs:\n",
    "        for relig_j in religs:\n",
    "            yij = (y[(y.major_religion0==relig_i) & \n",
    "                     (y.major_religion==relig_j)]\n",
    "                   .reset_index(drop=True)\n",
    "                   .drop(['major_religion0', 'major_religion'], axis=1)\n",
    "                   .set_index(['iso', timevar], drop=True)\n",
    "                   .unstack())\n",
    "            yij = yij.fillna(0)\n",
    "            yij[yij>0] = 1\n",
    "            yij.columns = yij.columns.droplevel(0)\n",
    "            yij.columns = [f'{c}_{relig_j[0]}' for c in yij.columns]\n",
    "            if relig_j == 'Christian':\n",
    "                countries_have_data[relig_i] = yij\n",
    "            else:\n",
    "                countries_have_data[relig_i] = countries_have_data[relig_i].join(yij, how='outer')\n",
    "        countries_have_data[relig_i] = countries_have_data[relig_i].join(iso_df, how='outer').drop('aux', axis=1).fillna(0)\n",
    "        if timevar == 'bd':\n",
    "            for t in range(mint, maxt+10, 10):\n",
    "                countries_have_data[relig_i][t] = countries_have_data[relig_i][[f'{t}_C', f'{t}_M', f'{t}_T']].max(axis=1)\n",
    "                countries_have_data[relig_i].drop([f'{t}_C', f'{t}_M', f'{t}_T'], axis=1, inplace=True)\n",
    "        else:\n",
    "            for t in range(mint, maxt+1, 1):\n",
    "                countries_have_data[relig_i][t] = countries_have_data[relig_i][[f'{t}_C', f'{t}_M', f'{t}_T']].max(axis=1)\n",
    "                countries_have_data[relig_i].drop([f'{t}_C', f'{t}_M', f'{t}_T'], axis=1, inplace=True)\n",
    "           \n",
    "    if timevar == 'bd':\n",
    "        x['bdx'] = x.bd\n",
    "        x.loc[x.bd<1950, 'bd'] = 1950\n",
    "        x.loc[x.bd>2000, 'bd'] = 2000\n",
    "        x = pd.merge(x, pop, on=['iso', 'bd'], how='left')\n",
    "        x['bd'] = x.bdx\n",
    "        x.drop('bdx', axis=1, inplace=True)\n",
    "    else:\n",
    "        x = pd.merge(x, pop[pop.bd==1980].drop('bd', axis=1), on=['iso'], how='left')\n",
    "\n",
    "    # normalize the population share for each birth decade/age X parent-religion\n",
    "    x['wshr'] = x.shr * x.popshr\n",
    "    x['aux'] = x.groupby([timevar, 'major_religion0'])['wshr'].transform('sum')\n",
    "    x['wshr'] = x.wshr / x.aux\n",
    "    x['aux'] = x.groupby([timevar, 'major_religion0'])['wshr'].transform('sum')\n",
    "    # print(x[x.major_religion0.isin(religs)].aux.min(), x[x.major_religion0.isin(religs)].aux.max())\n",
    "    x.drop(['iso', 'shr', 'popshr', 'aux'], axis=1, inplace=True)\n",
    "    x = x.groupby([timevar, 'major_religion0', 'major_religion']).sum().reset_index(drop=False)\n",
    "    x = x[(x[timevar]>=mint) & (x[timevar]<=maxt)].reset_index(drop=True)\n",
    "    \n",
    "    return x, countries_have_data\n",
    "\n",
    "\n",
    "def make_plots(x, countries_have_data, timevar, mint, maxt):\n",
    "    \n",
    "    religs = ['Christian', 'Muslim', 'Traditional']\n",
    "    linecolors = ['r', 'b', 'k']\n",
    "    linestyles = ['-', '--', ':']\n",
    "\n",
    "    f, ax = plt.subplots(2,3, figsize=(25,8))\n",
    "\n",
    "    for i in range(3):\n",
    "        for j in range(3):\n",
    "            ax[0,i].plot(x[(x.major_religion0==religs[i]) & (x.major_religion==religs[j])][timevar], \n",
    "                         x[(x.major_religion0==religs[i]) & (x.major_religion==religs[j])].wshr,\n",
    "                         color=linecolors[j],\n",
    "                         linestyle=linestyles[j],\n",
    "                         label='young:' + religs[j])\n",
    "        ax[0,i].grid(color='lightgray')\n",
    "        ax[0,i].set_title('old: ' + religs[i])\n",
    "        ax[0,i].legend()\n",
    "        if timevar == 'bd':\n",
    "            ax[0,i].set_xlabel('birth decade')\n",
    "        else:\n",
    "            ax[0,i].set_xlabel('age')\n",
    "        ax[0,i].set_ylabel('kids religion share')\n",
    "        ax[0,i].set_ylim([-0.05,1.05])\n",
    "\n",
    "        ax[1,i].imshow(countries_have_data[religs[i]], cmap=colors.ListedColormap(['grey', 'white']))\n",
    "        \n",
    "        if timevar == 'bd':\n",
    "            ax[1,i].set_aspect(0.13)\n",
    "            xtlabs = np.arange(mint, maxt+10, 10)\n",
    "            ax[1,i].set_xticks(np.arange(len(xtlabs)))\n",
    "            ax[1,i].set_xticklabels(xtlabs)\n",
    "            ax[1,i].hlines(y=np.arange(0, 21)+0.5, xmin=np.full(21, 0)-0.5, xmax=np.full(21, len(xtlabs))-0.5, color=\"k\")\n",
    "            ax[1,i].vlines(x=np.arange(0, len(xtlabs))+0.5, ymin=np.full(len(xtlabs), 0)-0.5, ymax=np.full(len(xtlabs), 21)-0.5, color=\"black\")\n",
    "        else:\n",
    "            ax[1,i].set_aspect(0.35)\n",
    "            xtlabs = np.arange(mint, maxt+1, 1)\n",
    "            ax[1,i].set_xticks(np.arange(len(xtlabs)))\n",
    "            ax[1,i].set_xticklabels(xtlabs)\n",
    "            ax[1,i].hlines(y=np.arange(0, 21)+0.5, xmin=np.full(21, 0)-0.5, xmax=np.full(21, len(xtlabs))-0.5, color=\"k\")\n",
    "            ax[1,i].vlines(x=np.arange(0, len(xtlabs))+0.5, ymin=np.full(len(xtlabs), 0)-0.5, ymax=np.full(len(xtlabs), 21)-0.5, color=\"black\")\n",
    "        ax[1,i].set_yticks(np.arange(21))\n",
    "        ax[1,i].set_yticklabels(countries_have_data[religs[i]].index)\n",
    "        ax[1,i].set_title('data availability by country')\n",
    "\n",
    "    f.tight_layout()\n",
    "    plt.close(f)\n",
    "    return f\n",
    "\n",
    "def make_plot_simple(x, timevar, mint, maxt, majrel0):\n",
    "    \n",
    "    religs = ['Christian', 'Muslim', 'Traditional']\n",
    "    linecolors = ['r', 'b', 'k']\n",
    "    linestyles = ['-', '--', ':']\n",
    "\n",
    "    f, ax = plt.subplots(1,1, figsize=(10,6))\n",
    "\n",
    "    for j in range(3):\n",
    "        ax.plot(x[(x.major_religion0==majrel0) & (x.major_religion==religs[j])][timevar], \n",
    "                x[(x.major_religion0==majrel0) & (x.major_religion==religs[j])].wshr,\n",
    "                color=linecolors[j],\n",
    "                linestyle=linestyles[j],\n",
    "                label='young:' + religs[j])\n",
    "    ax.grid(color='lightgray')\n",
    "    ax.legend()\n",
    "    if timevar == 'bd':\n",
    "        ax.set_xlabel('birth decade')\n",
    "    else:\n",
    "        ax.set_xlabel('age')\n",
    "    ax.set_ylabel('kids religion share')\n",
    "    ax.set_ylim([-0.05,1.05])\n",
    "    \n",
    "    f.tight_layout()\n",
    "    plt.close(f)\n",
    "    return f"
   ]
  },
  {
   "cell_type": "code",
   "execution_count": 3,
   "id": "b3c8284b",
   "metadata": {},
   "outputs": [],
   "source": [
    "current_folder = globals()['_dh'][0]\n",
    "rootdir = os.path.dirname(os.path.dirname(current_folder))\n",
    "wdir = os.path.join(rootdir, '_2_intermediate', 'data')\n",
    "outdir = os.path.join(rootdir, '_3_figures_tables', 'data')"
   ]
  },
  {
   "cell_type": "code",
   "execution_count": 4,
   "id": "2ada2ae0-edb1-47e0-8304-b125e68bf2e0",
   "metadata": {},
   "outputs": [],
   "source": [
    "iso_codes = ['BEN', 'BFA', 'BWA', 'CMR', 'EGY', \n",
    "             'ETH', 'GHA', 'GIN', 'LBR', 'MLI', \n",
    "             'MOZ', 'MUS', 'MWI', 'NGA', 'RWA', \n",
    "             'SEN', 'SLE', 'TGO', 'UGA', 'ZAF', \n",
    "             'ZMB']\n",
    "pop = pd.read_csv(os.path.join(wdir, 'pop_world.csv'))\n",
    "\n",
    "pop = pop[pop.iso.isin(iso_codes)].reset_index(drop=True)\n",
    "pop['tot'] = pop.groupby('year')['pop'].transform('sum')\n",
    "pop['popshr'] = pop['pop'] / pop['tot']\n",
    "pop['bd'] = pop.year - 18\n",
    "pop['rem'] = pop.bd % 10\n",
    "pop = pop[pop.rem==0].reset_index(drop=True)[['iso', 'bd', 'popshr']]"
   ]
  },
  {
   "cell_type": "markdown",
   "id": "89440804-06f5-4fc8-89b8-7171edaf5086",
   "metadata": {},
   "source": [
    "# 1. All observations"
   ]
  },
  {
   "cell_type": "code",
   "execution_count": 5,
   "id": "01760778-53b3-47e8-b370-5038c510bb2a",
   "metadata": {},
   "outputs": [],
   "source": [
    "df = pd.read_csv(os.path.join(wdir, 'religion_transition_data_all.csv'))"
   ]
  },
  {
   "cell_type": "code",
   "execution_count": 6,
   "id": "6a41ffae-9274-407d-91bd-b17606e341b0",
   "metadata": {},
   "outputs": [],
   "source": [
    "iso_df = pd.DataFrame({'aux': 1}, index=sorted(list(set(df.iso))))"
   ]
  },
  {
   "cell_type": "markdown",
   "id": "65249439-9789-46bb-8606-c2b5eaad8f94",
   "metadata": {},
   "source": [
    "## 1.1 Not focusing on age"
   ]
  },
  {
   "cell_type": "markdown",
   "id": "e650ac60-04d7-4a2a-84a7-ba84e33510a9",
   "metadata": {},
   "source": [
    "1) calculate the share of kids of old with religion x that have religion y by \n",
    "    - iso\n",
    "    - birth decade\n",
    "    - census year\n",
    "2) take an average of the shares by\n",
    "    - iso\n",
    "    - birth decade\n",
    "3) weight the shares by population shares and sum "
   ]
  },
  {
   "cell_type": "code",
   "execution_count": 7,
   "id": "f54eb1cb-97cb-4448-bf46-608507f4b782",
   "metadata": {},
   "outputs": [],
   "source": [
    "x, countries_have_data = define_x_countries_have_data(df, pop, 'bd', 1950, 2010, '0')\n",
    "f = make_plots(x, countries_have_data, 'bd', 1950, 2010)\n",
    "fc = make_plot_simple(x, 'bd', 1950, 2010, 'Christian')\n",
    "fm = make_plot_simple(x, 'bd', 1950, 2010, 'Muslim')\n",
    "ft = make_plot_simple(x, 'bd', 1950, 2010, 'Traditional')\n",
    "fc.savefig(outdir + '/religion_transition_0_bd_christian.pdf', bbox_inches='tight')\n",
    "fm.savefig(outdir + '/religion_transition_0_bd_muslim.pdf', bbox_inches='tight')\n",
    "ft.savefig(outdir + '/religion_transition_0_bd_traditional.pdf', bbox_inches='tight')"
   ]
  },
  {
   "cell_type": "code",
   "execution_count": 8,
   "id": "0b7579fc-e485-4a27-b077-31e60a483095",
   "metadata": {},
   "outputs": [],
   "source": [
    "# f\n",
    "f.savefig(outdir + '/religion_transition_0_bd.pdf', bbox_inches='tight')"
   ]
  },
  {
   "cell_type": "markdown",
   "id": "c15a70c3-101d-4ee1-ba03-7cb9e6b961e8",
   "metadata": {},
   "source": [
    "## 1.2 Focusing on age\n",
    "\n",
    "1) calculate the share of kids of old with religion x that have religion y by \n",
    "    - iso\n",
    "    - birth decade\n",
    "    - census year\n",
    "2) focus on the 1980s birth decade\n",
    "3) take an average of the shares by\n",
    "    - iso\n",
    "    - age\n",
    "4) weight the shares by population shares and sum "
   ]
  },
  {
   "cell_type": "code",
   "execution_count": 9,
   "id": "5bbef5a9-e8c7-49d4-92c1-2f75fb255c98",
   "metadata": {},
   "outputs": [],
   "source": [
    "x, countries_have_data = define_x_countries_have_data(df, pop, 'age', 14, 30, '0')\n",
    "f = make_plots(x, countries_have_data, 'age', 14, 30)"
   ]
  },
  {
   "cell_type": "code",
   "execution_count": 10,
   "id": "2d3d71b7-c973-406d-a64f-51063bbad92d",
   "metadata": {},
   "outputs": [],
   "source": [
    "# f\n",
    "f.savefig(outdir + '/religion_transition_0_age.pdf', bbox_inches='tight')"
   ]
  },
  {
   "cell_type": "markdown",
   "id": "b9c12687-2a59-47d8-ae7c-1226a3d8dde2",
   "metadata": {},
   "source": [
    "# 2. Among kids of uneducated parents, by educational status of kids"
   ]
  },
  {
   "cell_type": "code",
   "execution_count": 11,
   "id": "264b97f9-48a9-433f-9473-819b80705ee3",
   "metadata": {},
   "outputs": [],
   "source": [
    "df = pd.read_csv(os.path.join(wdir, 'religion_transition_data_ed.csv'))\n",
    "df = df[df.ec0==0].reset_index(drop=True)"
   ]
  },
  {
   "cell_type": "markdown",
   "id": "1d741997-d983-43d7-969f-734c39a49c9d",
   "metadata": {},
   "source": [
    "## 2.1 By birth decade"
   ]
  },
  {
   "cell_type": "markdown",
   "id": "870aebab-5504-4a38-8152-674859a0bfed",
   "metadata": {},
   "source": [
    "### 2.1.1 All kids"
   ]
  },
  {
   "cell_type": "code",
   "execution_count": 12,
   "id": "82d6ac1e-13b1-4b63-a255-03c800ec4792",
   "metadata": {},
   "outputs": [],
   "source": [
    "x, countries_have_data = define_x_countries_have_data(df, pop, 'bd', 1950, 2000, '0')\n",
    "f = make_plots(x, countries_have_data, 'bd', 1950, 2000)"
   ]
  },
  {
   "cell_type": "code",
   "execution_count": 13,
   "id": "7d77cfc3-e578-4793-8292-fbff1921f9c6",
   "metadata": {},
   "outputs": [],
   "source": [
    "# f\n",
    "f.savefig(outdir + '/religion_transition_0_bd_edall.pdf', bbox_inches='tight')"
   ]
  },
  {
   "cell_type": "markdown",
   "id": "3c1e50f2-03ac-49af-afc7-4b30724f177d",
   "metadata": {},
   "source": [
    "### 2.1.2 Educated kids"
   ]
  },
  {
   "cell_type": "code",
   "execution_count": 14,
   "id": "ebf85227-f827-4d8c-b26c-e28f3b7bed68",
   "metadata": {},
   "outputs": [],
   "source": [
    "x, countries_have_data = define_x_countries_have_data(df[df.eckid>=1].reset_index(drop=True), pop, 'bd', 1950, 2000, '0')\n",
    "f = make_plots(x, countries_have_data, 'bd', 1950, 2000)"
   ]
  },
  {
   "cell_type": "code",
   "execution_count": 15,
   "id": "2c7dfb24-0d7f-47f6-98dc-91a9f4d131a0",
   "metadata": {},
   "outputs": [],
   "source": [
    "# f\n",
    "f.savefig(outdir + '/religion_transition_0_bd_ed1.pdf', bbox_inches='tight')"
   ]
  },
  {
   "cell_type": "markdown",
   "id": "f512beae-15e9-45ea-9fc2-01f0813f7b16",
   "metadata": {},
   "source": [
    "### 2.1.3 Uneducated kids"
   ]
  },
  {
   "cell_type": "code",
   "execution_count": 16,
   "id": "e8620023-5d25-4210-b5f3-81ce1f34917b",
   "metadata": {},
   "outputs": [],
   "source": [
    "x, countries_have_data = define_x_countries_have_data(df[df.eckid==0].reset_index(drop=True), pop, 'bd', 1950, 2000, '0')\n",
    "f = make_plots(x, countries_have_data, 'bd', 1950, 2000)"
   ]
  },
  {
   "cell_type": "code",
   "execution_count": 17,
   "id": "1f00b833-4ab2-48b6-804a-f6153289d900",
   "metadata": {},
   "outputs": [],
   "source": [
    "# f\n",
    "f.savefig(outdir + '/religion_transition_0_bd_ed0.pdf', bbox_inches='tight')"
   ]
  },
  {
   "cell_type": "markdown",
   "id": "aa352be9-0dc1-4bd4-92da-d21f08f9d577",
   "metadata": {},
   "source": [
    "## 2.2 By age"
   ]
  },
  {
   "cell_type": "markdown",
   "id": "ddf3a911-5e0c-4d54-8ccc-a7a88b9176b3",
   "metadata": {},
   "source": [
    "### 2.2.1 All kids"
   ]
  },
  {
   "cell_type": "code",
   "execution_count": 18,
   "id": "a4073ab3-f556-4868-96cc-8f8e70238a88",
   "metadata": {},
   "outputs": [],
   "source": [
    "x, countries_have_data = define_x_countries_have_data(df, pop, 'age', 14, 30, '0')\n",
    "f = make_plots(x, countries_have_data, 'age', 14, 30)"
   ]
  },
  {
   "cell_type": "code",
   "execution_count": 19,
   "id": "da8e35e9-3437-4534-aaff-3a44457bac80",
   "metadata": {},
   "outputs": [],
   "source": [
    "# f\n",
    "f.savefig(outdir + '/religion_transition_0_age_edall.pdf', bbox_inches='tight')"
   ]
  },
  {
   "cell_type": "markdown",
   "id": "66cdd58c-ee78-4e8c-8507-8496d6bde603",
   "metadata": {},
   "source": [
    "### 2.2.2 Educated kids"
   ]
  },
  {
   "cell_type": "code",
   "execution_count": 20,
   "id": "9f2d0d30-71d7-462b-ab1e-aecf0b8c5c0e",
   "metadata": {},
   "outputs": [],
   "source": [
    "x, countries_have_data = define_x_countries_have_data(df[df.eckid>=1].reset_index(drop=True), pop, 'age', 14, 30, '0')\n",
    "f = make_plots(x, countries_have_data, 'age', 14, 30)"
   ]
  },
  {
   "cell_type": "code",
   "execution_count": 21,
   "id": "aa3e6d34-7da7-4a82-9c76-1f1db2afd377",
   "metadata": {},
   "outputs": [],
   "source": [
    "# f\n",
    "f.savefig(outdir + '/religion_transition_0_age_ed1.pdf', bbox_inches='tight')"
   ]
  },
  {
   "cell_type": "markdown",
   "id": "12062410-3b60-4363-84ae-f6db0b037b65",
   "metadata": {},
   "source": [
    "### 2.2.3 Uneducated kids"
   ]
  },
  {
   "cell_type": "code",
   "execution_count": 22,
   "id": "9c4e1014-1108-4169-a685-33312f45343d",
   "metadata": {},
   "outputs": [],
   "source": [
    "x, countries_have_data = define_x_countries_have_data(df[df.eckid==0].reset_index(drop=True), pop, 'age', 14, 30, '0')\n",
    "f = make_plots(x, countries_have_data, 'age', 14, 30)"
   ]
  },
  {
   "cell_type": "code",
   "execution_count": 23,
   "id": "002480cb-fadd-43ab-8b79-7cd6ac6137bc",
   "metadata": {},
   "outputs": [],
   "source": [
    "# f\n",
    "f.savefig(outdir + '/religion_transition_0_age_ed0.pdf', bbox_inches='tight')"
   ]
  }
 ],
 "metadata": {
  "kernelspec": {
   "display_name": "Python 3",
   "language": "python",
   "name": "python3"
  },
  "language_info": {
   "codemirror_mode": {
    "name": "ipython",
    "version": 3
   },
   "file_extension": ".py",
   "mimetype": "text/x-python",
   "name": "python",
   "nbconvert_exporter": "python",
   "pygments_lexer": "ipython3",
   "version": "3.9.4"
  }
 },
 "nbformat": 4,
 "nbformat_minor": 5
}
