{
 "cells": [
  {
   "cell_type": "code",
   "execution_count": 1,
   "metadata": {},
   "outputs": [],
   "source": [
    "import pandas as pd\n",
    "import numpy as np\n",
    "import re\n",
    "import country_converter as coco\n",
    "from textab import TexTab\n",
    "import os"
   ]
  },
  {
   "cell_type": "code",
   "execution_count": 2,
   "metadata": {},
   "outputs": [],
   "source": [
    "outdir = '../data'"
   ]
  },
  {
   "cell_type": "code",
   "execution_count": 3,
   "metadata": {},
   "outputs": [],
   "source": [
    "current_folder = globals()['_dh'][0]\n",
    "cwd = os.getcwd()\n",
    "rootdir = os.path.dirname(os.path.dirname(cwd))\n",
    "path_to_src = os.path.join(rootdir, '_2_intermediate', 'data')"
   ]
  },
  {
   "cell_type": "code",
   "execution_count": 4,
   "metadata": {},
   "outputs": [],
   "source": [
    "df = pd.read_csv(os.path.join(path_to_src,'imupdown_1418_by_bchmajrel_gender.csv'))\n",
    "df = df[(df.major_religion=='Christian') |\n",
    "        (df.major_religion=='Muslim')][['iso', 'major_religion', 'bch10', 'male',\n",
    "                                        'imup_1418c', 'imdn_1418c', 'imup_1418g', 'imdn_1418g']].reset_index(drop=True).copy(deep=True)\n",
    "\n",
    "df['majrel'] = df.major_religion.str.lower()\n",
    "del df['major_religion']\n",
    "df80 = df[df.bch10==1980].reset_index(drop=True).copy(deep=True)\n",
    "df90 = df[(df.bch10==1990) & (df.iso.isin(['TGO', 'MLI', 'NGA', 'LBR']))].reset_index(drop=True).copy(deep=True)\n",
    "del df80['bch10']\n",
    "del df90['bch10']\n",
    "df = pd.concat([df80, df90], axis=0).reset_index(drop=True).copy(deep=True)\n",
    "dfu = df.drop(['imdn_1418g', 'imdn_1418c'], axis=1)\n",
    "dfd = df.drop(['imup_1418g', 'imup_1418c'], axis=1)\n",
    "\n",
    "dfu.index = [dfu.iso, dfu.majrel, dfu.male]\n",
    "dfu = dfu.drop(['male', 'majrel', 'iso'], axis=1)\n",
    "dfu = dfu.unstack().unstack().iloc[:,[0,2,4,5,6,7]].reset_index(drop=False)\n",
    "dfu.columns = dfu.columns.droplevel().droplevel()\n",
    "dfu.columns = ['iso', 'of', 'om', 'cf', 'mf', 'cm', 'mm']\n",
    "dfu\n",
    "\n",
    "dfd.index = [dfd.iso, dfd.majrel, dfd.male]\n",
    "dfd = dfd.drop(['male', 'majrel', 'iso'], axis=1)\n",
    "dfd = dfd.unstack().unstack().iloc[:,[0,2,4,5,6,7]].reset_index(drop=False)\n",
    "dfd.columns = dfd.columns.droplevel().droplevel()\n",
    "dfd.columns = ['iso', 'of', 'om', 'cf', 'mf', 'cm', 'mm']\n",
    "\n",
    "dfu['country'] =  coco.convert(names=list(dfu['iso']), to='name_short')\n",
    "del dfu['iso']\n",
    "dfd['country'] =  coco.convert(names=list(dfd['iso']), to='name_short')\n",
    "del dfd['iso']\n",
    "\n",
    "\n",
    "dfu = dfu[['country'] + list(dfu.columns)[:-1]]\n",
    "dfd = dfd[['country'] + list(dfd.columns)[:-1]]\n",
    "\n",
    "\n",
    "dfu['D_f'] = dfu.cf - dfu.mf\n",
    "dfu['D_m'] = dfu.cm - dfu.mm\n",
    "dfd['D_f'] = dfd.cf - dfd.mf\n",
    "dfd['D_m'] = dfd.cm - dfd.mm\n",
    "\n",
    "dfu = dfu.sort_values('D_f', ascending=False).reset_index(drop=True)\n",
    "dfd = dfd.sort_values('D_f', ascending=True).reset_index(drop=True)"
   ]
  },
  {
   "cell_type": "code",
   "execution_count": 5,
   "metadata": {},
   "outputs": [],
   "source": [
    "def add_colorbars(x1, x2):\n",
    "    \n",
    "    if pd.isnull(x1) or pd.isnull(x2):\n",
    "        return ''\n",
    "    elif x1 > x2:\n",
    "        width=x1-x2\n",
    "        return '\\colorbox{white}{\\parbox{%sem}{\\hfill}}\\colorbox{Green}{\\parbox{%sem}{\\hfill}}' % (5*width, 5*width)\n",
    "    else:\n",
    "        width=x2-x1\n",
    "        return '\\colorbox{Red}{\\parbox{%sem}{\\hfill}}\\colorbox{white}{\\parbox{%sem}{\\hfill}}' % (5*width, 5*width)"
   ]
  },
  {
   "cell_type": "code",
   "execution_count": 6,
   "metadata": {},
   "outputs": [],
   "source": [
    "dfu['diff_female'] = dfu.apply(lambda x: add_colorbars(x['cf'], x['mf']), axis=1)\n",
    "dfu['diff_male'] = dfu.apply(lambda x: add_colorbars(x['cm'], x['mm']), axis=1)\n",
    "\n",
    "dfd['diff_female'] = dfd.apply(lambda x: add_colorbars(x['cf'], x['mf']), axis=1)\n",
    "dfd['diff_male'] = dfd.apply(lambda x: add_colorbars(x['cm'], x['mm']), axis=1)\n",
    "\n",
    "dfu['diff_diff'] = dfu.apply(lambda x: add_colorbars(x['D_f'], x['D_m']), axis=1)\n",
    "dfd['diff_diff'] = dfd.apply(lambda x: add_colorbars(x['D_f'], x['D_m']), axis=1)"
   ]
  },
  {
   "cell_type": "code",
   "execution_count": 7,
   "metadata": {},
   "outputs": [],
   "source": [
    "dfu = dfu[['country', 'of', 'cf', 'mf', 'diff_female',  'om', 'cm', 'mm', 'diff_male', 'diff_diff']]\n",
    "dfd = dfd[['country', 'of', 'cf', 'mf', 'diff_female',  'om', 'cm', 'mm', 'diff_male', 'diff_diff']]"
   ]
  },
  {
   "cell_type": "code",
   "execution_count": 8,
   "metadata": {},
   "outputs": [],
   "source": [
    "for col in dfu.columns[1:]:\n",
    "    if 'diff' not in col:\n",
    "        dfu[col] = np.round(dfu[col], 3)\n",
    "for col in dfu.columns:\n",
    "    dfu[col] = dfu[col].astype('str')\n",
    "dfu = dfu.replace('nan', '')\n",
    "\n",
    "for col in dfd.columns[1:]:\n",
    "    if 'diff' not in col:\n",
    "        dfd[col] = np.round(dfd[col], 3)\n",
    "for col in dfd.columns:\n",
    "    dfd[col] = dfd[col].astype('str')\n",
    "dfd = dfd.replace('nan', '')"
   ]
  },
  {
   "cell_type": "markdown",
   "metadata": {},
   "source": [
    "# Creating tex tables"
   ]
  },
  {
   "cell_type": "markdown",
   "metadata": {},
   "source": [
    "## upward"
   ]
  },
  {
   "cell_type": "code",
   "execution_count": 9,
   "metadata": {},
   "outputs": [],
   "source": [
    "tt = TexTab(dfu)"
   ]
  },
  {
   "cell_type": "code",
   "execution_count": 10,
   "metadata": {},
   "outputs": [],
   "source": [
    "cns = ['', '(1)', '(2)', '(3)', '(4)', '(5)', '(6)', '(7)', '(8)', '(9)']\n",
    "lcols = ['country']\n",
    "gaps = ['country', 'diff_female', 'diff_male']\n",
    "cap = \"Country-group-level estimates of IM for Christians and Muslims by gender\"\n",
    "lab = \"tab:_im_ctry_majrel_gender\"\n",
    "lines = []\n",
    "notes = '''BLAH.\n",
    "'''"
   ]
  },
  {
   "cell_type": "code",
   "execution_count": 11,
   "metadata": {},
   "outputs": [],
   "source": [
    "tab = tt.create_tab_onepanel(cns=cns, gaps=gaps, lcols=lcols,\n",
    "                             cap=cap, lab=lab, lines=lines, notes=notes, clines=False)"
   ]
  },
  {
   "cell_type": "code",
   "execution_count": 12,
   "metadata": {},
   "outputs": [],
   "source": [
    "nl = '\\\\\\\\multicolumn{2}{l}{}&\\\\\\\\multicolumn{4}{c}{female}&&\\\\\\\\multicolumn{4}{c}{male}&&diff-in-diff'\n",
    "tab = re.sub(r'&&&&&&&&&&&&', nl, tab)\n",
    "nl = 'country&&Overall&Christian&Muslim&$\\\\\\\\Delta(c-m)$&&Overall&Christian&Muslim&$\\\\\\\\Delta(c-m)$&&$\\\\\\\\Delta(f-m)\\\\\\\\Delta(c-m)$\\\\\\\\\\\\\\n'\n",
    "tabu = re.sub(r'(\\\\hline\\nNigeria)', r'%s\\1' % nl, tab)"
   ]
  },
  {
   "cell_type": "markdown",
   "metadata": {},
   "source": [
    "## downward"
   ]
  },
  {
   "cell_type": "code",
   "execution_count": 13,
   "metadata": {},
   "outputs": [],
   "source": [
    "tt = TexTab(dfd)"
   ]
  },
  {
   "cell_type": "code",
   "execution_count": 14,
   "metadata": {},
   "outputs": [],
   "source": [
    "cns = ['', '(1)', '(2)', '(3)', '(4)', '(5)', '(6)', '(7)', '(8)', '(9)']\n",
    "lcols = ['country']\n",
    "gaps = ['country', 'diff_female', 'diff_male']\n",
    "cap = \"Country-group-level estimates of IM for Christians and Muslims by gender\"\n",
    "lab = \"tab:_im_ctry_majrel_gender\"\n",
    "lines = []\n",
    "notes = '''This table reports IM for the 1980s cohort (the cohort with the \n",
    "broadest coverage) for individuals aged 14-18 by country and major religious group. This table\n",
    "omits the ``Other'' category and focuses only on Christians and Muslims. Panel A shows\n",
    "estimates for upward IM, panel B for downward IM. Because of the timing of censues, \n",
    "we have to use the 1990s cohort for Liberia, Mali, Nigeria, and Togo as for those countries we \n",
    "don't have 14-18 year olds born in the 1980s. Columns (1) - (4) show the estimates for females, columns (5) - (8)\n",
    "those for males. Columns (1) and (5) give the country-level estimates across all groups,\n",
    "columns (2) - (3) and (6) - (7) give estimates by group. Columns (4) and (8) show differences\n",
    "between Christians and Muslims for females and males respectively. Red bars indicate a negative difference, green bars a positive\n",
    "difference. Column (9) shows the difference-in-difference, i.e. the female difference between christians and muslims\n",
    "minus the male difference.\n",
    "'''"
   ]
  },
  {
   "cell_type": "code",
   "execution_count": 15,
   "metadata": {},
   "outputs": [],
   "source": [
    "tab = tt.create_tab_onepanel(cns=cns, gaps=gaps, lcols=lcols,\n",
    "                             cap=cap, lab=lab, lines=lines, notes=notes, clines=False)"
   ]
  },
  {
   "cell_type": "code",
   "execution_count": 16,
   "metadata": {},
   "outputs": [],
   "source": [
    "nl = '\\\\\\\\multicolumn{2}{l}{}&\\\\\\\\multicolumn{4}{c}{female}&&\\\\\\\\multicolumn{4}{c}{male}&&diff-in-diff'\n",
    "tab = re.sub(r'&&&&&&&&&&&&', nl, tab)\n",
    "nl = 'country&&Overall&Christian&Muslim&$\\\\\\\\Delta(c-m)$&&Overall&Christian&Muslim&$\\\\\\\\Delta(c-m)$&&$\\\\\\\\Delta(f-m)\\\\\\\\Delta(c-m)$\\\\\\\\\\\\\\n'\n",
    "tabd = re.sub(r'(\\\\hline\\nCameroon)', r'%s\\1' % nl, tab)"
   ]
  },
  {
   "cell_type": "markdown",
   "metadata": {},
   "source": [
    "## Making two panels"
   ]
  },
  {
   "cell_type": "code",
   "execution_count": 17,
   "metadata": {},
   "outputs": [],
   "source": [
    "nl = '\\\\\\\\multicolumn{13}{c}{\\\\\\\\textbf{Panel A: Upward}}\\\\\\\\\\\\\\n'\n",
    "tabu = re.sub(r'(\\\\hline\\n\\\\multicolumn\\{2\\})', r'%s\\1' % nl, tabu, flags=re.DOTALL)\n",
    "tabu = re.sub(r'\\\\end{tabular}.+', r'', tabu, flags=re.DOTALL)"
   ]
  },
  {
   "cell_type": "code",
   "execution_count": 18,
   "metadata": {},
   "outputs": [],
   "source": [
    "nl = '\\\\\\\\multicolumn{13}{c}{}\\\\\\\\\\\\\\n\\\\\\\\multicolumn{13}{c}{\\\\\\\\textbf{Panel B: Downward}}\\\\\\\\\\\\\\n'\n",
    "tabd = re.sub(r'.+?(\\\\hline\\n\\\\multicolumn\\{2\\})', r'%s\\1' % nl, tabd, flags=re.DOTALL)"
   ]
  },
  {
   "cell_type": "code",
   "execution_count": 19,
   "metadata": {},
   "outputs": [
    {
     "name": "stdout",
     "output_type": "stream",
     "text": [
      "\\begin{table}[ht!]\n",
      "\\singlespacing\n",
      "\\centering\n",
      "\\caption{Country-group-level estimates of IM for Christians and Muslims by gender}\n",
      "\\label{tab:_im_ctry_majrel_gender}\n",
      "\\resizebox{\\columnwidth}{!}{\n",
      "\\begin{tabular}{lcccccccccccc}\n",
      "\\multicolumn{13}{c}{\\textbf{Panel A: Upward}}\\\\\n",
      "\\hline\n",
      "\\multicolumn{2}{l}{}&\\multicolumn{4}{c}{female}&&\\multicolumn{4}{c}{male}&&diff-in-diff\\\\\n",
      "\\hline\n",
      "&\\;\\;\\;\\;\\;\\;\\;\\;\\;\\;\\;&(1)&(2)&(3)&(4)&\\;\\;\\;\\;\\;\\;\\;\\;\\;\\;\\;&(5)&(6)&(7)&(8)&\\;\\;\\;\\;\\;\\;\\;\\;\\;\\;\\;&(9)\\\\\n",
      "country&&Overall&Christian&Muslim&$\\Delta(c-m)$&&Overall&Christian&Muslim&$\\Delta(c-m)$&&$\\Delta(f-m)\\Delta(c-m)$\\\\\n",
      "\\hline\n",
      "Nigeria&&0.608&0.801&0.426&\\colorbox{white}{\\parbox{1.8750541297381549em}{\\hfill}}\\colorbox{Green}{\\parbox{1.8750541297381549em}{\\hfill}}&&0.616&0.773&0.489&\\colorbox{white}{\\parbox{1.4227117568355698em}{\\hfill}}\\colorbox{Green}{\\parbox{1.4227117568355698em}{\\hfill}}&&\\colorbox{white}{\\parbox{0.45234237290258494em}{\\hfill}}\\colorbox{Green}{\\parbox{0.45234237290258494em}{\\hfill}}\\\\\n",
      "Cameroon&&0.553&0.696&0.35&\\colorbox{white}{\\parbox{1.7328547182235152em}{\\hfill}}\\colorbox{Green}{\\parbox{1.7328547182235152em}{\\hfill}}&&0.656&0.783&0.485&\\colorbox{white}{\\parbox{1.4896568054823898em}{\\hfill}}\\colorbox{Green}{\\parbox{1.4896568054823898em}{\\hfill}}&&\\colorbox{white}{\\parbox{0.24319791274112545em}{\\hfill}}\\colorbox{Green}{\\parbox{0.24319791274112545em}{\\hfill}}\\\\\n",
      "Senegal&&0.205&0.471&0.197&\\colorbox{white}{\\parbox{1.372380031789685em}{\\hfill}}\\colorbox{Green}{\\parbox{1.372380031789685em}{\\hfill}}&&0.285&0.582&0.276&\\colorbox{white}{\\parbox{1.5341544928580304em}{\\hfill}}\\colorbox{Green}{\\parbox{1.5341544928580304em}{\\hfill}}&&\\colorbox{Red}{\\parbox{0.16177446106834525em}{\\hfill}}\\colorbox{white}{\\parbox{0.16177446106834525em}{\\hfill}}\\\\\n",
      "Ghana&&0.526&0.625&0.421&\\colorbox{white}{\\parbox{1.020939435469905em}{\\hfill}}\\colorbox{Green}{\\parbox{1.020939435469905em}{\\hfill}}&&0.585&0.682&0.51&\\colorbox{white}{\\parbox{0.8621534160508648em}{\\hfill}}\\colorbox{Green}{\\parbox{0.8621534160508648em}{\\hfill}}&&\\colorbox{white}{\\parbox{0.1587860194190402em}{\\hfill}}\\colorbox{Green}{\\parbox{0.1587860194190402em}{\\hfill}}\\\\\n",
      "Botswana&&0.846&0.865&0.667&\\colorbox{white}{\\parbox{0.991401112797165em}{\\hfill}}\\colorbox{Green}{\\parbox{0.991401112797165em}{\\hfill}}&&0.745&0.768&0.333&\\colorbox{white}{\\parbox{2.170985772357725em}{\\hfill}}\\colorbox{Green}{\\parbox{2.170985772357725em}{\\hfill}}&&\\colorbox{Red}{\\parbox{1.17958465956056em}{\\hfill}}\\colorbox{white}{\\parbox{1.17958465956056em}{\\hfill}}\\\\\n",
      "Benin&&0.213&0.316&0.155&\\colorbox{white}{\\parbox{0.8044299475180701em}{\\hfill}}\\colorbox{Green}{\\parbox{0.8044299475180701em}{\\hfill}}&&0.37&0.504&0.264&\\colorbox{white}{\\parbox{1.2026603824110549em}{\\hfill}}\\colorbox{Green}{\\parbox{1.2026603824110549em}{\\hfill}}&&\\colorbox{Red}{\\parbox{0.3982304348929848em}{\\hfill}}\\colorbox{white}{\\parbox{0.3982304348929848em}{\\hfill}}\\\\\n",
      "Burkina Faso&&0.165&0.299&0.157&\\colorbox{white}{\\parbox{0.70823704296167em}{\\hfill}}\\colorbox{Green}{\\parbox{0.70823704296167em}{\\hfill}}&&0.214&0.362&0.203&\\colorbox{white}{\\parbox{0.7984664459555101em}{\\hfill}}\\colorbox{Green}{\\parbox{0.7984664459555101em}{\\hfill}}&&\\colorbox{Red}{\\parbox{0.09022940299384011em}{\\hfill}}\\colorbox{white}{\\parbox{0.09022940299384011em}{\\hfill}}\\\\\n",
      "Mozambique&&0.073&0.29&0.151&\\colorbox{white}{\\parbox{0.6987881952134549em}{\\hfill}}\\colorbox{Green}{\\parbox{0.6987881952134549em}{\\hfill}}&&0.096&0.354&0.249&\\colorbox{white}{\\parbox{0.5252494889539301em}{\\hfill}}\\colorbox{Green}{\\parbox{0.5252494889539301em}{\\hfill}}&&\\colorbox{white}{\\parbox{0.17353870625952478em}{\\hfill}}\\colorbox{Green}{\\parbox{0.17353870625952478em}{\\hfill}}\\\\\n",
      "Mali&&0.231&0.351&0.231&\\colorbox{white}{\\parbox{0.60279955931417em}{\\hfill}}\\colorbox{Green}{\\parbox{0.60279955931417em}{\\hfill}}&&0.311&0.433&0.31&\\colorbox{white}{\\parbox{0.615617360085905em}{\\hfill}}\\colorbox{Green}{\\parbox{0.615617360085905em}{\\hfill}}&&\\colorbox{Red}{\\parbox{0.012817800771735em}{\\hfill}}\\colorbox{white}{\\parbox{0.012817800771735em}{\\hfill}}\\\\\n",
      "Togo&&0.465&0.585&0.466&\\colorbox{white}{\\parbox{0.5963584108706699em}{\\hfill}}\\colorbox{Green}{\\parbox{0.5963584108706699em}{\\hfill}}&&0.577&0.695&0.59&\\colorbox{white}{\\parbox{0.5282765119210248em}{\\hfill}}\\colorbox{Green}{\\parbox{0.5282765119210248em}{\\hfill}}&&\\colorbox{white}{\\parbox{0.06808189894964511em}{\\hfill}}\\colorbox{Green}{\\parbox{0.06808189894964511em}{\\hfill}}\\\\\n",
      "Sierra Leone&&0.213&0.283&0.197&\\colorbox{white}{\\parbox{0.4293255156575em}{\\hfill}}\\colorbox{Green}{\\parbox{0.4293255156575em}{\\hfill}}&&0.309&0.354&0.3&\\colorbox{white}{\\parbox{0.2697704432291151em}{\\hfill}}\\colorbox{Green}{\\parbox{0.2697704432291151em}{\\hfill}}&&\\colorbox{white}{\\parbox{0.15955507242838493em}{\\hfill}}\\colorbox{Green}{\\parbox{0.15955507242838493em}{\\hfill}}\\\\\n",
      "Ethiopia&&0.106&0.128&0.071&\\colorbox{white}{\\parbox{0.2888224647980765em}{\\hfill}}\\colorbox{Green}{\\parbox{0.2888224647980765em}{\\hfill}}&&0.124&0.146&0.092&\\colorbox{white}{\\parbox{0.2687720861563916em}{\\hfill}}\\colorbox{Green}{\\parbox{0.2687720861563916em}{\\hfill}}&&\\colorbox{white}{\\parbox{0.02005037864168495em}{\\hfill}}\\colorbox{Green}{\\parbox{0.02005037864168495em}{\\hfill}}\\\\\n",
      "Malawi&&0.131&0.141&0.092&\\colorbox{white}{\\parbox{0.2456211926821384em}{\\hfill}}\\colorbox{Green}{\\parbox{0.2456211926821384em}{\\hfill}}&&0.134&0.145&0.1&\\colorbox{white}{\\parbox{0.2275417434041245em}{\\hfill}}\\colorbox{Green}{\\parbox{0.2275417434041245em}{\\hfill}}&&\\colorbox{white}{\\parbox{0.0180794492780139em}{\\hfill}}\\colorbox{Green}{\\parbox{0.0180794492780139em}{\\hfill}}\\\\\n",
      "Guinea&&0.11&0.143&0.113&\\colorbox{white}{\\parbox{0.15087699053773496em}{\\hfill}}\\colorbox{Green}{\\parbox{0.15087699053773496em}{\\hfill}}&&0.242&0.31&0.239&\\colorbox{white}{\\parbox{0.35822212222171496em}{\\hfill}}\\colorbox{Green}{\\parbox{0.35822212222171496em}{\\hfill}}&&\\colorbox{Red}{\\parbox{0.20734513168398em}{\\hfill}}\\colorbox{white}{\\parbox{0.20734513168398em}{\\hfill}}\\\\\n",
      "Zambia&&0.427&0.433&0.43&\\colorbox{white}{\\parbox{0.011819437304060043em}{\\hfill}}\\colorbox{Green}{\\parbox{0.011819437304060043em}{\\hfill}}&&0.448&0.457&0.515&\\colorbox{Red}{\\parbox{0.2916400828627em}{\\hfill}}\\colorbox{white}{\\parbox{0.2916400828627em}{\\hfill}}&&\\colorbox{white}{\\parbox{0.30345952016676003em}{\\hfill}}\\colorbox{Green}{\\parbox{0.30345952016676003em}{\\hfill}}\\\\\n",
      "Egypt&&0.637&0.629&0.638&\\colorbox{Red}{\\parbox{0.044335220674264764em}{\\hfill}}\\colorbox{white}{\\parbox{0.044335220674264764em}{\\hfill}}&&0.706&0.724&0.705&\\colorbox{white}{\\parbox{0.09703637436065504em}{\\hfill}}\\colorbox{Green}{\\parbox{0.09703637436065504em}{\\hfill}}&&\\colorbox{Red}{\\parbox{0.1413715950349198em}{\\hfill}}\\colorbox{white}{\\parbox{0.1413715950349198em}{\\hfill}}\\\\\n",
      "Liberia&&0.215&0.212&0.243&\\colorbox{Red}{\\parbox{0.15456504647900507em}{\\hfill}}\\colorbox{white}{\\parbox{0.15456504647900507em}{\\hfill}}&&0.229&0.223&0.29&\\colorbox{Red}{\\parbox{0.33763543232261506em}{\\hfill}}\\colorbox{white}{\\parbox{0.33763543232261506em}{\\hfill}}&&\\colorbox{white}{\\parbox{0.18307038584361002em}{\\hfill}}\\colorbox{Green}{\\parbox{0.18307038584361002em}{\\hfill}}\\\\\n",
      "Mauritius&&0.939&0.918&0.979&\\colorbox{Red}{\\parbox{0.30616491290648473em}{\\hfill}}\\colorbox{white}{\\parbox{0.30616491290648473em}{\\hfill}}&&0.895&0.842&0.939&\\colorbox{Red}{\\parbox{0.48686033331934053em}{\\hfill}}\\colorbox{white}{\\parbox{0.48686033331934053em}{\\hfill}}&&\\colorbox{white}{\\parbox{0.1806954204128558em}{\\hfill}}\\colorbox{Green}{\\parbox{0.1806954204128558em}{\\hfill}}\\\\\n",
      "South Africa&&0.778&0.785&0.888&\\colorbox{Red}{\\parbox{0.5138581335725345em}{\\hfill}}\\colorbox{white}{\\parbox{0.5138581335725345em}{\\hfill}}&&0.687&0.691&0.861&\\colorbox{Red}{\\parbox{0.8527098819839851em}{\\hfill}}\\colorbox{white}{\\parbox{0.8527098819839851em}{\\hfill}}&&\\colorbox{white}{\\parbox{0.3388517484114506em}{\\hfill}}\\colorbox{Green}{\\parbox{0.3388517484114506em}{\\hfill}}\\\\\n",
      "Uganda&&0.389&0.389&0.506&\\colorbox{Red}{\\parbox{0.5848962553388554em}{\\hfill}}\\colorbox{white}{\\parbox{0.5848962553388554em}{\\hfill}}&&0.41&0.417&0.467&\\colorbox{Red}{\\parbox{0.25080428568416024em}{\\hfill}}\\colorbox{white}{\\parbox{0.25080428568416024em}{\\hfill}}&&\\colorbox{Red}{\\parbox{0.3340919696546951em}{\\hfill}}\\colorbox{white}{\\parbox{0.3340919696546951em}{\\hfill}}\\\\\n",
      "Rwanda&&0.175&0.175&0.311&\\colorbox{Red}{\\parbox{0.67970648371519em}{\\hfill}}\\colorbox{white}{\\parbox{0.67970648371519em}{\\hfill}}&&0.187&0.191&0.236&\\colorbox{Red}{\\parbox{0.22284151999960491em}{\\hfill}}\\colorbox{white}{\\parbox{0.22284151999960491em}{\\hfill}}&&\\colorbox{Red}{\\parbox{0.45686496371558516em}{\\hfill}}\\colorbox{white}{\\parbox{0.45686496371558516em}{\\hfill}}\\\\\n",
      "\\hline\n",
      "\\multicolumn{13}{c}{}\\\\\n",
      "\\multicolumn{13}{c}{\\textbf{Panel B: Downward}}\\\\\n",
      "\\hline\n",
      "\\multicolumn{2}{l}{}&\\multicolumn{4}{c}{female}&&\\multicolumn{4}{c}{male}&&diff-in-diff\\\\\n",
      "\\hline\n",
      "&\\;\\;\\;\\;\\;\\;\\;\\;\\;\\;\\;&(1)&(2)&(3)&(4)&\\;\\;\\;\\;\\;\\;\\;\\;\\;\\;\\;&(5)&(6)&(7)&(8)&\\;\\;\\;\\;\\;\\;\\;\\;\\;\\;\\;&(9)\\\\\n",
      "country&&Overall&Christian&Muslim&$\\Delta(c-m)$&&Overall&Christian&Muslim&$\\Delta(c-m)$&&$\\Delta(f-m)\\Delta(c-m)$\\\\\n",
      "\\hline\n",
      "Cameroon&&0.072&0.044&0.237&\\colorbox{Red}{\\parbox{0.9664830760678034em}{\\hfill}}\\colorbox{white}{\\parbox{0.9664830760678034em}{\\hfill}}&&0.057&0.039&0.154&\\colorbox{Red}{\\parbox{0.5756093687229651em}{\\hfill}}\\colorbox{white}{\\parbox{0.5756093687229651em}{\\hfill}}&&\\colorbox{Red}{\\parbox{0.3908737073448383em}{\\hfill}}\\colorbox{white}{\\parbox{0.3908737073448383em}{\\hfill}}\\\\\n",
      "Ethiopia&&0.362&0.341&0.507&\\colorbox{Red}{\\parbox{0.82737012572596em}{\\hfill}}\\colorbox{white}{\\parbox{0.82737012572596em}{\\hfill}}&&0.323&0.301&0.455&\\colorbox{Red}{\\parbox{0.7695595239455899em}{\\hfill}}\\colorbox{white}{\\parbox{0.7695595239455899em}{\\hfill}}&&\\colorbox{Red}{\\parbox{0.05781060178037006em}{\\hfill}}\\colorbox{white}{\\parbox{0.05781060178037006em}{\\hfill}}\\\\\n",
      "Sierra Leone&&0.371&0.287&0.437&\\colorbox{Red}{\\parbox{0.7496112619872699em}{\\hfill}}\\colorbox{white}{\\parbox{0.7496112619872699em}{\\hfill}}&&0.293&0.222&0.338&\\colorbox{Red}{\\parbox{0.5838329664152851em}{\\hfill}}\\colorbox{white}{\\parbox{0.5838329664152851em}{\\hfill}}&&\\colorbox{Red}{\\parbox{0.16577829557198484em}{\\hfill}}\\colorbox{white}{\\parbox{0.16577829557198484em}{\\hfill}}\\\\\n",
      "Senegal&&0.302&0.183&0.314&\\colorbox{Red}{\\parbox{0.652414326670565em}{\\hfill}}\\colorbox{white}{\\parbox{0.652414326670565em}{\\hfill}}&&0.226&0.141&0.234&\\colorbox{Red}{\\parbox{0.463833848510975em}{\\hfill}}\\colorbox{white}{\\parbox{0.463833848510975em}{\\hfill}}&&\\colorbox{Red}{\\parbox{0.18858047815958998em}{\\hfill}}\\colorbox{white}{\\parbox{0.18858047815958998em}{\\hfill}}\\\\\n",
      "Mozambique&&0.58&0.238&0.365&\\colorbox{Red}{\\parbox{0.6338922764227599em}{\\hfill}}\\colorbox{white}{\\parbox{0.6338922764227599em}{\\hfill}}&&0.577&0.212&0.272&\\colorbox{Red}{\\parbox{0.29899468958530007em}{\\hfill}}\\colorbox{white}{\\parbox{0.29899468958530007em}{\\hfill}}&&\\colorbox{Red}{\\parbox{0.33489758683745985em}{\\hfill}}\\colorbox{white}{\\parbox{0.33489758683745985em}{\\hfill}}\\\\\n",
      "Ghana&&0.19&0.173&0.3&\\colorbox{Red}{\\parbox{0.63062576161608em}{\\hfill}}\\colorbox{white}{\\parbox{0.63062576161608em}{\\hfill}}&&0.156&0.14&0.228&\\colorbox{Red}{\\parbox{0.44031383171259em}{\\hfill}}\\colorbox{white}{\\parbox{0.44031383171259em}{\\hfill}}&&\\colorbox{Red}{\\parbox{0.19031192990349em}{\\hfill}}\\colorbox{white}{\\parbox{0.19031192990349em}{\\hfill}}\\\\\n",
      "Malawi&&0.497&0.489&0.596&\\colorbox{Red}{\\parbox{0.53361380193264em}{\\hfill}}\\colorbox{white}{\\parbox{0.53361380193264em}{\\hfill}}&&0.527&0.516&0.635&\\colorbox{Red}{\\parbox{0.5908258408258399em}{\\hfill}}\\colorbox{white}{\\parbox{0.5908258408258399em}{\\hfill}}&&\\colorbox{white}{\\parbox{0.05721203889319987em}{\\hfill}}\\colorbox{Green}{\\parbox{0.05721203889319987em}{\\hfill}}\\\\\n",
      "Togo&&0.229&0.199&0.294&\\colorbox{Red}{\\parbox{0.47416819305300506em}{\\hfill}}\\colorbox{white}{\\parbox{0.47416819305300506em}{\\hfill}}&&0.15&0.128&0.141&\\colorbox{Red}{\\parbox{0.06565801352414996em}{\\hfill}}\\colorbox{white}{\\parbox{0.06565801352414996em}{\\hfill}}&&\\colorbox{Red}{\\parbox{0.4085101795288551em}{\\hfill}}\\colorbox{white}{\\parbox{0.4085101795288551em}{\\hfill}}\\\\\n",
      "Nigeria&&0.096&0.079&0.168&\\colorbox{Red}{\\parbox{0.4485388126046475em}{\\hfill}}\\colorbox{white}{\\parbox{0.4485388126046475em}{\\hfill}}&&0.086&0.076&0.155&\\colorbox{Red}{\\parbox{0.39460295925721955em}{\\hfill}}\\colorbox{white}{\\parbox{0.39460295925721955em}{\\hfill}}&&\\colorbox{Red}{\\parbox{0.05393585334742795em}{\\hfill}}\\colorbox{white}{\\parbox{0.05393585334742795em}{\\hfill}}\\\\\n",
      "Burkina Faso&&0.302&0.263&0.34&\\colorbox{Red}{\\parbox{0.3864566114267451em}{\\hfill}}\\colorbox{white}{\\parbox{0.3864566114267451em}{\\hfill}}&&0.157&0.118&0.193&\\colorbox{Red}{\\parbox{0.374206793579695em}{\\hfill}}\\colorbox{white}{\\parbox{0.374206793579695em}{\\hfill}}&&\\colorbox{Red}{\\parbox{0.012249817847050093em}{\\hfill}}\\colorbox{white}{\\parbox{0.012249817847050093em}{\\hfill}}\\\\\n",
      "Benin&&0.383&0.364&0.395&\\colorbox{Red}{\\parbox{0.15252112316585492em}{\\hfill}}\\colorbox{white}{\\parbox{0.15252112316585492em}{\\hfill}}&&0.188&0.168&0.212&\\colorbox{Red}{\\parbox{0.22198736481085501em}{\\hfill}}\\colorbox{white}{\\parbox{0.22198736481085501em}{\\hfill}}&&\\colorbox{white}{\\parbox{0.06946624164500009em}{\\hfill}}\\colorbox{Green}{\\parbox{0.06946624164500009em}{\\hfill}}\\\\\n",
      "Liberia&&0.548&0.546&0.565&\\colorbox{Red}{\\parbox{0.09852078479804516em}{\\hfill}}\\colorbox{white}{\\parbox{0.09852078479804516em}{\\hfill}}&&0.529&0.528&0.525&\\colorbox{white}{\\parbox{0.014702116574979995em}{\\hfill}}\\colorbox{Green}{\\parbox{0.014702116574979995em}{\\hfill}}&&\\colorbox{Red}{\\parbox{0.11322290137302515em}{\\hfill}}\\colorbox{white}{\\parbox{0.11322290137302515em}{\\hfill}}\\\\\n",
      "Zambia&&0.251&0.25&0.257&\\colorbox{Red}{\\parbox{0.039320967694244924em}{\\hfill}}\\colorbox{white}{\\parbox{0.039320967694244924em}{\\hfill}}&&0.255&0.253&0.194&\\colorbox{white}{\\parbox{0.2914370204581601em}{\\hfill}}\\colorbox{Green}{\\parbox{0.2914370204581601em}{\\hfill}}&&\\colorbox{Red}{\\parbox{0.33075798815240504em}{\\hfill}}\\colorbox{white}{\\parbox{0.33075798815240504em}{\\hfill}}\\\\\n",
      "Egypt&&0.055&0.052&0.055&\\colorbox{Red}{\\parbox{0.01874605409519149em}{\\hfill}}\\colorbox{white}{\\parbox{0.01874605409519149em}{\\hfill}}&&0.049&0.045&0.05&\\colorbox{Red}{\\parbox{0.023495669743927514em}{\\hfill}}\\colorbox{white}{\\parbox{0.023495669743927514em}{\\hfill}}&&\\colorbox{white}{\\parbox{0.004749615648736022em}{\\hfill}}\\colorbox{Green}{\\parbox{0.004749615648736022em}{\\hfill}}\\\\\n",
      "Mali&&0.295&0.291&0.292&\\colorbox{Red}{\\parbox{0.006798559306600005em}{\\hfill}}\\colorbox{white}{\\parbox{0.006798559306600005em}{\\hfill}}&&0.18&0.139&0.18&\\colorbox{Red}{\\parbox{0.20589772835282003em}{\\hfill}}\\colorbox{white}{\\parbox{0.20589772835282003em}{\\hfill}}&&\\colorbox{white}{\\parbox{0.19909916904622002em}{\\hfill}}\\colorbox{Green}{\\parbox{0.19909916904622002em}{\\hfill}}\\\\\n",
      "Mauritius&&0.015&0.019&0.014&\\colorbox{white}{\\parbox{0.02620399980907799em}{\\hfill}}\\colorbox{Green}{\\parbox{0.02620399980907799em}{\\hfill}}&&0.022&0.037&0.015&\\colorbox{white}{\\parbox{0.11061814670927102em}{\\hfill}}\\colorbox{Green}{\\parbox{0.11061814670927102em}{\\hfill}}&&\\colorbox{Red}{\\parbox{0.08441414690019303em}{\\hfill}}\\colorbox{white}{\\parbox{0.08441414690019303em}{\\hfill}}\\\\\n",
      "Botswana&&0.066&0.065&0.056&\\colorbox{white}{\\parbox{0.0486876894305795em}{\\hfill}}\\colorbox{Green}{\\parbox{0.0486876894305795em}{\\hfill}}&&0.109&0.106&0.0&\\colorbox{white}{\\parbox{0.5290297937356749em}{\\hfill}}\\colorbox{Green}{\\parbox{0.5290297937356749em}{\\hfill}}&&\\colorbox{Red}{\\parbox{0.4803421043050955em}{\\hfill}}\\colorbox{white}{\\parbox{0.4803421043050955em}{\\hfill}}\\\\\n",
      "South Africa&&0.077&0.077&0.033&\\colorbox{white}{\\parbox{0.222725051272913em}{\\hfill}}\\colorbox{Green}{\\parbox{0.222725051272913em}{\\hfill}}&&0.13&0.135&0.048&\\colorbox{white}{\\parbox{0.43554097772565553em}{\\hfill}}\\colorbox{Green}{\\parbox{0.43554097772565553em}{\\hfill}}&&\\colorbox{Red}{\\parbox{0.21281592645274253em}{\\hfill}}\\colorbox{white}{\\parbox{0.21281592645274253em}{\\hfill}}\\\\\n",
      "Uganda&&0.276&0.283&0.228&\\colorbox{white}{\\parbox{0.2770766948924751em}{\\hfill}}\\colorbox{Green}{\\parbox{0.2770766948924751em}{\\hfill}}&&0.305&0.307&0.288&\\colorbox{white}{\\parbox{0.09630369223697005em}{\\hfill}}\\colorbox{Green}{\\parbox{0.09630369223697005em}{\\hfill}}&&\\colorbox{white}{\\parbox{0.18077300265550503em}{\\hfill}}\\colorbox{Green}{\\parbox{0.18077300265550503em}{\\hfill}}\\\\\n",
      "Guinea&&0.53&0.594&0.507&\\colorbox{white}{\\parbox{0.43097942225719em}{\\hfill}}\\colorbox{Green}{\\parbox{0.43097942225719em}{\\hfill}}&&0.346&0.394&0.328&\\colorbox{white}{\\parbox{0.3289504689193648em}{\\hfill}}\\colorbox{Green}{\\parbox{0.3289504689193648em}{\\hfill}}&&\\colorbox{white}{\\parbox{0.10202895333782519em}{\\hfill}}\\colorbox{Green}{\\parbox{0.10202895333782519em}{\\hfill}}\\\\\n",
      "Rwanda&&0.534&0.534&0.446&\\colorbox{white}{\\parbox{0.4417986260311349em}{\\hfill}}\\colorbox{Green}{\\parbox{0.4417986260311349em}{\\hfill}}&&0.552&0.548&0.534&\\colorbox{white}{\\parbox{0.06646398696248501em}{\\hfill}}\\colorbox{Green}{\\parbox{0.06646398696248501em}{\\hfill}}&&\\colorbox{white}{\\parbox{0.3753346390686499em}{\\hfill}}\\colorbox{Green}{\\parbox{0.3753346390686499em}{\\hfill}}\\\\\n",
      "\\hline\n",
      "\\end{tabular}\n",
      "}\n",
      "\\captionsetup{size=scriptsize, justification=justified, width=\\columnwidth}\n",
      "\\caption*{This table reports IM for the 1980s cohort (the cohort with the \n",
      "broadest coverage) for individuals aged 14-18 by country and major religious group. This table\n",
      "omits the ``Other'' category and focuses only on Christians and Muslims. Panel A shows\n",
      "estimates for upward IM, panel B for downward IM. Because of the timing of censues, \n",
      "we have to use the 1990s cohort for Liberia, Mali, Nigeria, and Togo as for those countries we \n",
      "don't have 14-18 year olds born in the 1980s. Columns (1) - (4) show the estimates for females, columns (5) - (8)\n",
      "those for males. Columns (1) and (5) give the country-level estimates across all groups,\n",
      "columns (2) - (3) and (6) - (7) give estimates by group. Columns (4) and (8) show differences\n",
      "between Christians and Muslims for females and males respectively. Red bars indicate a negative difference, green bars a positive\n",
      "difference. Column (9) shows the difference-in-difference, i.e. the female difference between christians and muslims\n",
      "minus the male difference.\n",
      "}\n",
      "\\end{table}\n"
     ]
    }
   ],
   "source": [
    "tab = tabu+tabd\n",
    "print(tab)"
   ]
  },
  {
   "cell_type": "code",
   "execution_count": 20,
   "metadata": {},
   "outputs": [],
   "source": [
    "fh = open(outdir + \"/_2_ctry_im_majrel_gender.tex\", \"w\")\n",
    "fh.write(tab)\n",
    "fh.close()"
   ]
  }
 ],
 "metadata": {
  "kernelspec": {
   "display_name": "Python 3",
   "language": "python",
   "name": "python3"
  },
  "language_info": {
   "codemirror_mode": {
    "name": "ipython",
    "version": 3
   },
   "file_extension": ".py",
   "mimetype": "text/x-python",
   "name": "python",
   "nbconvert_exporter": "python",
   "pygments_lexer": "ipython3",
   "version": "3.9.4"
  }
 },
 "nbformat": 4,
 "nbformat_minor": 4
}
