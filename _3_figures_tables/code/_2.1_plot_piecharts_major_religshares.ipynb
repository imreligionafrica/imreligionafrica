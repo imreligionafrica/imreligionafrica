{
 "cells": [
  {
   "cell_type": "code",
   "execution_count": 1,
   "metadata": {},
   "outputs": [],
   "source": [
    "import pandas as pd\n",
    "import numpy as np\n",
    "import country_converter as coco\n",
    "import re\n",
    "import matplotlib.pyplot as plt\n",
    "import matplotlib as mpl\n",
    "plt.style.use('seaborn')\n",
    "mpl.rcParams['font.family'] = 'serif'\n",
    "import seaborn as sns\n",
    "import os"
   ]
  },
  {
   "cell_type": "code",
   "execution_count": 2,
   "metadata": {},
   "outputs": [],
   "source": [
    "current_folder = globals()['_dh'][0]\n",
    "rootdir = os.path.dirname(os.path.dirname(current_folder))\n",
    "wdir = os.path.join(rootdir, '_2_intermediate', 'data')\n",
    "outdir = os.path.join(rootdir, '_3_figures_tables', 'data')"
   ]
  },
  {
   "cell_type": "code",
   "execution_count": 3,
   "metadata": {},
   "outputs": [],
   "source": [
    "pop = pd.read_csv(os.path.join(wdir, 'pop_world.csv'))"
   ]
  },
  {
   "cell_type": "markdown",
   "metadata": {},
   "source": [
    "### number of observations\n",
    "\n",
    "\n",
    "\n"
   ]
  },
  {
   "cell_type": "code",
   "execution_count": 4,
   "metadata": {},
   "outputs": [
    {
     "data": {
      "text/plain": [
       "82037564"
      ]
     },
     "execution_count": 4,
     "metadata": {},
     "output_type": "execute_result"
    }
   ],
   "source": [
    "df = pd.read_csv(os.path.join(wdir, 'religions__mastertab.csv'))\n",
    "df = df[~pd.isnull(df.major_religion)].sort_values(['iso', 'nr'], ascending=[True, False]).reset_index(drop=True).copy(deep=True)\n",
    "df = df[['iso',\n",
    "         'major_religion',\n",
    "         'nr']].drop_duplicates(subset=['iso', 'major_religion']).reset_index(drop=True)\n",
    "df.nr.sum()"
   ]
  },
  {
   "cell_type": "markdown",
   "metadata": {},
   "source": [
    "# Shares"
   ]
  },
  {
   "cell_type": "code",
   "execution_count": 5,
   "metadata": {},
   "outputs": [],
   "source": [
    "df = pd.read_csv(os.path.join(wdir, 'religions__mastertab.csv'))\n",
    "df = df[~pd.isnull(df.major_religion)].sort_values(['iso', 'nr'], ascending=[True, False]).reset_index(drop=True).copy(deep=True)\n",
    "df = df[['iso',\n",
    "         'major_religion',\n",
    "         'shr',\n",
    "         'shre']].drop_duplicates(subset=['iso', 'major_religion']).reset_index(drop=True)\n",
    "bal = pd.DataFrame([sorted(list(pd.unique(df.iso))*5), ['Christian', 'Muslim', 'Traditional', 'Other', 'No Religion']*20]).T\n",
    "bal.columns = ['iso', 'major_religion']\n",
    "df = pd.merge(df, bal, on=['iso', 'major_religion'], how='outer')\n",
    "df.loc[pd.isnull(df.shr), 'shr'] = 0\n",
    "df.loc[pd.isnull(df.shre), 'shre'] = 0\n",
    "df = df.sort_values(['iso', 'major_religion']).reset_index(drop=True).copy(deep=True)"
   ]
  },
  {
   "cell_type": "markdown",
   "metadata": {},
   "source": [
    "# Unweighted average"
   ]
  },
  {
   "cell_type": "code",
   "execution_count": 6,
   "metadata": {},
   "outputs": [
    {
     "data": {
      "text/html": [
       "<div>\n",
       "<style scoped>\n",
       "    .dataframe tbody tr th:only-of-type {\n",
       "        vertical-align: middle;\n",
       "    }\n",
       "\n",
       "    .dataframe tbody tr th {\n",
       "        vertical-align: top;\n",
       "    }\n",
       "\n",
       "    .dataframe thead th {\n",
       "        text-align: right;\n",
       "    }\n",
       "</style>\n",
       "<table border=\"1\" class=\"dataframe\">\n",
       "  <thead>\n",
       "    <tr style=\"text-align: right;\">\n",
       "      <th></th>\n",
       "      <th>major_religion</th>\n",
       "      <th>shr</th>\n",
       "      <th>shre</th>\n",
       "    </tr>\n",
       "  </thead>\n",
       "  <tbody>\n",
       "    <tr>\n",
       "      <th>0</th>\n",
       "      <td>Christian</td>\n",
       "      <td>0.518639</td>\n",
       "      <td>0.518530</td>\n",
       "    </tr>\n",
       "    <tr>\n",
       "      <th>1</th>\n",
       "      <td>Muslim</td>\n",
       "      <td>0.353042</td>\n",
       "      <td>0.353960</td>\n",
       "    </tr>\n",
       "    <tr>\n",
       "      <th>2</th>\n",
       "      <td>No Religion</td>\n",
       "      <td>0.042775</td>\n",
       "      <td>0.041810</td>\n",
       "    </tr>\n",
       "    <tr>\n",
       "      <th>3</th>\n",
       "      <td>Other</td>\n",
       "      <td>0.031910</td>\n",
       "      <td>0.032027</td>\n",
       "    </tr>\n",
       "    <tr>\n",
       "      <th>4</th>\n",
       "      <td>Traditional</td>\n",
       "      <td>0.053634</td>\n",
       "      <td>0.053673</td>\n",
       "    </tr>\n",
       "  </tbody>\n",
       "</table>\n",
       "</div>"
      ],
      "text/plain": [
       "  major_religion       shr      shre\n",
       "0      Christian  0.518639  0.518530\n",
       "1         Muslim  0.353042  0.353960\n",
       "2    No Religion  0.042775  0.041810\n",
       "3          Other  0.031910  0.032027\n",
       "4    Traditional  0.053634  0.053673"
      ]
     },
     "execution_count": 6,
     "metadata": {},
     "output_type": "execute_result"
    }
   ],
   "source": [
    "uw = df[['major_religion', 'shr', 'shre']].groupby('major_religion').mean().reset_index(drop=False).copy(deep=True)\n",
    "uw"
   ]
  },
  {
   "cell_type": "markdown",
   "metadata": {},
   "source": [
    "# Weighted average"
   ]
  },
  {
   "cell_type": "code",
   "execution_count": 7,
   "metadata": {},
   "outputs": [
    {
     "name": "stdout",
     "output_type": "stream",
     "text": [
      "both          110\n",
      "left_only       0\n",
      "right_only      0\n",
      "Name: _merge, dtype: int64\n"
     ]
    }
   ],
   "source": [
    "pop = pop[pop.year==1980].reset_index(drop=True).copy(deep=True)\n",
    "df = pd.merge(df, pop, on='iso', how='left', indicator=True)\n",
    "print(df._merge.value_counts())\n",
    "del df['_merge']\n",
    "df['pop'] = df['pop'] / df.drop_duplicates(subset='iso').reset_index(drop=True)['pop'].sum()\n",
    "df['shr'] = df.shr*df['pop']\n",
    "df['shre'] = df.shre*df['pop']"
   ]
  },
  {
   "cell_type": "code",
   "execution_count": 8,
   "metadata": {},
   "outputs": [],
   "source": [
    "ww = df[['major_religion', 'shr', 'shre']].groupby('major_religion').sum().reset_index(drop=False).copy(deep=True)"
   ]
  },
  {
   "cell_type": "code",
   "execution_count": 9,
   "metadata": {},
   "outputs": [
    {
     "data": {
      "text/html": [
       "<div>\n",
       "<style scoped>\n",
       "    .dataframe tbody tr th:only-of-type {\n",
       "        vertical-align: middle;\n",
       "    }\n",
       "\n",
       "    .dataframe tbody tr th {\n",
       "        vertical-align: top;\n",
       "    }\n",
       "\n",
       "    .dataframe thead th {\n",
       "        text-align: right;\n",
       "    }\n",
       "</style>\n",
       "<table border=\"1\" class=\"dataframe\">\n",
       "  <thead>\n",
       "    <tr style=\"text-align: right;\">\n",
       "      <th></th>\n",
       "      <th>major_religion</th>\n",
       "      <th>shr</th>\n",
       "      <th>shre</th>\n",
       "    </tr>\n",
       "  </thead>\n",
       "  <tbody>\n",
       "    <tr>\n",
       "      <th>0</th>\n",
       "      <td>Christian</td>\n",
       "      <td>0.502288</td>\n",
       "      <td>0.508416</td>\n",
       "    </tr>\n",
       "    <tr>\n",
       "      <th>1</th>\n",
       "      <td>Muslim</td>\n",
       "      <td>0.427310</td>\n",
       "      <td>0.422146</td>\n",
       "    </tr>\n",
       "    <tr>\n",
       "      <th>2</th>\n",
       "      <td>No Religion</td>\n",
       "      <td>0.029937</td>\n",
       "      <td>0.028450</td>\n",
       "    </tr>\n",
       "    <tr>\n",
       "      <th>3</th>\n",
       "      <td>Other</td>\n",
       "      <td>0.011093</td>\n",
       "      <td>0.010938</td>\n",
       "    </tr>\n",
       "    <tr>\n",
       "      <th>4</th>\n",
       "      <td>Traditional</td>\n",
       "      <td>0.029372</td>\n",
       "      <td>0.030050</td>\n",
       "    </tr>\n",
       "  </tbody>\n",
       "</table>\n",
       "</div>"
      ],
      "text/plain": [
       "  major_religion       shr      shre\n",
       "0      Christian  0.502288  0.508416\n",
       "1         Muslim  0.427310  0.422146\n",
       "2    No Religion  0.029937  0.028450\n",
       "3          Other  0.011093  0.010938\n",
       "4    Traditional  0.029372  0.030050"
      ]
     },
     "execution_count": 9,
     "metadata": {},
     "output_type": "execute_result"
    }
   ],
   "source": [
    "ww"
   ]
  },
  {
   "cell_type": "code",
   "execution_count": 10,
   "metadata": {},
   "outputs": [
    {
     "data": {
      "text/html": [
       "<div>\n",
       "<style scoped>\n",
       "    .dataframe tbody tr th:only-of-type {\n",
       "        vertical-align: middle;\n",
       "    }\n",
       "\n",
       "    .dataframe tbody tr th {\n",
       "        vertical-align: top;\n",
       "    }\n",
       "\n",
       "    .dataframe thead th {\n",
       "        text-align: right;\n",
       "    }\n",
       "</style>\n",
       "<table border=\"1\" class=\"dataframe\">\n",
       "  <thead>\n",
       "    <tr style=\"text-align: right;\">\n",
       "      <th></th>\n",
       "      <th>major_religion</th>\n",
       "      <th>shr</th>\n",
       "      <th>shre</th>\n",
       "    </tr>\n",
       "  </thead>\n",
       "  <tbody>\n",
       "    <tr>\n",
       "      <th>0</th>\n",
       "      <td>Christian</td>\n",
       "      <td>0.518639</td>\n",
       "      <td>0.518530</td>\n",
       "    </tr>\n",
       "    <tr>\n",
       "      <th>1</th>\n",
       "      <td>Muslim</td>\n",
       "      <td>0.353042</td>\n",
       "      <td>0.353960</td>\n",
       "    </tr>\n",
       "    <tr>\n",
       "      <th>2</th>\n",
       "      <td>No Religion</td>\n",
       "      <td>0.042775</td>\n",
       "      <td>0.041810</td>\n",
       "    </tr>\n",
       "    <tr>\n",
       "      <th>3</th>\n",
       "      <td>Other</td>\n",
       "      <td>0.031910</td>\n",
       "      <td>0.032027</td>\n",
       "    </tr>\n",
       "    <tr>\n",
       "      <th>4</th>\n",
       "      <td>Traditional</td>\n",
       "      <td>0.053634</td>\n",
       "      <td>0.053673</td>\n",
       "    </tr>\n",
       "  </tbody>\n",
       "</table>\n",
       "</div>"
      ],
      "text/plain": [
       "  major_religion       shr      shre\n",
       "0      Christian  0.518639  0.518530\n",
       "1         Muslim  0.353042  0.353960\n",
       "2    No Religion  0.042775  0.041810\n",
       "3          Other  0.031910  0.032027\n",
       "4    Traditional  0.053634  0.053673"
      ]
     },
     "execution_count": 10,
     "metadata": {},
     "output_type": "execute_result"
    }
   ],
   "source": [
    "uw"
   ]
  },
  {
   "cell_type": "code",
   "execution_count": 11,
   "metadata": {},
   "outputs": [
    {
     "data": {
      "text/plain": [
       "shr     1.0\n",
       "shre    1.0\n",
       "dtype: float64"
      ]
     },
     "execution_count": 11,
     "metadata": {},
     "output_type": "execute_result"
    }
   ],
   "source": [
    "ww.iloc[:,1:].sum(axis=0)"
   ]
  },
  {
   "cell_type": "code",
   "execution_count": 12,
   "metadata": {},
   "outputs": [
    {
     "data": {
      "text/plain": [
       "shr     1.0\n",
       "shre    1.0\n",
       "dtype: float64"
      ]
     },
     "execution_count": 12,
     "metadata": {},
     "output_type": "execute_result"
    }
   ],
   "source": [
    "uw.iloc[:,1:].sum(axis=0)"
   ]
  },
  {
   "cell_type": "code",
   "execution_count": 13,
   "metadata": {},
   "outputs": [],
   "source": [
    "palette = sns.color_palette(n_colors=5)"
   ]
  },
  {
   "cell_type": "markdown",
   "metadata": {},
   "source": [
    "# Plotting"
   ]
  },
  {
   "cell_type": "markdown",
   "metadata": {},
   "source": [
    "## 1. Unweighted `shr`"
   ]
  },
  {
   "cell_type": "code",
   "execution_count": 14,
   "metadata": {},
   "outputs": [],
   "source": [
    "f, ax = plt.subplots()\n",
    "w,l,p = ax.pie(uw.shr,\n",
    "        explode=None,\n",
    "        labels=uw.major_religion,\n",
    "        rotatelabels=False,\n",
    "        autopct='%1.1f%%',\n",
    "        pctdistance=0.5,\n",
    "        labeldistance=1.1,\n",
    "        colors = palette)\n",
    "f.savefig('{}/_0a_shr_majrel_uw_shr.pdf'.format(outdir), bbox_inches='tight', dpi=100)\n",
    "plt.close(f)\n",
    "plt.show()"
   ]
  },
  {
   "cell_type": "markdown",
   "metadata": {},
   "source": [
    "## 2. Unweighted `shre`"
   ]
  },
  {
   "cell_type": "code",
   "execution_count": 15,
   "metadata": {},
   "outputs": [],
   "source": [
    "f, ax = plt.subplots()\n",
    "w,l,p = ax.pie(uw.shre,\n",
    "        explode=None,\n",
    "        labels=uw.major_religion,\n",
    "        rotatelabels=False,\n",
    "        autopct='%1.1f%%',\n",
    "        pctdistance=0.5,\n",
    "        labeldistance=1.1,\n",
    "        colors = palette)\n",
    "f.savefig('{}/_0b_shr_majrel_uw_shre.pdf'.format(outdir), bbox_inches='tight', dpi=100)\n",
    "plt.close(f)\n",
    "plt.show()"
   ]
  },
  {
   "cell_type": "markdown",
   "metadata": {},
   "source": [
    "## 3. Weighted `shr`"
   ]
  },
  {
   "cell_type": "code",
   "execution_count": 16,
   "metadata": {},
   "outputs": [],
   "source": [
    "f, ax = plt.subplots()\n",
    "w,l,p = ax.pie(ww.shr,\n",
    "        explode=None,\n",
    "        labels=ww.major_religion,\n",
    "        rotatelabels=False,\n",
    "        autopct='%1.1f%%',\n",
    "        pctdistance=0.5,\n",
    "        labeldistance=1.1,\n",
    "        colors = palette)\n",
    "f.savefig('{}/_0c_shr_majrel_ww_shr.pdf'.format(outdir), bbox_inches='tight', dpi=100)\n",
    "plt.close(f)\n",
    "plt.show()"
   ]
  },
  {
   "cell_type": "markdown",
   "metadata": {},
   "source": [
    "## 4. Weighted `shre`"
   ]
  },
  {
   "cell_type": "code",
   "execution_count": 17,
   "metadata": {},
   "outputs": [],
   "source": [
    "f, ax = plt.subplots()\n",
    "w,l,p = ax.pie(ww.shre,\n",
    "        explode=None,\n",
    "        labels=ww.major_religion,\n",
    "        rotatelabels=False,\n",
    "        autopct='%1.1f%%',\n",
    "        pctdistance=0.5,\n",
    "        labeldistance=1.1,\n",
    "        colors = palette)\n",
    "f.savefig('{}/_0d_shr_majrel_ww_shre.pdf'.format(outdir), bbox_inches='tight', dpi=100)\n",
    "plt.close(f)\n",
    "plt.show()"
   ]
  }
 ],
 "metadata": {
  "kernelspec": {
   "display_name": "Python 3",
   "language": "python",
   "name": "python3"
  },
  "language_info": {
   "codemirror_mode": {
    "name": "ipython",
    "version": 3
   },
   "file_extension": ".py",
   "mimetype": "text/x-python",
   "name": "python",
   "nbconvert_exporter": "python",
   "pygments_lexer": "ipython3",
   "version": "3.9.4"
  }
 },
 "nbformat": 4,
 "nbformat_minor": 4
}
