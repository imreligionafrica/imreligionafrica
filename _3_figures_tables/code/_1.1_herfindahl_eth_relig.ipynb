{
 "cells": [
  {
   "cell_type": "code",
   "execution_count": 1,
   "metadata": {},
   "outputs": [],
   "source": [
    "import pandas as pd\n",
    "import matplotlib as mpl\n",
    "import matplotlib.pyplot as plt\n",
    "plt.style.use('seaborn')\n",
    "mpl.rcParams['font.family'] = 'serif'\n",
    "import os"
   ]
  },
  {
   "cell_type": "code",
   "execution_count": 2,
   "metadata": {},
   "outputs": [],
   "source": [
    "current_folder = globals()['_dh'][0]\n",
    "rootdir = os.path.dirname(os.path.dirname(current_folder))\n",
    "indir_prepro = os.path.join(rootdir, '_1_preprocessing', 'data', 'raw', 'eth')\n",
    "indir_inter = os.path.join(rootdir, '_2_intermediate', 'data')\n",
    "outdir = os.path.join(rootdir, '_3_figures_tables', 'data')"
   ]
  },
  {
   "cell_type": "code",
   "execution_count": 3,
   "metadata": {},
   "outputs": [],
   "source": [
    "df = pd.read_csv(os.path.join(indir_inter, '_nobs_bd_eth_rel.csv'))\n",
    "ethconc = pd.read_csv(os.path.join(indir_prepro, 'all_iso_eth_correspondence.csv'))\n",
    "ethconc = (ethconc[~pd.isnull(ethconc.eth_hrm)][\n",
    "    ['iso', 'eth_hrm', 'eth_hrm_name']]\n",
    "           .drop_duplicates(subset=['iso', 'eth_hrm'])\n",
    "           .reset_index(drop=True)\n",
    "          )\n",
    "df = pd.merge(df, ethconc, on=['iso', 'eth_hrm'], how='left')\n",
    "df = df[['iso', 'bd', 'major_religion', 'eth_hrm_name', 'nobs']].copy()"
   ]
  },
  {
   "cell_type": "code",
   "execution_count": 4,
   "metadata": {},
   "outputs": [],
   "source": [
    "df_all = pd.DataFrame(df.nobs.groupby([df.iso,\n",
    "                                       df.major_religion,\n",
    "                                       df.eth_hrm_name]).sum()).reset_index(drop=False)\n",
    "df_1980 = df[df.bd == 1980].reset_index(drop=True)\n",
    "del df_1980['bd']\n",
    "neth_all = pd.DataFrame(df_all.nobs.groupby([df_all.iso,\n",
    "                                             df_all.eth_hrm_name]).sum()).reset_index(drop=False)\n",
    "neth_1980 = pd.DataFrame(df_1980.nobs.groupby([df_1980.iso,\n",
    "                                               df_1980.eth_hrm_name]).sum()).reset_index(drop=False)\n",
    "neth_all.columns = ['iso', 'eth_hrm_name', 'neth_all']\n",
    "neth_1980.columns = ['iso', 'eth_hrm_name', 'neth_all']\n",
    "df_all = pd.merge(df_all, neth_all, on=['iso', 'eth_hrm_name'], how='inner')\n",
    "df_1980 = pd.merge(df_1980, neth_1980, on=['iso', 'eth_hrm_name'], how='inner')\n",
    "\n",
    "df_all['shr'] = (df_all.nobs / df_all.neth_all)\n",
    "df_1980['shr'] = (df_1980.nobs / df_1980.neth_all)"
   ]
  },
  {
   "cell_type": "code",
   "execution_count": 5,
   "metadata": {},
   "outputs": [],
   "source": [
    "df_all.to_csv(outdir + '/eth_relshares_allbd.csv', index=False)\n",
    "df_1980.to_csv(outdir + '/eth_relshares_1980bd.csv', index=False)"
   ]
  },
  {
   "cell_type": "code",
   "execution_count": 6,
   "metadata": {},
   "outputs": [],
   "source": [
    "df_all['shr2'] = (df_all.nobs / df_all.neth_all) ** 2\n",
    "df_1980['shr2'] = (df_1980.nobs / df_1980.neth_all) ** 2"
   ]
  },
  {
   "cell_type": "code",
   "execution_count": 7,
   "metadata": {},
   "outputs": [],
   "source": [
    "df_all =  pd.DataFrame(df_all.shr2.groupby([df_all.iso, df_all.eth_hrm_name]).sum()).reset_index(drop=False)\n",
    "df_1980 =  pd.DataFrame(df_1980.shr2.groupby([df_all.iso, df_1980.eth_hrm_name]).sum()).reset_index(drop=False)"
   ]
  },
  {
   "cell_type": "code",
   "execution_count": 8,
   "metadata": {},
   "outputs": [
    {
     "data": {
      "text/html": [
       "<div>\n",
       "<style scoped>\n",
       "    .dataframe tbody tr th:only-of-type {\n",
       "        vertical-align: middle;\n",
       "    }\n",
       "\n",
       "    .dataframe tbody tr th {\n",
       "        vertical-align: top;\n",
       "    }\n",
       "\n",
       "    .dataframe thead th {\n",
       "        text-align: right;\n",
       "    }\n",
       "</style>\n",
       "<table border=\"1\" class=\"dataframe\">\n",
       "  <thead>\n",
       "    <tr style=\"text-align: right;\">\n",
       "      <th></th>\n",
       "      <th>iso</th>\n",
       "      <th>eth_hrm_name</th>\n",
       "      <th>shr2</th>\n",
       "    </tr>\n",
       "  </thead>\n",
       "  <tbody>\n",
       "    <tr>\n",
       "      <th>0</th>\n",
       "      <td>BEN</td>\n",
       "      <td>Adja</td>\n",
       "      <td>0.420562</td>\n",
       "    </tr>\n",
       "    <tr>\n",
       "      <th>1</th>\n",
       "      <td>BEN</td>\n",
       "      <td>Bariba</td>\n",
       "      <td>0.441589</td>\n",
       "    </tr>\n",
       "    <tr>\n",
       "      <th>2</th>\n",
       "      <td>BEN</td>\n",
       "      <td>Dendi</td>\n",
       "      <td>0.951218</td>\n",
       "    </tr>\n",
       "    <tr>\n",
       "      <th>3</th>\n",
       "      <td>BEN</td>\n",
       "      <td>Fon</td>\n",
       "      <td>0.486362</td>\n",
       "    </tr>\n",
       "    <tr>\n",
       "      <th>4</th>\n",
       "      <td>BEN</td>\n",
       "      <td>Otamari</td>\n",
       "      <td>0.331818</td>\n",
       "    </tr>\n",
       "    <tr>\n",
       "      <th>...</th>\n",
       "      <td>...</td>\n",
       "      <td>...</td>\n",
       "      <td>...</td>\n",
       "    </tr>\n",
       "    <tr>\n",
       "      <th>190</th>\n",
       "      <td>ZMB</td>\n",
       "      <td>Nyanja</td>\n",
       "      <td>0.849888</td>\n",
       "    </tr>\n",
       "    <tr>\n",
       "      <th>191</th>\n",
       "      <td>ZMB</td>\n",
       "      <td>Other African</td>\n",
       "      <td>0.666310</td>\n",
       "    </tr>\n",
       "    <tr>\n",
       "      <th>192</th>\n",
       "      <td>ZMB</td>\n",
       "      <td>Tonga</td>\n",
       "      <td>0.881185</td>\n",
       "    </tr>\n",
       "    <tr>\n",
       "      <th>193</th>\n",
       "      <td>ZMB</td>\n",
       "      <td>Tumbuka</td>\n",
       "      <td>0.821130</td>\n",
       "    </tr>\n",
       "    <tr>\n",
       "      <th>194</th>\n",
       "      <td>ZMB</td>\n",
       "      <td>Ushi</td>\n",
       "      <td>0.876342</td>\n",
       "    </tr>\n",
       "  </tbody>\n",
       "</table>\n",
       "<p>195 rows × 3 columns</p>\n",
       "</div>"
      ],
      "text/plain": [
       "     iso   eth_hrm_name      shr2\n",
       "0    BEN           Adja  0.420562\n",
       "1    BEN         Bariba  0.441589\n",
       "2    BEN          Dendi  0.951218\n",
       "3    BEN            Fon  0.486362\n",
       "4    BEN        Otamari  0.331818\n",
       "..   ...            ...       ...\n",
       "190  ZMB         Nyanja  0.849888\n",
       "191  ZMB  Other African  0.666310\n",
       "192  ZMB          Tonga  0.881185\n",
       "193  ZMB        Tumbuka  0.821130\n",
       "194  ZMB           Ushi  0.876342\n",
       "\n",
       "[195 rows x 3 columns]"
      ]
     },
     "execution_count": 8,
     "metadata": {},
     "output_type": "execute_result"
    }
   ],
   "source": [
    "df_all"
   ]
  },
  {
   "cell_type": "code",
   "execution_count": 9,
   "metadata": {},
   "outputs": [],
   "source": [
    "f, ax = plt.subplots(1, 1, figsize=(10, 6))\n",
    "ax.hist(df_all.shr2, bins=30, edgecolor='k')\n",
    "ax.set_xlabel('within-ethnicity Herfindahl index of religion shares', size=15)\n",
    "ax.set_ylabel('number of ethnic groups', size=15)\n",
    "ax.tick_params(axis='both', which='major', labelsize=15)\n",
    "ax.set_xlim([0,1])\n",
    "# plt.show()\n",
    "# f.savefig(outdir + '_3_herfindahl_eth_relshares_all_bd.pdf', bbox_inches='tight')\n",
    "plt.close(f)"
   ]
  },
  {
   "cell_type": "code",
   "execution_count": 10,
   "metadata": {},
   "outputs": [],
   "source": [
    "f, ax = plt.subplots(1, 1, figsize=(10, 6))\n",
    "ax.hist(df_1980.shr2, bins=30, edgecolor='k')\n",
    "ax.set_xlabel('within-ethnicity Herfindahl index of religion shares', size=15)\n",
    "ax.set_ylabel('number of ethnic groups', size=15)\n",
    "ax.tick_params(axis='both', which='major', labelsize=15)\n",
    "ax.set_xlim([0,1])\n",
    "# plt.show()\n",
    "# f.savefig(outdir + '_3_herfindahl_eth_relshares_1980_bd.pdf', bbox_inches='tight')\n",
    "plt.close(f)"
   ]
  },
  {
   "cell_type": "markdown",
   "metadata": {},
   "source": [
    "# Summary stats"
   ]
  },
  {
   "cell_type": "code",
   "execution_count": 11,
   "metadata": {},
   "outputs": [],
   "source": [
    "df = pd.read_csv(os.path.join(outdir, 'eth_relshares_allbd.csv'))[['iso', 'major_religion', 'eth_hrm_name']].copy()\n",
    "df['neth'] = df.groupby(['iso', 'major_religion'])['eth_hrm_name'].transform('count')\n",
    "df['nrel'] = df.groupby(['iso', 'eth_hrm_name'])['major_religion'].transform('count')"
   ]
  },
  {
   "cell_type": "code",
   "execution_count": 12,
   "metadata": {},
   "outputs": [],
   "source": [
    "eth = df.drop_duplicates(subset=['iso', 'eth_hrm_name']).agg({'nrel': ['min', 'median', 'max', 'mean', 'std']})"
   ]
  },
  {
   "cell_type": "code",
   "execution_count": 13,
   "metadata": {},
   "outputs": [
    {
     "data": {
      "text/html": [
       "<div>\n",
       "<style scoped>\n",
       "    .dataframe tbody tr th:only-of-type {\n",
       "        vertical-align: middle;\n",
       "    }\n",
       "\n",
       "    .dataframe tbody tr th {\n",
       "        vertical-align: top;\n",
       "    }\n",
       "\n",
       "    .dataframe thead th {\n",
       "        text-align: right;\n",
       "    }\n",
       "</style>\n",
       "<table border=\"1\" class=\"dataframe\">\n",
       "  <thead>\n",
       "    <tr style=\"text-align: right;\">\n",
       "      <th></th>\n",
       "      <th>nrel</th>\n",
       "    </tr>\n",
       "  </thead>\n",
       "  <tbody>\n",
       "    <tr>\n",
       "      <th>min</th>\n",
       "      <td>3.000000</td>\n",
       "    </tr>\n",
       "    <tr>\n",
       "      <th>median</th>\n",
       "      <td>5.000000</td>\n",
       "    </tr>\n",
       "    <tr>\n",
       "      <th>max</th>\n",
       "      <td>5.000000</td>\n",
       "    </tr>\n",
       "    <tr>\n",
       "      <th>mean</th>\n",
       "      <td>4.738462</td>\n",
       "    </tr>\n",
       "    <tr>\n",
       "      <th>std</th>\n",
       "      <td>0.452151</td>\n",
       "    </tr>\n",
       "  </tbody>\n",
       "</table>\n",
       "</div>"
      ],
      "text/plain": [
       "            nrel\n",
       "min     3.000000\n",
       "median  5.000000\n",
       "max     5.000000\n",
       "mean    4.738462\n",
       "std     0.452151"
      ]
     },
     "execution_count": 13,
     "metadata": {},
     "output_type": "execute_result"
    }
   ],
   "source": [
    "eth"
   ]
  },
  {
   "cell_type": "code",
   "execution_count": 14,
   "metadata": {},
   "outputs": [],
   "source": [
    "rel = df.drop_duplicates(subset=['iso', 'major_religion']).agg({'neth': ['min', 'median', 'max', 'mean', 'std']})"
   ]
  },
  {
   "cell_type": "code",
   "execution_count": 15,
   "metadata": {},
   "outputs": [
    {
     "data": {
      "text/html": [
       "<div>\n",
       "<style scoped>\n",
       "    .dataframe tbody tr th:only-of-type {\n",
       "        vertical-align: middle;\n",
       "    }\n",
       "\n",
       "    .dataframe tbody tr th {\n",
       "        vertical-align: top;\n",
       "    }\n",
       "\n",
       "    .dataframe thead th {\n",
       "        text-align: right;\n",
       "    }\n",
       "</style>\n",
       "<table border=\"1\" class=\"dataframe\">\n",
       "  <thead>\n",
       "    <tr style=\"text-align: right;\">\n",
       "      <th></th>\n",
       "      <th>neth</th>\n",
       "    </tr>\n",
       "  </thead>\n",
       "  <tbody>\n",
       "    <tr>\n",
       "      <th>min</th>\n",
       "      <td>8.000000</td>\n",
       "    </tr>\n",
       "    <tr>\n",
       "      <th>median</th>\n",
       "      <td>12.000000</td>\n",
       "    </tr>\n",
       "    <tr>\n",
       "      <th>max</th>\n",
       "      <td>21.000000</td>\n",
       "    </tr>\n",
       "    <tr>\n",
       "      <th>mean</th>\n",
       "      <td>13.014085</td>\n",
       "    </tr>\n",
       "    <tr>\n",
       "      <th>std</th>\n",
       "      <td>4.148986</td>\n",
       "    </tr>\n",
       "  </tbody>\n",
       "</table>\n",
       "</div>"
      ],
      "text/plain": [
       "             neth\n",
       "min      8.000000\n",
       "median  12.000000\n",
       "max     21.000000\n",
       "mean    13.014085\n",
       "std      4.148986"
      ]
     },
     "execution_count": 15,
     "metadata": {},
     "output_type": "execute_result"
    }
   ],
   "source": [
    "rel"
   ]
  }
 ],
 "metadata": {
  "kernelspec": {
   "display_name": "Python 3",
   "language": "python",
   "name": "python3"
  },
  "language_info": {
   "codemirror_mode": {
    "name": "ipython",
    "version": 3
   },
   "file_extension": ".py",
   "mimetype": "text/x-python",
   "name": "python",
   "nbconvert_exporter": "python",
   "pygments_lexer": "ipython3",
   "version": "3.9.4"
  }
 },
 "nbformat": 4,
 "nbformat_minor": 4
}
