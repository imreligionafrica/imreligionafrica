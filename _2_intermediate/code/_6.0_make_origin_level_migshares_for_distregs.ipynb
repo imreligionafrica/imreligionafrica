{
 "cells": [
  {
   "cell_type": "code",
   "execution_count": 1,
   "id": "106d5274-3ec9-46c9-99ba-c0d98218e666",
   "metadata": {},
   "outputs": [],
   "source": [
    "import pandas as pd\n",
    "import os"
   ]
  },
  {
   "cell_type": "code",
   "execution_count": 2,
   "id": "8b4b3256-c756-49c9-a6d2-c6ab33fe76d2",
   "metadata": {},
   "outputs": [],
   "source": [
    "def compute_migshares(df, timevar, origin_fe=None):\n",
    "    \n",
    "    iso_codes = ['BEN', 'BFA', 'BWA', 'CMR', 'EGY', \n",
    "                 'ETH', 'GHA', 'GIN', 'LBR', 'MLI', \n",
    "                 'MOZ', 'MUS', 'MWI', 'RWA', 'SEN', \n",
    "                 'SLE', 'TGO', 'UGA', 'ZAF', 'ZMB']\n",
    "    \n",
    "    religs = ['Christian', 'Muslim', 'Traditional']\n",
    "    \n",
    "    if timevar == 'age':\n",
    "        x = (df[df.bd==1980][['iso', timevar, 'year', 'major_religion', 'org', 'migrant', 'w']]\n",
    "             .groupby(['iso', timevar, 'year', 'major_religion', 'org', 'migrant'])\n",
    "             .sum()\n",
    "             .reset_index(drop=False))\n",
    "    else:\n",
    "        x = (df[['iso', timevar, 'year', 'major_religion', 'org', 'migrant', 'w']]\n",
    "             .groupby(['iso', timevar, 'year', 'major_religion', 'org', 'migrant'])\n",
    "             .sum()\n",
    "             .reset_index(drop=False))\n",
    "\n",
    "    x = x.set_index(['iso', timevar, 'year', 'major_religion', 'org', 'migrant'], drop=True).unstack().fillna(0).reset_index(drop=False)\n",
    "    x.columns = ['iso', timevar, 'year', 'major_religion', 'org', 'w0', 'w1']\n",
    "    x['tot'] = x.w0 + x.w1\n",
    "    x['shr'] = x.w1 / x.tot\n",
    "    x.drop(['w0', 'w1'], axis=1, inplace=True)\n",
    "    \n",
    "    if origin_fe == 'unweighted':\n",
    "        x['total_org_migshr'] = x.groupby(['iso', timevar, 'year', 'org'])['shr'].transform('mean')\n",
    "        x['shr'] = x.shr - x.total_org_migshr        \n",
    "        x.drop('total_org_migshr', axis=1, inplace=True)\n",
    "    elif origin_fe == 'weighted':\n",
    "        x['tottot'] = x.groupby(['iso', timevar, 'year', 'org'])['tot'].transform('sum')\n",
    "        x['orgobshr'] = x.tot / x.tottot\n",
    "        x['wshr'] = x.shr * x.orgobshr\n",
    "        x['total_org_migshr'] = x.groupby(['iso', timevar, 'year', 'org'])['wshr'].transform('sum')\n",
    "\n",
    "        # x['aux'] = x.groupby(['iso', timevar, 'year', 'org'])['orgobshr'].transform('sum')\n",
    "        # print(x[x.major_religion.isin(religs)].aux.min(), x[x.major_religion.isin(religs)].aux.max())\n",
    "        # x.drop('aux', axis=1)\n",
    "\n",
    "        x['shr'] = x.shr - x.total_org_migshr\n",
    "        x.drop(['tottot', 'orgobshr', 'wshr', 'total_org_migshr'], axis=1, inplace=True)\n",
    "        \n",
    "    x = x.groupby(['iso', 'bd', 'major_religion', 'org'])[['shr']].mean()\n",
    "    \n",
    "    return x"
   ]
  },
  {
   "cell_type": "code",
   "execution_count": 3,
   "id": "a35c671a-d00e-4802-8e2a-82c912762dd1",
   "metadata": {},
   "outputs": [],
   "source": [
    "cwd = globals()['_dh'][0] \n",
    "df = pd.read_csv(os.path.join(os.path.dirname(cwd), 'data', 'migrant_stock_data_all.csv'))"
   ]
  },
  {
   "cell_type": "code",
   "execution_count": 4,
   "id": "00c6b253-431d-4b13-b33d-25b323ac4c00",
   "metadata": {},
   "outputs": [],
   "source": [
    "n = compute_migshares(df, 'bd', origin_fe=None)\n",
    "n.columns = ['shr_nofe']\n",
    "u = compute_migshares(df, 'bd', origin_fe='unweighted')\n",
    "u.columns = ['shr_uwfe']\n",
    "w = compute_migshares(df, 'bd', origin_fe='weighted')\n",
    "w.columns = ['shr_wfe']"
   ]
  },
  {
   "cell_type": "code",
   "execution_count": 5,
   "id": "e7384a59-be1e-4e8e-b3f8-8f2ea28991d6",
   "metadata": {},
   "outputs": [],
   "source": [
    "out = n.join(u).join(w).reset_index(drop=False)"
   ]
  },
  {
   "cell_type": "code",
   "execution_count": 6,
   "id": "4352a238-3a32-4227-a798-5275c96d8294",
   "metadata": {},
   "outputs": [],
   "source": [
    "out.to_csv(os.path.join(os.path.dirname(cwd), 'data', 'migrant_shares_per_origin_for_regs.csv'), index=False)"
   ]
  }
 ],
 "metadata": {
  "kernelspec": {
   "display_name": "geo",
   "language": "python",
   "name": "python3"
  },
  "language_info": {
   "codemirror_mode": {
    "name": "ipython",
    "version": 3
   },
   "file_extension": ".py",
   "mimetype": "text/x-python",
   "name": "python",
   "nbconvert_exporter": "python",
   "pygments_lexer": "ipython3",
   "version": "3.11.2"
  },
  "vscode": {
   "interpreter": {
    "hash": "4dc5d84d173dc1171a3b7987f7238db85e775472178a8ee1f3827b7e8efb7280"
   }
  }
 },
 "nbformat": 4,
 "nbformat_minor": 5
}
